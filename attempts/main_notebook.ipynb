{
 "cells": [
  {
   "cell_type": "code",
   "execution_count": 1,
   "metadata": {},
   "outputs": [],
   "source": [
    "import os\n",
    "import csv"
   ]
  },
  {
   "cell_type": "code",
   "execution_count": 2,
   "metadata": {},
   "outputs": [],
   "source": [
    "def extract_landmarks_from_result(result):\n",
    "    pass"
   ]
  },
  {
   "cell_type": "code",
   "execution_count": 3,
   "metadata": {},
   "outputs": [],
   "source": [
    "def create_csv_output_folder(output_dir):\n",
    "    if not os.path.exists(output_dir):  # if the folder does not exist create it\n",
    "        os.mkdir(output_dir)\n",
    "\n",
    "\n",
    "def create_csv_file(file_name, landmarks):\n",
    "    # if the file does not exist create it\n",
    "    if not os.path.exists(output_file_path):\n",
    "        num_coords = len(results.pose_landmarks.landmark) + \\\n",
    "            len(results.face_landmarks.landmark)\n",
    "        landmarks = []\n",
    "        landmarks += ['timestamp']\n",
    "        landmarks += ['class']\n",
    "\n",
    "        for val in range(1, num_coords+1):\n",
    "            landmarks += ['x{}'.format(val), 'y{}'.format(val),\n",
    "                          'z{}'.format(val), 'v{}'.format(val)]\n",
    "\n",
    "    with open(file_name, mode='w', newline='') as f:\n",
    "        csv_writer = csv.writer(\n",
    "            f, delimiter=',', quotechar='\"', quoting=csv.QUOTE_MINIMAL)\n",
    "        csv_writer.writerow(landmarks)\n",
    "\n",
    "def create_csv_output_file(output_file, results):\n",
    "    current_dir = os.path.dirname(os.path.abspath(__file__))\n",
    "    output_dir = os.path.join(current_dir, 'csv_output_folder')\n",
    "\n",
    "    create_csv_output_folder(output_dir) # creating the output folder\n",
    "\n",
    "    output_file = output_dir + '/' + output_file\n",
    "    create_csv_file(output_file, landmarks) # creating the output file"
   ]
  },
  {
   "cell_type": "code",
   "execution_count": 8,
   "metadata": {},
   "outputs": [],
   "source": [
    "import cv2\n",
    "import matplotlib.pyplot as plt\n",
    "from mpl_toolkits.mplot3d import Axes3D\n",
    "import mediapipe as mp\n",
    "import pandas as pd\n",
    "import numpy as np\n",
    "\n",
    "\n",
    "def extract_landmarks(landmarks):\n",
    "    if landmarks:\n",
    "        return list(np.array([[landmark.x, landmark.y, landmark.z, landmark.visibility] for landmark in landmarks.landmark]).flatten())\n",
    "    else:\n",
    "        return [0] * 84\n",
    "\n",
    "\n",
    "def process_video(input_file, output_file, gesture):\n",
    "    mp_holistic, mp_drawing = mp.solutions.holistic, mp.solutions.drawing_utils\n",
    "    with mp_holistic.Holistic(static_image_mode=True) as holistic:\n",
    "        cap = cv2.VideoCapture(input_file)\n",
    "        coords = []\n",
    "        while cap.isOpened():\n",
    "            success, image = cap.read()\n",
    "            if not success:\n",
    "                break\n",
    "            image = cv2.cvtColor(image, cv2.COLOR_BGR2RGB)\n",
    "            height, width, _ = image.shape\n",
    "            results = holistic.process(image)\n",
    "\n",
    "            # Extract landmarks for each body part\n",
    "            face_row = extract_landmarks(results.face_landmarks)\n",
    "            left_hand_row = extract_landmarks(results.left_hand_landmarks)\n",
    "            right_hand_row = extract_landmarks(results.right_hand_landmarks)\n",
    "            pose_row = extract_landmarks(results.pose_landmarks)\n",
    "\n",
    "            # Combine all landmark points into a single list\n",
    "            feature_vector = face_row + pose_row + left_hand_row + right_hand_row\n",
    "            if results.face_landmarks:\n",
    "                feature_vector = [gesture] + feature_vector\n",
    "                coords.append(feature_vector)\n",
    "        cap.release()\n",
    "        df = pd.DataFrame(coords)\n",
    "        df.to_csv(output_file, index=False)\n",
    "        return df"
   ]
  },
  {
   "cell_type": "code",
   "execution_count": 9,
   "metadata": {},
   "outputs": [],
   "source": [
    "df = process_video('happy1.mp4', 'train_set.csv', 'happy')\n",
    "df = process_video('sad1.mp4', 'train_set.csv', 'sad')\n",
    "# print(df.head())"
   ]
  },
  {
   "cell_type": "code",
   "execution_count": null,
   "metadata": {},
   "outputs": [],
   "source": [
    "def predict(input_file, model):\n",
    "    mp_holistic = mp.solutions.holistic\n",
    "    with mp_holistic.Holistic(static_image_mode=True) as holistic:\n",
    "        cap = cv2.VideoCapture(input_file)\n",
    "        while cap.isOpened():\n",
    "            success, image = cap.read()\n",
    "            if not success:\n",
    "                break\n",
    "            image = cv2.cvtColor(image, cv2.COLOR_BGR2RGB)\n",
    "            height, width, _ = image.shape\n",
    "            results = holistic.process(image)\n",
    "\n",
    "            # Extract landmarks for each body part\n",
    "            face_row = extract_landmarks(results.face_landmarks)\n",
    "            left_hand_row = extract_landmarks(results.left_hand_landmarks)\n",
    "            right_hand_row = extract_landmarks(results.right_hand_landmarks)\n",
    "            pose_row = extract_landmarks(results.pose_landmarks)\n",
    "\n",
    "            # Combine all landmark points into a single list\n",
    "            feature_vector = face_row + pose_row + left_hand_row + right_hand_row\n",
    "            if results.face_landmarks:\n",
    "                # Reshape feature vector to match the input shape of the model\n",
    "                feature_vector = np.array(feature_vector).reshape(1, -1)\n",
    "                # Normalize the feature vector\n",
    "                feature_vector = feature_vector / \\\n",
    "                    np.linalg.norm(feature_vector)\n",
    "                # Make a prediction using the model\n",
    "                prediction = model.predict(feature_vector)[0]\n",
    "                # Display the prediction on the image\n",
    "                cv2.putText(image, prediction, (50, 50),\n",
    "                            cv2.FONT_HERSHEY_SIMPLEX, 1, (0, 255, 0), 2)\n",
    "            # Show the image\n",
    "            cv2.imshow('Video', image)\n",
    "            if cv2.waitKey(1) & 0xFF == ord('q'):\n",
    "                break\n",
    "        cap.release()\n",
    "        cv2.destroyAllWindows()\n"
   ]
  },
  {
   "cell_type": "code",
   "execution_count": null,
   "metadata": {},
   "outputs": [],
   "source": [
    "# used to create a train set csv of coordinates\n",
    "# reads a video file mp4 and add its coordinates to a csv file\n",
    "# input_file: a video of a specific gesture of type mp4, \n",
    "# output_file: a CSV file containing the co-ordinates with the specified gesture\n",
    "\n",
    "def f(input_file, output_file):\n",
    "    pass"
   ]
  },
  {
   "cell_type": "code",
   "execution_count": null,
   "metadata": {},
   "outputs": [],
   "source": []
  }
 ],
 "metadata": {
  "kernelspec": {
   "display_name": "Python 3",
   "language": "python",
   "name": "python3"
  },
  "language_info": {
   "codemirror_mode": {
    "name": "ipython",
    "version": 3
   },
   "file_extension": ".py",
   "mimetype": "text/x-python",
   "name": "python",
   "nbconvert_exporter": "python",
   "pygments_lexer": "ipython3",
   "version": "3.10.4"
  },
  "orig_nbformat": 4
 },
 "nbformat": 4,
 "nbformat_minor": 2
}
