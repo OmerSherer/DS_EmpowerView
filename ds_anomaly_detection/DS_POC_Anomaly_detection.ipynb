{
  "nbformat": 4,
  "nbformat_minor": 0,
  "metadata": {
    "colab": {
      "provenance": [],
      "collapsed_sections": [
        "5GSkY-D0qem5",
        "RRW-8ZpxdAb0",
        "PgLl6vjprplE",
        "8cKEGoSocMnN",
        "TVXSfOIu0aNj",
        "Ndhacg-A04KA"
      ]
    },
    "kernelspec": {
      "name": "python3",
      "display_name": "Python 3"
    },
    "language_info": {
      "name": "python"
    },
    "accelerator": "GPU",
    "gpuClass": "standard"
  },
  "cells": [
    {
      "cell_type": "markdown",
      "source": [
        "#Anomaly detection using DS methods and RNN\n",
        "In this notebook we will analyze anomalies in people behevior by anlayzing their filmed interview."
      ],
      "metadata": {
        "id": "xpOz61gCpZ6A"
      }
    },
    {
      "cell_type": "markdown",
      "source": [
        "##Import and preprocesing\n",
        "We will use google's holistic net that captures face and body keypoints."
      ],
      "metadata": {
        "id": "lp0IMJu7qA6z"
      }
    },
    {
      "cell_type": "code",
      "execution_count": 1,
      "metadata": {
        "colab": {
          "base_uri": "https://localhost:8080/"
        },
        "id": "U4Wfu9MwDl78",
        "outputId": "fb86f301-4762-439c-8504-298fd61afa76"
      },
      "outputs": [
        {
          "output_type": "stream",
          "name": "stdout",
          "text": [
            "Downloading...\n",
            "From: https://drive.google.com/uc?id=18zrd1g-2_SWBDfDvoSiJ4y7NEiviezci\n",
            "To: /content/holistic_interface.zip\n",
            "\r  0% 0.00/3.65k [00:00<?, ?B/s]\r100% 3.65k/3.65k [00:00<00:00, 6.60MB/s]\n",
            "Archive:  holistic_interface.zip\n",
            "  inflating: help_functions.py       \n",
            "  inflating: __MACOSX/._help_functions.py  \n",
            "  inflating: holistic_interface.py   \n",
            "  inflating: __MACOSX/._holistic_interface.py  \n",
            "Looking in indexes: https://pypi.org/simple, https://us-python.pkg.dev/colab-wheels/public/simple/\n",
            "Collecting mediapipe\n",
            "  Downloading mediapipe-0.9.1.0-cp39-cp39-manylinux_2_17_x86_64.manylinux2014_x86_64.whl (33.0 MB)\n",
            "\u001b[2K     \u001b[90m━━━━━━━━━━━━━━━━━━━━━━━━━━━━━━━━━━━━━━━━\u001b[0m \u001b[32m33.0/33.0 MB\u001b[0m \u001b[31m19.3 MB/s\u001b[0m eta \u001b[36m0:00:00\u001b[0m\n",
            "\u001b[?25hRequirement already satisfied: numpy in /usr/local/lib/python3.9/dist-packages (from mediapipe) (1.22.4)\n",
            "Requirement already satisfied: attrs>=19.1.0 in /usr/local/lib/python3.9/dist-packages (from mediapipe) (22.2.0)\n",
            "Requirement already satisfied: opencv-contrib-python in /usr/local/lib/python3.9/dist-packages (from mediapipe) (4.7.0.72)\n",
            "Requirement already satisfied: flatbuffers>=2.0 in /usr/local/lib/python3.9/dist-packages (from mediapipe) (23.3.3)\n",
            "Requirement already satisfied: matplotlib in /usr/local/lib/python3.9/dist-packages (from mediapipe) (3.7.1)\n",
            "Requirement already satisfied: protobuf<4,>=3.11 in /usr/local/lib/python3.9/dist-packages (from mediapipe) (3.19.6)\n",
            "Requirement already satisfied: absl-py in /usr/local/lib/python3.9/dist-packages (from mediapipe) (1.4.0)\n",
            "Requirement already satisfied: importlib-resources>=3.2.0 in /usr/local/lib/python3.9/dist-packages (from matplotlib->mediapipe) (5.12.0)\n",
            "Requirement already satisfied: python-dateutil>=2.7 in /usr/local/lib/python3.9/dist-packages (from matplotlib->mediapipe) (2.8.2)\n",
            "Requirement already satisfied: pyparsing>=2.3.1 in /usr/local/lib/python3.9/dist-packages (from matplotlib->mediapipe) (3.0.9)\n",
            "Requirement already satisfied: pillow>=6.2.0 in /usr/local/lib/python3.9/dist-packages (from matplotlib->mediapipe) (8.4.0)\n",
            "Requirement already satisfied: kiwisolver>=1.0.1 in /usr/local/lib/python3.9/dist-packages (from matplotlib->mediapipe) (1.4.4)\n",
            "Requirement already satisfied: packaging>=20.0 in /usr/local/lib/python3.9/dist-packages (from matplotlib->mediapipe) (23.0)\n",
            "Requirement already satisfied: fonttools>=4.22.0 in /usr/local/lib/python3.9/dist-packages (from matplotlib->mediapipe) (4.39.2)\n",
            "Requirement already satisfied: contourpy>=1.0.1 in /usr/local/lib/python3.9/dist-packages (from matplotlib->mediapipe) (1.0.7)\n",
            "Requirement already satisfied: cycler>=0.10 in /usr/local/lib/python3.9/dist-packages (from matplotlib->mediapipe) (0.11.0)\n",
            "Requirement already satisfied: zipp>=3.1.0 in /usr/local/lib/python3.9/dist-packages (from importlib-resources>=3.2.0->matplotlib->mediapipe) (3.15.0)\n",
            "Requirement already satisfied: six>=1.5 in /usr/local/lib/python3.9/dist-packages (from python-dateutil>=2.7->matplotlib->mediapipe) (1.16.0)\n",
            "Installing collected packages: mediapipe\n",
            "Successfully installed mediapipe-0.9.1.0\n"
          ]
        }
      ],
      "source": [
        "!gdown 18zrd1g-2_SWBDfDvoSiJ4y7NEiviezci\n",
        "!unzip holistic_interface.zip\n",
        "!rm -rf __MACOSX\n",
        "!rm holistic_interface.zip\n",
        "!pip install mediapipe\n",
        "import holistic_interface"
      ]
    },
    {
      "cell_type": "markdown",
      "source": [
        "Upload in here your video (only in mp4 format)."
      ],
      "metadata": {
        "id": "03PhByFLqQkD"
      }
    },
    {
      "cell_type": "code",
      "source": [
        "!mkdir output_csv_directory\n",
        "!mkdir videos\n",
        "from google.colab import files\n",
        "uploaded = files.upload()\n",
        "for fn in uploaded.keys():\n",
        "  file = fn\n",
        "path = './' + file\n",
        "\n",
        "import os\n",
        "if os.path.splitext(path)[1] != \".mp4\":\n",
        "  print(\"please upload mp4 file\")\n",
        "os.rename(path, \"./videos/video.mp4\")"
      ],
      "metadata": {
        "id": "IDU864hnj88g",
        "colab": {
          "base_uri": "https://localhost:8080/",
          "height": 74
        },
        "outputId": "a5e89da6-f70d-4bf4-f51c-107129a56b6a"
      },
      "execution_count": 2,
      "outputs": [
        {
          "output_type": "display_data",
          "data": {
            "text/plain": [
              "<IPython.core.display.HTML object>"
            ],
            "text/html": [
              "\n",
              "     <input type=\"file\" id=\"files-248047ef-d1d7-4bc6-be12-35fbb22ed785\" name=\"files[]\" multiple disabled\n",
              "        style=\"border:none\" />\n",
              "     <output id=\"result-248047ef-d1d7-4bc6-be12-35fbb22ed785\">\n",
              "      Upload widget is only available when the cell has been executed in the\n",
              "      current browser session. Please rerun this cell to enable.\n",
              "      </output>\n",
              "      <script>// Copyright 2017 Google LLC\n",
              "//\n",
              "// Licensed under the Apache License, Version 2.0 (the \"License\");\n",
              "// you may not use this file except in compliance with the License.\n",
              "// You may obtain a copy of the License at\n",
              "//\n",
              "//      http://www.apache.org/licenses/LICENSE-2.0\n",
              "//\n",
              "// Unless required by applicable law or agreed to in writing, software\n",
              "// distributed under the License is distributed on an \"AS IS\" BASIS,\n",
              "// WITHOUT WARRANTIES OR CONDITIONS OF ANY KIND, either express or implied.\n",
              "// See the License for the specific language governing permissions and\n",
              "// limitations under the License.\n",
              "\n",
              "/**\n",
              " * @fileoverview Helpers for google.colab Python module.\n",
              " */\n",
              "(function(scope) {\n",
              "function span(text, styleAttributes = {}) {\n",
              "  const element = document.createElement('span');\n",
              "  element.textContent = text;\n",
              "  for (const key of Object.keys(styleAttributes)) {\n",
              "    element.style[key] = styleAttributes[key];\n",
              "  }\n",
              "  return element;\n",
              "}\n",
              "\n",
              "// Max number of bytes which will be uploaded at a time.\n",
              "const MAX_PAYLOAD_SIZE = 100 * 1024;\n",
              "\n",
              "function _uploadFiles(inputId, outputId) {\n",
              "  const steps = uploadFilesStep(inputId, outputId);\n",
              "  const outputElement = document.getElementById(outputId);\n",
              "  // Cache steps on the outputElement to make it available for the next call\n",
              "  // to uploadFilesContinue from Python.\n",
              "  outputElement.steps = steps;\n",
              "\n",
              "  return _uploadFilesContinue(outputId);\n",
              "}\n",
              "\n",
              "// This is roughly an async generator (not supported in the browser yet),\n",
              "// where there are multiple asynchronous steps and the Python side is going\n",
              "// to poll for completion of each step.\n",
              "// This uses a Promise to block the python side on completion of each step,\n",
              "// then passes the result of the previous step as the input to the next step.\n",
              "function _uploadFilesContinue(outputId) {\n",
              "  const outputElement = document.getElementById(outputId);\n",
              "  const steps = outputElement.steps;\n",
              "\n",
              "  const next = steps.next(outputElement.lastPromiseValue);\n",
              "  return Promise.resolve(next.value.promise).then((value) => {\n",
              "    // Cache the last promise value to make it available to the next\n",
              "    // step of the generator.\n",
              "    outputElement.lastPromiseValue = value;\n",
              "    return next.value.response;\n",
              "  });\n",
              "}\n",
              "\n",
              "/**\n",
              " * Generator function which is called between each async step of the upload\n",
              " * process.\n",
              " * @param {string} inputId Element ID of the input file picker element.\n",
              " * @param {string} outputId Element ID of the output display.\n",
              " * @return {!Iterable<!Object>} Iterable of next steps.\n",
              " */\n",
              "function* uploadFilesStep(inputId, outputId) {\n",
              "  const inputElement = document.getElementById(inputId);\n",
              "  inputElement.disabled = false;\n",
              "\n",
              "  const outputElement = document.getElementById(outputId);\n",
              "  outputElement.innerHTML = '';\n",
              "\n",
              "  const pickedPromise = new Promise((resolve) => {\n",
              "    inputElement.addEventListener('change', (e) => {\n",
              "      resolve(e.target.files);\n",
              "    });\n",
              "  });\n",
              "\n",
              "  const cancel = document.createElement('button');\n",
              "  inputElement.parentElement.appendChild(cancel);\n",
              "  cancel.textContent = 'Cancel upload';\n",
              "  const cancelPromise = new Promise((resolve) => {\n",
              "    cancel.onclick = () => {\n",
              "      resolve(null);\n",
              "    };\n",
              "  });\n",
              "\n",
              "  // Wait for the user to pick the files.\n",
              "  const files = yield {\n",
              "    promise: Promise.race([pickedPromise, cancelPromise]),\n",
              "    response: {\n",
              "      action: 'starting',\n",
              "    }\n",
              "  };\n",
              "\n",
              "  cancel.remove();\n",
              "\n",
              "  // Disable the input element since further picks are not allowed.\n",
              "  inputElement.disabled = true;\n",
              "\n",
              "  if (!files) {\n",
              "    return {\n",
              "      response: {\n",
              "        action: 'complete',\n",
              "      }\n",
              "    };\n",
              "  }\n",
              "\n",
              "  for (const file of files) {\n",
              "    const li = document.createElement('li');\n",
              "    li.append(span(file.name, {fontWeight: 'bold'}));\n",
              "    li.append(span(\n",
              "        `(${file.type || 'n/a'}) - ${file.size} bytes, ` +\n",
              "        `last modified: ${\n",
              "            file.lastModifiedDate ? file.lastModifiedDate.toLocaleDateString() :\n",
              "                                    'n/a'} - `));\n",
              "    const percent = span('0% done');\n",
              "    li.appendChild(percent);\n",
              "\n",
              "    outputElement.appendChild(li);\n",
              "\n",
              "    const fileDataPromise = new Promise((resolve) => {\n",
              "      const reader = new FileReader();\n",
              "      reader.onload = (e) => {\n",
              "        resolve(e.target.result);\n",
              "      };\n",
              "      reader.readAsArrayBuffer(file);\n",
              "    });\n",
              "    // Wait for the data to be ready.\n",
              "    let fileData = yield {\n",
              "      promise: fileDataPromise,\n",
              "      response: {\n",
              "        action: 'continue',\n",
              "      }\n",
              "    };\n",
              "\n",
              "    // Use a chunked sending to avoid message size limits. See b/62115660.\n",
              "    let position = 0;\n",
              "    do {\n",
              "      const length = Math.min(fileData.byteLength - position, MAX_PAYLOAD_SIZE);\n",
              "      const chunk = new Uint8Array(fileData, position, length);\n",
              "      position += length;\n",
              "\n",
              "      const base64 = btoa(String.fromCharCode.apply(null, chunk));\n",
              "      yield {\n",
              "        response: {\n",
              "          action: 'append',\n",
              "          file: file.name,\n",
              "          data: base64,\n",
              "        },\n",
              "      };\n",
              "\n",
              "      let percentDone = fileData.byteLength === 0 ?\n",
              "          100 :\n",
              "          Math.round((position / fileData.byteLength) * 100);\n",
              "      percent.textContent = `${percentDone}% done`;\n",
              "\n",
              "    } while (position < fileData.byteLength);\n",
              "  }\n",
              "\n",
              "  // All done.\n",
              "  yield {\n",
              "    response: {\n",
              "      action: 'complete',\n",
              "    }\n",
              "  };\n",
              "}\n",
              "\n",
              "scope.google = scope.google || {};\n",
              "scope.google.colab = scope.google.colab || {};\n",
              "scope.google.colab._files = {\n",
              "  _uploadFiles,\n",
              "  _uploadFilesContinue,\n",
              "};\n",
              "})(self);\n",
              "</script> "
            ]
          },
          "metadata": {}
        },
        {
          "output_type": "stream",
          "name": "stdout",
          "text": [
            "Saving video2.mp4 to video2.mp4\n"
          ]
        }
      ]
    },
    {
      "cell_type": "markdown",
      "source": [
        "Proccesing the input"
      ],
      "metadata": {
        "id": "sJ2qbCqiqaFd"
      }
    },
    {
      "cell_type": "code",
      "source": [
        "holistic_interface.process_video_to_coordinates_csv(output_file='video.csv',\n",
        "                                                    input_file='video.mp4')"
      ],
      "metadata": {
        "id": "i5HcVHlQHLcC"
      },
      "execution_count": 3,
      "outputs": []
    },
    {
      "cell_type": "markdown",
      "source": [
        "##Anomaly detection"
      ],
      "metadata": {
        "id": "5GSkY-D0qem5"
      }
    },
    {
      "cell_type": "markdown",
      "source": [
        "###Data-specific preprocessing\n",
        "We will shape the data in a way that is specific to the data we got. (Meaning we will not save any parameters from this preprocessing for other datasets)."
      ],
      "metadata": {
        "id": "RRW-8ZpxdAb0"
      }
    },
    {
      "cell_type": "code",
      "source": [
        "import pandas as pd"
      ],
      "metadata": {
        "id": "MxiQ_kZHUD5R"
      },
      "execution_count": 54,
      "outputs": []
    },
    {
      "cell_type": "code",
      "source": [
        "df = pd.read_csv(\"./output_csv_directory/video.csv\")"
      ],
      "metadata": {
        "id": "Jp2Gvh4mUHEx"
      },
      "execution_count": 55,
      "outputs": []
    },
    {
      "cell_type": "markdown",
      "source": [
        "This is a debugging column so we will get rid of it."
      ],
      "metadata": {
        "id": "0DVbmXJeqjxb"
      }
    },
    {
      "cell_type": "code",
      "source": [
        "df_noTimestamp = df.drop([\"timestamp\"], axis=1)"
      ],
      "metadata": {
        "id": "-0S4z8HVUYui"
      },
      "execution_count": 56,
      "outputs": []
    },
    {
      "cell_type": "code",
      "source": [
        "(df_noTimestamp.mean() == 0).sum()"
      ],
      "metadata": {
        "id": "O9LNUKS2VNSq",
        "colab": {
          "base_uri": "https://localhost:8080/"
        },
        "outputId": "5c84aade-ecca-4516-9c9d-a9e9b4d6646f"
      },
      "execution_count": 57,
      "outputs": [
        {
          "output_type": "execute_result",
          "data": {
            "text/plain": [
              "468"
            ]
          },
          "metadata": {},
          "execution_count": 57
        }
      ]
    },
    {
      "cell_type": "markdown",
      "source": [
        "A lot of columns are without any output (usually because the body parts that those columns represent weren't shown during the video)."
      ],
      "metadata": {
        "id": "X_XzX9oCqpv-"
      }
    },
    {
      "cell_type": "code",
      "source": [
        "df_noZero = df_noTimestamp[df_noTimestamp.columns[~(df_noTimestamp.sum() == 0)]]"
      ],
      "metadata": {
        "id": "d30SclDNXEfj"
      },
      "execution_count": 58,
      "outputs": []
    },
    {
      "cell_type": "code",
      "source": [
        "df_noZero.mean().describe()"
      ],
      "metadata": {
        "id": "S5y1Tmr4Uv9_",
        "colab": {
          "base_uri": "https://localhost:8080/"
        },
        "outputId": "c13bf1c9-9505-4443-9822-dc9975734508"
      },
      "execution_count": 59,
      "outputs": [
        {
          "output_type": "execute_result",
          "data": {
            "text/plain": [
              "count    1536.000000\n",
              "mean        0.352752\n",
              "std         0.352723\n",
              "min        -0.801253\n",
              "25%         0.006039\n",
              "50%         0.461841\n",
              "75%         0.523827\n",
              "max         3.214567\n",
              "dtype: float64"
            ]
          },
          "metadata": {},
          "execution_count": 59
        }
      ]
    },
    {
      "cell_type": "markdown",
      "source": [
        "The input data isn't scaled so we will scale it."
      ],
      "metadata": {
        "id": "nRJq87JdrL4q"
      }
    },
    {
      "cell_type": "code",
      "source": [
        "from sklearn.preprocessing import StandardScaler\n",
        "sc = StandardScaler()\n",
        "df_scaled = sc.fit_transform(df_noZero)"
      ],
      "metadata": {
        "id": "M9QLKWNYYsrd"
      },
      "execution_count": 60,
      "outputs": []
    },
    {
      "cell_type": "code",
      "source": [
        "timestamps = df_scaled.shape[0]"
      ],
      "metadata": {
        "id": "TXDwoDntZrZz"
      },
      "execution_count": 61,
      "outputs": []
    },
    {
      "cell_type": "code",
      "source": [
        "num_of_cols = df_scaled.shape[1]"
      ],
      "metadata": {
        "id": "aaAe3GtFcqzj"
      },
      "execution_count": 62,
      "outputs": []
    },
    {
      "cell_type": "code",
      "source": [
        "import numpy as np"
      ],
      "metadata": {
        "id": "ALhcQmr_ZzoY"
      },
      "execution_count": 63,
      "outputs": []
    },
    {
      "cell_type": "code",
      "source": [
        "import itertools\n",
        "  \n",
        "def intervals_extract(iterable):\n",
        "      \n",
        "    iterable = sorted(set(iterable))\n",
        "    for key, group in itertools.groupby(enumerate(iterable),\n",
        "    lambda t: t[1] - t[0]):\n",
        "        group = list(group)\n",
        "        yield [group[0][1], group[-1][1]]"
      ],
      "metadata": {
        "id": "rStPua6laI2y"
      },
      "execution_count": 64,
      "outputs": []
    },
    {
      "cell_type": "markdown",
      "source": [
        "We have a lot of sparse data so we will reduce the dimensionality of the information."
      ],
      "metadata": {
        "id": "fFDNPV4_rVJV"
      }
    },
    {
      "cell_type": "code",
      "source": [
        "from sklearn.decomposition import PCA\n",
        "pca = PCA(n_components=0.999)\n",
        "pca.fit(df_scaled)\n",
        "\n",
        "print(pca.explained_variance_ratio_)"
      ],
      "metadata": {
        "id": "Yq2H-Too3B3f",
        "colab": {
          "base_uri": "https://localhost:8080/"
        },
        "outputId": "a0e087e0-accd-48e7-d831-f6f5e879e786"
      },
      "execution_count": 65,
      "outputs": [
        {
          "output_type": "stream",
          "name": "stdout",
          "text": [
            "[3.68462964e-01 2.53231911e-01 1.40642819e-01 7.21357567e-02\n",
            " 4.42508425e-02 4.37923026e-02 1.78599044e-02 1.28121979e-02\n",
            " 1.08753952e-02 6.38691912e-03 5.31757461e-03 4.16470829e-03\n",
            " 2.66225195e-03 1.92771646e-03 1.73783678e-03 1.41602084e-03\n",
            " 1.32801284e-03 1.26126197e-03 1.15536686e-03 1.01903110e-03\n",
            " 8.04594665e-04 7.19859986e-04 6.58603263e-04 5.49328962e-04\n",
            " 5.39061377e-04 4.36214665e-04 4.32379853e-04 3.95857971e-04\n",
            " 2.74661294e-04 2.55751149e-04 2.19231235e-04 2.01358814e-04\n",
            " 1.82850906e-04 1.63791142e-04 1.43066192e-04 1.40772416e-04\n",
            " 1.12191721e-04 1.01999870e-04 9.52798999e-05 8.86837079e-05\n",
            " 7.61058923e-05]\n"
          ]
        }
      ]
    },
    {
      "cell_type": "code",
      "source": [
        "X = pca.transform(df_scaled)"
      ],
      "metadata": {
        "id": "Z9UMRUha4x3r"
      },
      "execution_count": 66,
      "outputs": []
    },
    {
      "cell_type": "markdown",
      "source": [
        "###Robust Z-score\n"
      ],
      "metadata": {
        "id": "PgLl6vjprplE"
      }
    },
    {
      "cell_type": "markdown",
      "source": [
        "We will see how far the data is from the median by using the method of robust Z-score. It is similar to Z-score method, but since mean and standard deviations are heavily influenced by outliers, we will use median and absolute deviation from median instead.\n",
        "![image.png](data:image/png;base64,iVBORw0KGgoAAAANSUhEUgAAAgoAAAB4CAYAAACTtNq2AAAMa2lDQ1BJQ0MgUHJvZmlsZQAASImVVwdYU8kWnluSkJDQAhGQEnoTRHqREkILICAdbIQkkFBiTAgqdnRRwbUioljRVRFF1wLIoiL2sij2vlhQUdbFgqKovAkJ6LqvfO9839z575kz/yl35t47AGj2ciWSXFQLgDxxvjQuLIiZkprGJD0DCKADBnAGZC5PJmHFxkYBKIP93+X9DWgN5aqjguuf4/9VdPgCGQ8AZDzEGXwZLw/iZgDw9TyJNB8AokJvMTVfosBzIdaVwgAhLlPgLCXeqcAZStw0YJMQx4b4MgBqVC5XmgWAxj2oZxbwsiCPxmeIncV8kRgAzREQ+/OEXD7EithH5OVNVuAKiG2hvQRiGA/wyviOM+tv/BlD/Fxu1hBW5jUgasEimSSXO/3/LM3/lrxc+aAPa9ioQml4nCJ/WMNbOZMjFZgKcZc4IzpGUWuIe0V8Zd0BQClCeXii0h414snYsH7wmQPUmc8NjoTYCOJQcW50lEqfkSkK5UAMVws6TZTPSYBYH+JFAllIvMpms3RynMoXWpcpZbNU+rNc6YBfha8H8pxElor/jVDAUfFjGoXChGSIKRBbFoiSoiHWgNhJlhMfqbIZXShkRw/aSOVxivgtIY4TiMOClPxYQaY0NE5lX5InG8wX2ywUcaJVeH++MCFcWR/sJI87ED/MBbssELMSB3kEspSowVz4guAQZe7Yc4E4MV7F0yvJD4pTzsUpktxYlT1uLsgNU+jNIXaTFcSr5uJJ+XBxKvnxTEl+bIIyTrwwmxsRq4wHXw6iABsEAyaQw5YBJoNsIGrtqu+Cd8qRUMAFUpAFBMBRpRmckTwwIobXeFAI/oRIAGRD84IGRgWgAOq/DGmVV0eQOTBaMDAjBzyFOA9Eglx4Lx+YJR7ylgSeQI3oH965sPFgvLmwKcb/vX5Q+03DgpoolUY+6JGpOWhJDCEGE8OJoUQ73BD3x33xKHgNhM0F98K9B/P4Zk94SmgjPCJcJ7QTbk8SFUl/iHIMaIf8oapaZHxfC9wacrrjQbgfZIfMOAM3BI64G/TDwgOgZ3eoZaviVlSF+QP33zL47mmo7MjOZJQ8jBxItv1xpoa9hvsQi6LW39dHGWvGUL3ZQyM/+md/V30+7CN/tMQWYQewM9hx7BzWhNUDJnYMa8AuYkcUeGh1PRlYXYPe4gbiyYE8on/446p8Kiopc65x7nT+rBzLF0zLV2w89mTJdKkoS5jPZMGvg4DJEfOcRjBdnF1cAVB8a5Svr7eMgW8Iwjj/TTcf7nE/cX9/f9M3XeQnAA6awe3f/k1ncwW+JuB7+uwKnlxaoNThigsBviU04U4zACbAAtjCfFyAB/AFgSAERIAYkABSwURYZSFc51IwFcwE80AxKAXLwWqwDmwCW8FOsAfsB/WgCRwHp8EFcBlcB3fh6ukAL0E3eA/6EAQhITSEjhggpogV4oC4IF6IPxKCRCFxSCqSjmQhYkSOzETmI6XISmQdsgWpRn5FDiPHkXNIG3IbeYh0Im+QTyiGUlFd1Bi1RkeiXigLjUQT0AloFjoFLUQXoEvRCrQK3Y3WocfRC+h1tB19ifZgAFPHGJgZ5oh5YWwsBkvDMjEpNhsrwcqxKqwWa4TP+SrWjnVhH3EiTseZuCNcweF4Is7Dp+Cz8SX4OnwnXoefxK/iD/Fu/CuBRjAiOBB8CBxCCiGLMJVQTCgnbCccIpyCe6mD8J5IJDKINkRPuBdTidnEGcQlxA3EvcRmYhvxMbGHRCIZkBxIfqQYEpeUTyomrSXtJh0jXSF1kHrV1NVM1VzUQtXS1MRqRWrlarvUjqpdUXum1kfWIluRfcgxZD55OnkZeRu5kXyJ3EHuo2hTbCh+lARKNmUepYJSSzlFuUd5q66ubq7urT5WXaQ+V71CfZ/6WfWH6h+pOlR7Kps6niqnLqXuoDZTb1Pf0mg0a1ogLY2WT1tKq6adoD2g9WrQNZw0OBp8jTkalRp1Glc0XmmSNa00WZoTNQs1yzUPaF7S7NIia1lrsbW4WrO1KrUOa93U6tGma4/SjtHO016ivUv7nPZzHZKOtU6IDl9ngc5WnRM6j+kY3YLOpvPo8+nb6KfoHbpEXRtdjm62bqnuHt1W3W49HT03vSS9aXqVekf02hkYw5rBYeQyljH2M24wPg0zHsYaJhi2eFjtsCvDPugP1w/UF+iX6O/Vv67/yYBpEGKQY7DCoN7gviFuaG841nCq4UbDU4Zdw3WH+w7nDS8Zvn/4HSPUyN4ozmiG0Vaji0Y9xibGYcYS47XGJ4y7TBgmgSbZJmUmR006Temm/qYi0zLTY6YvmHpMFjOXWcE8yew2MzILN5ObbTFrNesztzFPNC8y32t+34Ji4WWRaVFm0WLRbWlqOcZypmWN5R0rspWXldBqjdUZqw/WNtbJ1gut662f2+jbcGwKbWps7tnSbANsp9hW2V6zI9p52eXYbbC7bI/au9sL7SvtLzmgDh4OIocNDm0jCCO8R4hHVI246Uh1ZDkWONY4PnRiOEU5FTnVO70aaTkybeSKkWdGfnV2d8513uZ8d5TOqIhRRaMaR71xsXfhuVS6XHOluYa6znFtcH3t5uAmcNvodsud7j7GfaF7i/sXD08PqUetR6enpWe653rPm166XrFeS7zOehO8g7zneDd5f/Tx8Mn32e/zl6+jb47vLt/no21GC0ZvG/3Yz9yP67fFr92f6Z/uv9m/PcAsgBtQFfAo0CKQH7g98BnLjpXN2s16FeQcJA06FPSB7cOexW4OxoLDgkuCW0N0QhJD1oU8CDUPzQqtCe0Ocw+bEdYcTgiPDF8RfpNjzOFxqjndEZ4RsyJORlIj4yPXRT6Kso+SRjWOQcdEjFk15l60VbQ4uj4GxHBiVsXcj7WJnRL721ji2NixlWOfxo2Kmxl3Jp4ePyl+V/z7hKCEZQl3E20T5YktSZpJ45Oqkz4kByevTG5PGZkyK+VCqmGqKLUhjZSWlLY9rWdcyLjV4zrGu48vHn9jgs2EaRPOTTScmDvxyCTNSdxJB9IJ6cnpu9I/c2O4VdyeDE7G+oxuHpu3hveSH8gv43cK/AQrBc8y/TJXZj7P8staldUpDBCWC7tEbNE60evs8OxN2R9yYnJ25PTnJufuzVPLS887LNYR54hPTjaZPG1ym8RBUixpn+IzZfWUbmmkdLsMkU2QNeTrwp/6i3Jb+U/yhwX+BZUFvVOTph6Ypj1NPO3idPvpi6c/Kwwt/GUGPoM3o2Wm2cx5Mx/OYs3aMhuZnTG7ZY7FnAVzOuaGzd05jzIvZ97vRc5FK4vezU+e37jAeMHcBY9/CvupplijWFp8c6Hvwk2L8EWiRa2LXRevXfy1hF9yvtS5tLz08xLekvM/j/q54uf+pZlLW5d5LNu4nLhcvPzGioAVO1dqryxc+XjVmFV1ZcyykrJ3qyetPlfuVr5pDWWNfE17RVRFw1rLtcvXfl4nXHe9Mqhy73qj9YvXf9jA33BlY+DG2k3Gm0o3fdos2nxrS9iWuirrqvKtxK0FW59uS9p25hevX6q3G24v3f5lh3hH+864nSerPaurdxntWlaD1shrOneP3315T/CehlrH2i17GXtL94F98n0vfk3/9cb+yP0tB7wO1B60Orj+EP1QSR1SN72uu15Y396Q2tB2OOJwS6Nv46HfnH7b0WTWVHlE78iyo5SjC472Hys81tMsae46nnX8ccuklrsnUk5cOzn2ZOupyFNnT4eePnGGdebYWb+zTed8zh0+73W+/oLHhbqL7hcP/e7++6FWj9a6S56XGi57X25sG9129ErAleNXg6+evsa5duF69PW2G4k3bt0cf7P9Fv/W89u5t1/fKbjTd3fuPcK9kvta98sfGD2o+sPuj73tHu1HHgY/vPgo/tHdx7zHL5/InnzuWPCU9rT8memz6ucuz5s6Qzsvvxj3ouOl5GVfV/Gf2n+uf2X76uBfgX9d7E7p7ngtfd3/Zslbg7c73rm9a+mJ7XnwPu9934eSXoPenR+9Pp75lPzpWd/Uz6TPFV/svjR+jfx6rz+vv1/ClXIHfgUw2NDMTADe7ACAlgoAHZ7bKOOUZ8EBQZTn1wEE/hNWnhcHxAOAWtgpfuPZzQDsg816LuSGTfELnxAIUFfXoaYSWaari5KLCk9ChN7+/rfGAJAaAfgi7e/v29Df/2UbDPY2AM1TlGdQhRDhmWGzpwJd3VaVAn4Q5fn0uxx/7IEiAjfwY/8vLiSQQm/ioqgAAACKZVhJZk1NACoAAAAIAAQBGgAFAAAAAQAAAD4BGwAFAAAAAQAAAEYBKAADAAAAAQACAACHaQAEAAAAAQAAAE4AAAAAAAAAkAAAAAEAAACQAAAAAQADkoYABwAAABIAAAB4oAIABAAAAAEAAAIKoAMABAAAAAEAAAB4AAAAAEFTQ0lJAAAAU2NyZWVuc2hvdKQSL88AAAAJcEhZcwAAFiUAABYlAUlSJPAAAAHWaVRYdFhNTDpjb20uYWRvYmUueG1wAAAAAAA8eDp4bXBtZXRhIHhtbG5zOng9ImFkb2JlOm5zOm1ldGEvIiB4OnhtcHRrPSJYTVAgQ29yZSA2LjAuMCI+CiAgIDxyZGY6UkRGIHhtbG5zOnJkZj0iaHR0cDovL3d3dy53My5vcmcvMTk5OS8wMi8yMi1yZGYtc3ludGF4LW5zIyI+CiAgICAgIDxyZGY6RGVzY3JpcHRpb24gcmRmOmFib3V0PSIiCiAgICAgICAgICAgIHhtbG5zOmV4aWY9Imh0dHA6Ly9ucy5hZG9iZS5jb20vZXhpZi8xLjAvIj4KICAgICAgICAgPGV4aWY6UGl4ZWxZRGltZW5zaW9uPjEyMDwvZXhpZjpQaXhlbFlEaW1lbnNpb24+CiAgICAgICAgIDxleGlmOlBpeGVsWERpbWVuc2lvbj41MjI8L2V4aWY6UGl4ZWxYRGltZW5zaW9uPgogICAgICAgICA8ZXhpZjpVc2VyQ29tbWVudD5TY3JlZW5zaG90PC9leGlmOlVzZXJDb21tZW50PgogICAgICA8L3JkZjpEZXNjcmlwdGlvbj4KICAgPC9yZGY6UkRGPgo8L3g6eG1wbWV0YT4KP6cMigAAABxpRE9UAAAAAgAAAAAAAAA8AAAAKAAAADwAAAA8AAAnmWgliwcAACdlSURBVHgB7J0HmC1FsccbcwAxZyQYAUEEBBUjooJgziJiQsyigGIOKAZQEAVRlItiBANKkCBwFZSgYk6oXMQsGDGnef9fv1fz+vR2z8w5e3b37L1V37c750zHqZkzXV31r6q1GlFwcg44B5wDzgHngHPAOVDgwFouKBS44qecA84B54BzwDngHIgccEHBHwTngHPAOeAccA44B6occEGhyhovcA44B5wDzgHngHPABQV/BpwDzgHngHPAOeAcqHLABYUqa7zAOeAccA44B5wDzgEXFPwZcA6sIRz473//G1atWhV++9vfhi222CJc7WpXW5Arp//vfve74aKLLgoPeMADwnrrrbcg41inF1xwQbje9a4Xbnvb29qpsY7w5XOf+1yc61gNx6z8hz/8IVz3utcds5VXX0oO4BS41lprLeUUqmP/7ne/C9e//vWr5dMscEFhmtz0vpwDM8qBD3zgA+HVr351uOENbxi23XbbcOqpp4Y73OEO4YADDgibbbbZvGfNS+uwww4Ln/nMZ8Jf//rX8LCHPSw8/OEPD1tvvXXbN0LKDjvs0H7v+vCc5zwnvOhFL+qqEsvOPPPM2Ofee+8dDjzwwGp95nS3u90t/PnPf55TB8HmXe96V3j84x8/p2xaJ84777w4vw996EPhGte4xpxu3/e+94Xzzz8/ILSkdKUrXSnc8pa3DE960pPCBhtsEIt+/OMfR17/6U9/aqtS7+Y3v3l45StfGa585Su35xf7w4oVK8KPfvSj8Otf/3pk6D322CM+dyMnO7686U1viv1Ylate9arhpje9abzX2223nZ2e6pFng+fgBz/4Qfj+978fj9yTjTbaaKrjTKOzv//97+Gxj31seMlLXhLufve7T6PL7j5wj3RyDjgHVl8OvPe97220K2pe85rXtBf573//u7nnPe/Z3OhGN2q+9a1vtecn+XDwwQc32ik31772tZsjjjii2sV+++1HzJZBfytXrqz2YwUSThotorG/ffbZx04Xj+985zur42oBav75z38W203j5Nve9rZGwlnDfLvo8ssvb3beeeeReUqAKDb517/+FXkOPyVUNZdddlmx3lKd5JlL77WE1MFT+dSnPjXSVgtiI6FocPtJK0pIa/7xj380b3jDG+L40oQVu5LA2/DMSxgqli/Wyd///vfNPe5xj87f3LTmEqbVkffjHHAOzB4HeOlqt9lsuummcxZDmQYa7W6bG9/4xhO99Fhcn/zkJ8eX6uabb97QX414ATPOE5/4xEZah+bzn/9884UvfGHOn3bNsR6CTB895jGPicIJC1KXoEBf2hU20jo0LLz538UXX9w31MTlr33ta5uNN964kdZiUB8sPghctsh++MMfLraDh9R53eteVyxf6pNnn312ew3MU9qlQVNC4LnJTW7StuX5XOwFea+99orj77bbbsU5szhzTY9+9KOL5Yt5Uuas5s53vnNz+OGHL+iwLigsKHu9c+fA0nKABZyXmtTyxYnstNNOsfz1r399sbzrpAkJspM2P/nJT7qqNh/5yEfizrerEjs15io1dVe1WCZTSrPjjjvGBYg2XYLCxz72sWbDDTdshggfvQOPUeGkk06KQhoC0Tj03Oc+N/KB62I3ndOFF17YrLPOOg0amlmlQw45pL0GruPWt771oKki/FHf/rbffvtB7aZZ6U53ulMcH61IiZ761KfGcpl5SsWLfk5mrSjwf+1rX1uwsV1QWDDWesfOgaXlwFe+8pX2hStba3EysgXHOqhZx1lIP/vZz7Z9s7vto5NPPrkRTqCzGsIMC8Qpp5zSWQ+BAg3BL37xi+YRj3hEbNMlKGy11VbNq171qs4+p10oHEE0DQj3MHbXX/7yl1veol34y1/+0vbBtWMqecITntCgKp9VEkalEfYlmry4p5i+rrjiis7pItDd7GY3i0KFCQr7779/Z5tpF2L+Ya6ML6xFtfvf/OY31bKlKEDAut3tbtfL40nn5oLCpJzzds6BGefA8573vPjCu9a1rtVg0y7RF7/4xXZRYgc8hHjh3+pWt4rt0EhMi7bZZptG3gtzTCRp/wgzqH4/8YlPxNN9gsIZZ5zRXh94jAc/+MHR9PDHP/4x7XbQ529+85vNV7/61UF1n/70p8dxaTMJbbLJJu28jzvuuNgFi9jtb3/75j73uU+0pU/S72K0+c9//tOgZUI4Q5Nji/65555bHf5Xv/pVI6Bt1DzJG6dtc84551TbLEQBzxXzBfuynOgb3/hGnDf4ioUgFxQWgqvep3NgBjhgttQute9Pf/rT9qX8lre8ZdCsn//857dt3v/+98c22OC/973vTbyAmdlB6P7OOWAiweRh1CcoYJ6whSo9rr322tGuO3RXjoDC4ke7v/3tbzZ88YjdGOEMwWRo/3lHpulhztjC0cbIa6NBgADENsuECpx5n3XWWc1DH/rQlv/vfve7q9NGAwF+5bTTTmvro00ZB2T6y1/+skGowiQg75KG710kL4cGDMgrXvGKBlMWWgIz+zCXnCj/0pe+FOsCUB1CP/vZzxqumznJQydiVRA2WdhTYi7w7dhjj23kidTIq6EtlgdG8+Y3v7n5+Mc/XtX68ZwhZK+//voNgtq0yQWFaXPU+3MOzAgHUM/zwkb1XiPQ5LaAooHoIzQT6667bmxz9atfPb5o092v3NjieIDZxqGDDjoo9vnpT3+62kzxEqJ6NUXA9wkKaExAqIN7kBtZc5WrXKW9Xq77BS94QXW8vOAWt7hFNCf0Lf5vf/vb4xjzAbshwAFCZY4IHXhDoJbvw4Lkc16K7/AbECKLHVoFe76e/exnF6dzzDHHxGvDK+SlL31pW/+BD3xgsX5+EsHpcY97XBSi3vrWtzYvfvGLYx83uMENmksvvTSvHr+fcMIJ0YTDsyuXyAbQ6X3ve98IPGW+Rx555Eg7niOeUXv20Ux1Ec8IGBIES4SPD37wg1HQQxtE/3LxbJsr5kgEpbLQU4bWyAjhnd+U8RBBokYPetCDYr0TTzyxVmXi8y4oTMw6b+gcmG0O8LLmBdMFCOOFZgsSu78+StHs2HJ33333hnNoE3iJ3ete94pj0mf+su3qG/dBAHq13To7LrwHclV0n6CQj8k8d9lll/bFC3+OPvrovFrz9a9/veHFC7bCiF2v4kDY11jGAp57eyjIVOw/dUdtG43xgbFsgWDBAcS4HIjnyJ45dsF2DWi4cmLHzQJpOJe73vWubX20Kn0EngN8DQtviuVAqKrdW8xRCLmYulLczJ577tmO/cMf/rA4tAnfCCQ1QvvE74J7xlhGKfak5C5qvx0EC+iNb3xj88hHPrL56Ec/2v5G0SzUCM0I1wx+ZdrkgsK0Oer9OQdmgAO8NO0FzQLXRbZL4sXZRyz+1u+uu+46pzpukLbA0e8Q0Ncll1wS+ywh/G2AZzzjGc3LXvYy+9oexxUUrCE7PLsOXDJzDAeqZcoVvKhhxwsxPmYX6Pjjj2/Mlm7ml1igf+wIaTtUPW3t8mPKa4Bqy4FQe7PwGwiRBdf4zPOQExgXc0NEU5RqfGoAXOsDXIOCTEV32jRGBc+cARJzYCyLNQIpfwBOUzKtFpqjEqVmuprQxvWzuHPNuQCKec54kXvC8LtBc0Q5WjW0HM985jNb0xVmLMpwd66Rzb9Lg1hr23feBYU+Dnm5c2CZcsA0Cuxwu8jq3f/+9++qFsvACNjLDs+HEmGLtTpD3C7ZnVG/plblxcnLr2SvnlRQYN777rtvO09czFLixc3u7S53uUtcdKiLuxyBm3iJs1tEm/Ce97ynfZnTHg2N8bPmXpeOU/vMwnfHO96xnR/86Vs4077Yqae7WSvjuhR5cOI/+u0iwyeY5oeFM40LgVBoBH/Y+dsiD5jWnpvrXOc6VXs87eHzve9971g/11yZuQOBLRUAmYuikcY2pcBgz3rWs2JZSQBmTARC5ocgRF8l4pqoUzKboHmirIS9ME0dghL3DWyNeSERR8L4kvIvH59rsvnlZfP97oLCfDno7Z0DM8oBgE28OFDr1whVv72E+oCE9AHQyuqz4NSISI3UG+IeiLr5mte8ZoN5IScAaXhYYDIo0XwEBRZN0wqgIq8RO0/AaMqPEXEOCAc1V7/0pY673yTEPUFNr/DXI2aSIRgSGw+bPbtqPCVSwgvD7t8kxz7bPPiEfCFMzQlmYgBrgTBg35kjLq42J8xDXaQQ5LFuDt5DiKMPxsyFGu4HZTybqcnBxsFcQjn3t0QWN6RmokMjgusqfQB6zMnMMCVPIQJn0e42t7lNFE5TIKbNGw+SLkq1ZABqp0kuKEyTm96Xc2CGOIApgZdPCo7Kp8cLiTr8KW58XjznOyhxq9+1wzWAIzvyLmLBYEGrmUewGzN/gHClP7MZs4hbea5u7hp/yy23jNdTA1HiRokKGRAaGgTmyULBSx9BIycECOOPmSzyOl3f2UXSPwsGQgcLqfWH+jndIXf1A6p+xYoVc6qsUhwGNEeT/vUFGWLu+W4as5FdAyYJtAH3u9/9WpODTdLuBXW7MADUN/U+8/n2t78dQbUIVggO2P/ze8OYFnysJHBRH68Wxs4xJzY/TFSUE0yqRC9/+ctjOddRoqc85SmxvHRtACmNR/lzY9gJAj11EZ4e1sck7r9dfbug0MUdL3MOLGMOgOjnxcELsEbmf029WrjgtC2+8PYyAjleI1ML95kzDAuQvxytX3ALNt7Q4xBzh/WPxoN+c3Q8GA8EAxDn2LNZsN/xjndEgBnubfAUmzv29Xx3SjwA+lSSLBtm8BHvDEIYm/0ccwvofbv2hUC0D55cT0XU8ajlcxAifLD54wnC99TkQLd4Lhiolro1DIBNwcw7CIgsoMQPwNyBQFAi8pnYHHJ8APVNAAbzUCIEWmufuzZafXAk1DF8hp3naC6zlAOUTQnvELseBIaclBU19lv7jVj9hTQ9rMUgmnwvKUlLkBqrtx4VBMqIGc+kMpyptKqS9mPWvEEXMWYl0vZqFzBmK6/uHFg4Dkj9GSzTnlT3MVtkPppeLkG22SCbe8z4x2+3i8haR5ZCvdiDdlZBwkixuuLPB70QA1kgZdcv1uEkme+08AYB0IIW3jn1yOKn+P9zztsJIb2DXvxBqvYgjUI8TZbFoamtyShJtsN8DO3Ggxag+P6ShiJmPtRONGafpIw5SwiKfNAiM5J5UlqUoKiYQaj1IBc5m2rvUbb1yFPetdqVtvW5P9wniOtUOOy2LP8gjEBQ0KAggS4I/R6e9rSn5VUW7DtjM29pmoK0We04WsCDEpDF78r3ESSEBSH5g8wLbR1pdGLGUU5ICIv3Q4JDW55+EKYhSHiKpyTABZlD0uLiZ7KnyhMhltFeAk1bT1qcwD3jeYVnZPjMSWr9IKEwjsuzIi3YSBV+D8yJ5ZSU5dKYjJRL2xAztUorFH9naXvutwSEWF8CUuC3YyQAZWAdhWRKCQJaWtGco8CMQVia2J5+pkomjfQdTz/99Ij+RXIzVK8mEiWdriOgH2w/2JSWmgiq0TXXScuwh5Xsq0t9vT7+ms0BdleWXZHdRolsx14KMFOqzzlU/PxWcOcqEePaLrjLTs8uHrNDyWZb6rd0bj4YBdDxYCPoIyd2uCSPWiVVvRG4AXawRuz6qZNrFMyWTXKhocQuG7wE79mcDOgGz5lvGkcir8t3i+NQspOX6k/rHNqhEggRNTj32d6vJSxMGsSrL4EUO3DTPtS0R2g3UldbpSyP4/Nc5pQGt6oFhTLzSelZoT/DTHCNOZ6GUOrmzWGePSkY0sCXaOFyMgDlEK8Xc4981KMelXcz7+8TmR74gdlNtyOLJWpJ1HKgV7kxPDRWzhEbEi4mS0Uw0OZDHHL8VVE5kdKWYC7Yugh+Ufuzl5L1wZGsfEMzwy3Vdfu4ay4HjjrqqPjMY2PPCaAbqmIWH363KSH4EoaYGPLkVEiJ3wlteFmX4uGTGZLfBsl1aqpg+gP4Rr35eAfYb7KU64G5AUzLVb12LaDc2cgMyR4JdoBrxl0yFwysPzvyPuG6+vAZVh8hDl7WTD+pwEe/Ocrf+rEjixHXNRTPYO3mewR3UPOwMfs+qn3zckjH4z3KtfGHoNNH5hHCwp8Kc7RDMAHMmT7TlkeE/s2sQ10EPQMxUgZAl/uXC1msF5QfeuihMaU3rogpsX5Qzl9qHuI8AoCBHAFbgj1Js36S7p12ucmG/onHQBmCCjgKAlLVyAIuffKTn6xVmfj8RIICOwFjih1Lkh31DCBi9QhDWnJzmvgKBjaEyeY/y8MxLhH8wq7Bjjz8ObJ23H69vnNgoTlgkeryBYaXKQtfijy3uQCEs+e8FL+AHRRBa3jBpwhrFlF23tjZeUl2EZESGZ/UwpNSl6BgL2AWYZlA2p04uzlAcLybuvIP5HMCpEefQ4gdILvILk0jC5rtVFn4aoSgYOBQ7gnvHXbVNSKddw4orNWd1nlzia0F+wHkyNxLuBbzBrDnLY8/UJojdaw+73W0N7iuEnsA0CKLfUo2P9rgast6hVADZiId/4UvfOGcTKvwmueUtggV/G7y+4ogaRtj+M98AL7y+yCWhGlAmBsbVhM2wcKY500q2NjcTSACp8B8U28Iq8PRxkeDyOdp00SCggE/7EZxRD1WolLd+QYiKY3Td44XGyCjVJrsa2PlSPzptfKZh6GGjrV2fnQOzAIHWGhMw8eLkd8fiznPMC5VJeKlxUKHytgSMOX12DnJnhoj4/GCJhIh3wFk/fznP8+rj3xHs0jfvHjnQ12CAtoUhBn77fL7ZwHFUwIPD3Z241KXhiTty4LfsAjlxLWziKRzgxeo5FMTEWNh6uWe2TXYETAgsR1SFTbjfOc734l1S7vTfB7z/c5Y7IyZN9oW5gb4E6GMjVUKEEUwS00OgBV5XhAsDMhn18ZzyfOa79rz+TKGqfRpy4KLNqX07LFR5Jm3MXDhJDwy/MPcw3nuAUJ1TtQxgCrPKxr1EhEG2vqHD4AsTYhGk0IZ7dPnzsZGM5LfS8YwLQHaqS7Nl4GMS0DK0lzHPTcYzKiLbEnuGkEqvfa7HpIghgTdqPacfQCkpN2FfY1HSVRByTtGzi30F5kZgmyqQarUsYaSjTUCXPSjbdtJcgxnnXXWCOCoLfQPzoEZ5QAgLABn/CYBSAE400u6OluZHILsvEFJpap1KADIpY1CBETKvBj4ffQRgDKAioCz1l9//b7qE5fLnh8AderlHAFs8kWP19MH2px4wP9rKK1p0MIUwY9C3AftSOfb5aD2Um1HUGcOKBzUeBlW0s48Aku1yAft3kdAivnlaCGOQEtpAyLIV8JCW0URGyMYUUJkey79oCiQQbv5AGidsWok74jAnzQBEZRp9aQ9imBE5jgOMWcFWer9DSoaagSAAmJdkGd7XMmC+uYGoguOUlLJpSPt14BNVn8IMCNtP43PzLEksXX1TeS5NCEH80f6lZDQ1czLnAPOAedA1F6ijsYuvViEuyeqeNTP477vFmuOPs50OYDWCqxRCS80rZHGNj2g1rEF3459yU+wqVldjiVg1bQuqNYPqqdxCJ9cSWYj88ZO1RVre5z+va5zwDmw+nOAtMdgIUC+LwYRvY9AWyweNX//xZiHj7E4HMDDgsiltXDq05rF2IJCCXPQtcPGzSgVEvg8JALctC5wkn5ASVsI2nTuk4AgJxnf2zgHnAOrDweI3U+OgcVYuIneyLtrFtzRV587OJtXAkYEobArQuq0Zj42RkGgpSBfU62f/0sC5ER8Qs3WqR14EODIqgfwDAJKBaWMbc/N0geCr2BbxKaZkoAvMZhFem6pPiteexCCPQhMGYPUEOSEwDEcsVES+Cnledc85doZA4wQbATbGoFIpPGJwWaG2LqwxRLgRfnag4CiQeCiGNhHCN0YkKY2NoF7qM81CBUcj9jMhQKPTaQ6DRLMYoAs7IJ77713SG2KtX6l8YrBXLDF85k2ct0NCp/aGayk1p+fdw5MgwM8iwSnInBP7V05jXGwpfPMy/wwje68jxnlANgMAowpHHQbfGpBpzquxJEHW+pyF8L/GjcpXUD7l6J6xx17oevj6pibSZh7CQm70HOp9Q9SF3QudkjmBWodX1vOGZ8VGazWvD1P0Bb8yEFeswMhDjkxyBXJLfaDD7whdttG2YfDDz+8sfSnuPHg40swHkMIk0AmRfhac/zmcTESiK2dM3M3dD0uQClCmTIQ7F1EcBViuOOGhAsu5jBcsswtCSQ1/v9OzgHngHPAOTAeB8bSKID6JHxrSoRQlUtGeip+VtCVIJ/UiLLmBFK0Ms/Fc3Mqz8AJdtYSegKhblMijCs721kgkLnsjvHAkJAQlAa3nZYieAVFhIvfQavLfaotyz8Q3lNJVSKaFs2DhLdAaFEISVWCQ1CwlqDAJ0ER0/LmEQmvhT4QPhWSi1SQr32L7NaCHOdJqNaHPOQhgfCsJeIZQXsBaUGPIcLxnOE+oBFISX7PgTCoJUIbotSwQYGyglz/Rp4xPGzQeEB4vihef6mLQecUtCVqKQZVHrMS2ht+H07OAeeAc2DmODCOXKEY4yM7QF1MDHIBwBG/WIB+ZNYitCtl/AEAJDEM0Q5nldhd46dqc7Yjvs4LEbxiUj7gU21zyyOH0Sd8RjvQRRI2WvwFoVLz60PLYGPgy5wToFBypVsdfJlLRLIcq2OagryeRQ2kHlE7IfMZN02A9UF63BIdf/zxbcCSNNqZ1SWTnPXRl6DI2tSOaFmsr2kf++5bbU5+3jngHHAOLDQHxgIzWrrLIS9JkL6YGUqq54W+qHH6J+oWrpP5NWmnOxIrfJw+F6ou8fhtniWXK+LqE+2uRgBLUcHTBxG88pjxRMxMA5iUPDyU5KadQ1f0NzLt2VwxR5SIACxWh35Jk0pgEhDiAEetrBYWlnCrFg2NtLMlwjRm/RCyez7kgsJ8uOdtnQPOgeXKgbEEhRyfwC7w5JNPjnZyS0hhL2V2hKAyZ5nYTVtoUZs3R4ECY7zwWZt7ukiD/chD3+KtQXz+GrFQ2nWyKJeIkLLcOxbYPEwpqVaJI0EfYCIITVojcAg2Vi15EG49Vgd3LoSENIwpmgjilpfC1TI3C2/KnFYlyXtsTkRQS+NglNLLWt0hR/gNfmIh/gRCGzIFr+MccA44BxadA4MFBV6O9lK3I1mvjEhAkgMBSSgzq0R4VECAdi12JKb2rGpBMO/YPDmShCU1HRBghfjxJUKIsHjlBMDqiithccjzflJzAqFFuwgzgM0VgSAnQmlbOQs9WodxQKMAF619KRcB4EZAjVZnnOyI+Vz9u3PAOeAcWJM5MFhQUP7w9qVrL1+yxKUECt7KOLLrnFWkuVyVRubKfBVOtrgzTa9xqT+jMUh5PGRxRSjabrvt2nakdB2XEFJSz4q+AB/gO2yexP/PKdU4ENgKbcIVV1yRVyt+px5eH/RPfPc89jreGun4CKxLkYisOHk/6RxwDjgHlhkHBgsKJH2xFz9HXu75rpRdnKXTtLqA02aN0uQdNk8wFbMq1KT8g+fpTpnFuy+4CjZ/u06O8ihIuxz0OTUtKfZ/Z/pgtBzmNsl48nyYM0aKt6AOQM2hRM54ux7cLI3QhOA+yr2kHE1GzcRibVbHo/HGj//vlu28cF6s6c/AfN51gwUFIouljK4hyHlRp/VYyJQUZT5znGrbFGRn81SAkrHSzU51QhN0RnwKwIg2f3bjcu+s9pQi/7nWSYiYCDYeJpsuArdidTmWsoWivbE6a6+9dm/MhnQ8sDHWFiGE+PYADTFhYFZBqEXbhSZlTSTjjR99cfRnwJ8Bewbm8y4cFEeBaF+5X77SmAaFYtYcRklq4ZgNjoxyRkuRLdLGTo9ERRPSHuGoPS2wW1CO9CAEf3uu74PSxIb11luvr9qCliscbJudjoGII8D1lUh4giBTQSzSghqIOzAuaXceuG6oK6YB5UodG+RKy8dIZAkUENa+xkiMSgzWflda2qBc8u33rg9EdCTyHLEkIOJAyNMjRqMkyyHjcE8Xgog3kUfsnNY4EnKKv6dp9e/9OAecA86BiTkwRMrA7U4DjPxdcMEF1abkHk/ro1Wo+cFXO5lygYIDjbj+MT/Q/cSGGIewdZdU6eP0Ma26uC8an7mWVQXkP2Olbn01N8KuOSklcDsO4/E81AiXS8xSNi92+zkpRXlbTr1xTD4SVkbannnmmXn3C/Y95aNd37SOHkdhwW6bd+wccA7MkwODTA9pEB5ejLzUUrR9PofLL7+8QcWdvkQnWaDyfif9vnLlytatL52TdrFjd4nLniIEjt1u0gbMHZBojdI4AdjuS5SajWoxCUrt7BzgwJRvXRiHFNCqvB7NpZdeat20R4QH60+RJtvzQz7gkWJtOS5mSHAXFIbcIa/jHHAOrG4cGGR62GSTTUZCGyv2QFBEPL2n66SofuHggw9uK0irEFXem2++eXtuMT6QgGr77bcP2umODKdcAEG2+5FzfV9Qe2+22WYxKRZ9DiE9MIFrn5TgIaYCQjSXSC6qbQhtQilLmzOn2s477xyEG4jnMSGQ/KmLUK9LizCSuEvCYZDrZWyWmxKsL8U2CHIvDZiqIObCnHISpiIQDhwiiRWJxsYhBVkKmLggQlErBkNnc8w0AtkGxZ7orNdXKI1N4BlYCJLrakjNMQsxhvfpHHAOOAcm4kCf5EMgGHU88qccAH3NGhIs4bqWtiXRD77+NQK9TyhlZTBsVqxYUas2+Dy5ui1BUTqPSSL0sZNl/gDm8O7oIxD4xAZYd911Y+THLrBhV1977LFHTKxVi22AdsOujeBEJSJZk9XhCNiwRqQMV/bJRtkgR6rssssubR81dX8a0Il4FHnAJjqUkNH2QxRItE/jkoS0tg+uB9fdGp177rnxmeJ5dHIOOAdGObCmAn5HueDf+jjQa3oAsZ4uMnwekp2QgVnk8rY1IQMBYsMNN2zrY95QUqG++VfLiSIowGHbn80Dtfc4Pw589lmALdMhi9QQQtCxMTmO4/6X9m9ZFGs5FSyvBu6IYAlKRC4OskTafPCSOOWUU0aqEg6Z2BKERC7d39NOO61tj3tpTtJ4tOUbbbRRA5agRISetnnUIjaW2qXniOFgfXAEn4FQBtaBwF8It9wzYk4wF54FJ+fAUnEAIV/g74bcKWRnTf8Iqz6UbPORtifwGO+WSZ5xfivSkFaDtJXmRWh1gdhHriGdD5sF3vH8RmuYqVK/fm62OVAVFFhMSbiTYw14MQNWHEKE+LVogPZiZ0cOmC0nFrk03C71Jw0Bze5fatyRxYT+WCz5sfKg1/4IYMSig58/OSByrYgQ//nUi9/32WefkfEnjSeBux9zZzHEtTOlY445JpYBFj322GPTojmf00iJdi+IebHFFlu0WpeNN964k+cELqItWhJL8oXWgOeBOVC20047Nbhv1sj6oO6kwhN9g3mx60iP6TMEHqMmsNTm5+edAwvFATZDaX4Tnls0eENpr732GnnmDzrooE6sWF+/5srehTmq9XHGGWe0v3mugw0Yqd1NOLffJMDviy++uNaNn18mHBgRFFhgCWDDrplgNXazS0d2arJ9N0pt3LlDT4FraT/kKsiTDtGX1ekLEVzjL8A7IgFaP9M+lrI2lubCQmrofwSUSfIMEHEQAUEugDH3AkKW3FTjIskCz+KMFmboy4ZoiDanlC9oS9Ac9WlweNEhRJnwRO4PW5gJAjUkuJElpWJ8AkFNSswFoc/GT68H3kzDdDXp3Lydc6DGgf3333/k3VTTsObtiQtiwjjP+lZbbdX53s3b59/RQNgmsJbdNW+Tfk8BzswrN63iFYdWmLny3kIT4bR8OTAIzKibvWgkm3IEjGk3v2hjLtRAgP+k4g/KyRCElRh7GAkKQWmhA2BESKrCoOBVMQ6B7PuBmAjEDtAPdXDf9CFX1QiQVATDCD6UJiEAphtKwmiE888/P1x00UVBgZ+CvCqCBMehzadaj7lI4AgSzCKPN9100zifqQ7inTkHpsQBpXYfAYJLbR8kwHf2LgE+AALXzrytVwMutxV6PgBIl8t4rHXggQcGaUB7WowWA4629xIAb94pOZ1zzjlhhx12CIomG+QBFd9dvK+cliEHlq+M4zN3DjgHnAPLhwNowQgvrkW/1SoA3u4j3NPJ1ZJqFM4+++y+ZtVyTMpaqto/IpmOS5hurQ8FTKs2x+Rq9Ybiu6qdecGScWDE9LBks/CBnQPOAefAas4BMriyaB599NHt4okpEAGiRqeffnpU4afgaNrkeXZq7fPzYIowK2+55ZbtHCaJrUL8ExMAugKwkT7e6nF0zFB+R5bH95kzPehhcnIOOAecA6sdBw455JAgV+VAeHtC4svOH69RHkfFGBrEfkGtT6wUzA4HHHBArK88O0FeSBPxZ9999w1HHXVUwMRrYdXlDh3NmUM7xBRCXBUF3YtNiIlCnJISXXbZZUG4pLaIeTN/p2XGgeUhz/gsnQPOAefA8uaAcAHRk4qrMLdmLRdVjyXcDnfcccd40WnG2JqrdB93FHgshrG3CK4GZgQQ3BVpN+83dZUmXkoXoS1JPd8kLHVV97IZ5YCbHmb0xvi0nAPOgdWHAyyYBJLDTRlKg5ORwj2nk046Kboho6onlgvByRAq+DvvvPPy6r3fcXdX8rQGk4HFkcFryfocJ+ZBGuQNYaaPzMWbsRYz/H3fvLx8OAdcUBjOK6/pHHAOOAcm4gCxClgoDYR45JFHtot0nmSOmDIERTOXwjRt+zrrrBODio07CWLXsLNPYybIG6udA3ERhlKaX4ZAa10ElgIXbxNIDj300K7qXjajHHBBYUZvjE/LOeAcWH04oJwtMYYJ2WchuRe3i+cGG2wwcqEEezOTAwXCFbR1J4kvQzwWvC2IvJrS7rvv3vZbCoKX1rXPhK9Po7z2aSLSkO0ICyeeeKJ15cdlxAEXFJbRzfKpOgecA8uTA+ATBOJrJ09ws3SnrZgrsYwgdEQ+Tb0Dtt5663ZBJxrjuEQ0SHLeXHLJJTHMOxoL/ghYZjv9/fbbb1C3ZymSpLUhRH4fnXDCCW19ssn2BXXr68/Ll4YDLigsDd99VOeAc2AN4YDhE3IQYhpmHpOEPAQaIpeayQH2kAsiFSiUDXcsrtnCjtkh/0v7JbT6ECJMswkKu+66a28TIv1a/d122623vleYTQ64e6SeYifngHPAObBQHCBNvMLKB4EQw7bbbtsOo8U5HHfccfH7YYcdFlauXBlI1W4p4SkgeiJRFCGBIYOyrQYt8PF73z+ZOYLCmUdXRmWDnRPBlaiv22yzTexGIaFjhNO+PhU0KUj4iNWOOOKIsOeee1abSIMRcL2UoBRILU/0RgEbq/W9YIY5MJvyi8/KOeAccA6sHhwgj0oJhJjmfSB3Tm5y4OrTRFCYL8YhEtihRbjwwguLzRT/oN3t45HRRwATMR9oOYt/lhiu1o68MNQlouSpp55aq+bnlwEH/gcAAP//r2rNUwAAHPtJREFU7Z0L2BVFGccXLIqwkNA0LCqTvCWKppWVZl4hIrOwG5BappYVhinZBfOSdk8DNSpKMKUsFawMqcxLkYQVXooyk7xDFzDIrrDNb3r++8zZb2fP7nfOB3znvO/znG/PtzvX/8y+85933pmTpCaGgCFgCBgCfYbAhAkT0nHjxvVIf+HChWmSJNlnzpw5PcKMHj06e37hhRf2eB67ce+996aDBw9O3/3ud8eCpBs3bkwHDRqUpb9mzZpoWB7ceuutWdjtttuuNOwFF1yQhZ06dWppWHu45SOQbPlFtBIaAoaAIdA/EVi3bl06dOjQ9Pzzz+9RgZUrV2aD6dixY3s8X7VqVTpgwIAszPLly3uEKboBATj00ENTBvNmg//IkSOz9CECZXL22WdnYQ877LBo0OnTp/tw22+/fTpv3rxoOHvQfxAwotB/2spKaggYAv0MgRkzZvhBc/bs2YUl32abbTyRePDBB3s8P+WUU7KBGcsDxKKZbNiwIT311FN9PAbsMlm9enW61VZbZXlMnjw5Gpyww4cPz8IOGTIknTt3bnrnnXem999/f7pkyZJ01qxZ6ZgxY3yalH3t2rXR9OxB/0JgAMV1ndDEEDAEDAFDoA0ILFq0KLnllluSX/7yl8n111/PZCwZMWJEMmnSpMTN8pNp06YlzlLgczrwwAOT4447zn+4sWDBguS2225Lli1blixevLihNG4ZInHLGAnXiRMnNjzjn4suuiiZOXNmcs899/hnz372s32648ePT/bbb78s/IoVK5L58+f7si1dujS7P3DgwOSQQw7x5ZwyZUqyfv16n97DDz+cXHPNNYkjM1lYfSHOsGHDfL1GjRrl47tlloTvJp2DgBGFzmlLq4khYAgYAoaAIdB2BIwotB1SS9AQMAQMAUPAEOgcBIwodE5bWk0MAUPAEDAEDIG2I2BEoe2QWoKGgCFgCBgChkDnIGBEoXPa0mpiCBgChoAhYAi0HQEjCm2H1BI0BAwBQ8AQMAQ6BwEjCp3TllYTQ8AQMAQMAUOg7QgYUWg7pJagIWAIGAKGgCHQOQgYUeictrSaGAKGgCFgCBgCbUfAiELbIbUEDQFDoBMQ+MIXvpC8973v9acTuh9X6oQqWR2aIOCOpPYnX77hDW9Irrrqqiahu+exEYXuaWurqSFgCNRAwIhCDbA6JKgRheKGNKJQjIvdNQQMgS5HwIhC93UAIwrFbW5EoRgXu2sIGAJdjoARhe7rAGVEgR/5+vOf/5y8+MUvTp72tKd1FThGFLqqua2yhoAhUBUBIwpVkeqccGVE4Stf+Uryjne8I/nIRz6SnH322Z1T6Qo1MaJQASQLYggYAr1D4F//+lfy7W9/O+Enj1/xilf0LpE+jLVx48bk1a9+dUI5v/vd7yaDBw/OcjOikEHRJ1+YnfPz1QcffHCy884790kedRMtIwr//e9/k1133TX5y1/+kvzxj3/sLquC+630fivuxU633377dOTIkal70aP1cB0y3WGHHXzY173uddFwPLjuuut8uOc85zlZmp/85Cf9vbe//e2lcTvx4XOf+1xf91122SXDo2o9r732Wh+XNvrgBz9YKZpj61mcP/zhD03jOHNgFp58wo97qdPDDjssPeWUU9KlS5c2TcsC9B4B2hfsTzvttIZE3Mwrdcraf37xi180PNsS/rnyyit92c4999wexbnooov8s5kzZzY8u/XWW7N+9qUvfanhWdE/P/vZz7LwF198cVGQjr534IEH+vpfffXVDfV81ate5fF9xjOekf7zn/9seLa5/rnjjjt8mdyuh8IifO1rX/PPP/7xjxc+79SbSX+umGN26cCBA33D3XTTTdGqfOtb3/JhUFhPfvKT03/84x/RsO95z3t8WAYYyUc/+lF/7/Wvf71udc31KU95SobdFVdcUavehx56aBbXbS9rGtcx9vSZz3xmFodBpplAADQQNbu+5CUvSauQj2Z52vOeCNC+4P/Od76z4eH555+ftQ9KeEsSZ01I99xzz3T48OHp3//+9x5FixEFAk6aNMnXa9iwYemqVat6xNUN+vRee+3lw+6xxx7pv//9bz3qmiv1pm/k9ccRRxzh7/POl030NiVQzYjC448/nj7pSU9Kt9tuu8I+synLuinz6tdEAaD2339/39nOOuusKG4nn3yyD6OB5Ic//GE0rDr1pz71qSyMEYX/zwid6TjDpNmX3/3ud+mAAQMy3KsQhe9///tZeNpq1KhRzbLxlgK1KzPWlStX+s99992X/vznP0+d2dsrdQgi4Z7+9KenP/3pT5umawHqIRAjCv/5z3/SBQsWpLfffnu9BDdBaCxe9IkTTzyxMLcyovCnP/3JDxbEf+tb31oYn5uf+cxnfB68C1giulGkU/NE4bHHHvPk4YEHHthiYGlGFCjoIYcc4tv085///BZT7r4uSL8nCh/+8Id9o2HeiskLXvACH0bWhzPPPLMw6KOPPurD8fIvX748C2NE4f9EAVzuuuuuDJeyL9OmTcuwJF4VovCWt7zFxzn++OPTrbfe2n9vNqiHFgWUd0xYonjqU5/q02SpCiVl0j4EYkShfTm0P6X99tvP94cf//jHhYmXEQUiMPDRt/n84Ac/6JHG/fffn/XjGBnpEakDb8SIwpZY1SpE4ROf+IRv89GjR2+JVeiTMvV7onDzzTf7Rhs0aFCKWSgvsFW9zKeffrr/jgm6SObPn++f48+AWVJSRBQwld1yyy0p1ol169YpaNMra3EMbiyHEP+vf/1raRwICx9mZgjLJosWLUpZG40toTCYM4sj3IMPPliafrOHWnoAk6oDPuVi5k74qvH+9re/pcrrtttuSydPnuzjn3TSSaVFrEoUSAQ8nvCEJ/h03Yl7pelujof5tt6wYYPvKzfeeGOhaZY+Sls7h7D0N7/5TUOfLSu/c8RKb7jhhpQZ9W9/+9sU83hVIe7111+ffu9730tXr16dRYsRhfXr1/v+e/fdd2dhi748/PDDKcuH3/jGN9If/ehHKf0hJkpzxYoVWRCwwmpB2dasWZPdj30BU/onyw7ELZJmRIE4zhHSp8NkJL/OftRRR/lnvANVylRUBu4V1Rddt3jx4hQCHOoqpYF+woJBO9XRAa3oDgZZ+iI6mTJLYkSBiRl9HitgTKjbPffc499dd1JiumTJktL+qjTDOoMVeho88m2Uz7cKUQBz+g4Tz7J+mk+7P//f74kCa36aKfLi5EXOJy984QtTFAsNvNVWWxXOKFlf5TmDVCghUaDTvfa1r/W+DoRVevg0NJulfvazn01x3FE8XcmPDp4XXhKFQZHi6KfBlPuhoiYupnvqqTi6Qox660im/HDoJD23f7hBCeTLzP+XXXaZD8vMHUdC4jWzKMyZM8eH03KDliFYAy57uesQBcomUzADhMgX96sIM8Rf/epXlT6///3vqySZhcm39ec+97mUuqsNaYepU6dm4c8555zM9K0wBx10UKkPBgr3yCOPzNJUvB133DH95je/maVd9OWhhx5Kx40b17CcRHz8UPAVihEFBn3CgXeRLFu2LB0/fnyPMlHfE044obDtlSaDMwIu22yzTZYGZn6WJHlnYoJVkXKBR0yqEAX6hPRPuPwJURe+kJ9WJKwvpAb/CNbJlT465fLLL/dZQNKPOeaYBj0BHlg0wsE7X55WdAcTHmbXKg9XdOypp57qB/UYUQj1ar48/M9kCh+SMF2+49PA+1EkShNdjj6mfZlEKg1wA7/Yu1+FKNAGmnAUjTlF5erv9/o9UaABJkyY4DtCkWe9ZqaYwhF2M9BpFi5c6P8P/zBI8WzevHnh7VSdjx0TRx99tH8J9tlnH9/h5CNBvJe//OXRl5H1LHVWZts4Ru67776ZMyaDArO1UMLB47zzzvPxWWs/4IADfF4oaAlMW+vwvAyHH364V+K6x4vLDLKuiCjAot0WJl+G2bNnlyYDMaGueJKjxPnejCi88pWv9OFmzJjh02aWixc9cVEYMalLFJhBqx2wMNSR4447LourNGLXsqWwojzDtsZaxGyFnSb0uSFDhmT5fvrTn05l+nQHv6RvfvObGxxAX/SiFxXOkNn5o/Zj4CAcfZkBXHXQO5IvH45+9FWF22mnnVK8wkV6eRcY1Hmed2bUIFdEFLAcPfGJT8zS3X333dMpU6akbitldo8y5i0eShOiQH8hX7Bi6Qo/GurHPQYo6l0kbkueDwP5jkkVokBcdkWQH+8d/YsBGZLMPchVqxLW94wzzvD6Bx3A5ETLqeSNRQZdqPc/33cYuIukFd3B5EskTQQNK4vbZurrz0ShN0SBSRX48WFQRre+8Y1v9BMV3S8iC9LVvKuQWOLyntA3VA7i83+RJakKUQDDESNG+LIVlaEI4/5+ryOIgl5UOkRemC3RMTC1IlJo73vf+xqCMjMgHJ39kUceaXimzsezZz3rWd4UFgbAYU4vLLPpvEBKeI5SZItQqPjISx147NixDVHDwYOyfehDHyo0QePJL6VNmNCDmxkGzlbEh4nXNYGKKGAixMGTdBgYYiKzHHWlblWIAqZHKXecICUsD5Afyi8mdYkCykH+DyijOsKgtPfee1f61N1KG7Y1pA4Li4SBxx30kvVPsAotANSJWaswzJNgLDIoWrDE0zz00iffWbNm+Wf00bxPCM8hBcRl8EORSsj3O9/5ju/XlJkwVYkCs73nPe95Pg5km/dPQp5yNCTNfJk0cFJfiLDebcXH50AEuWgbG+mrD5SR56pEgfRe9rKX+brg6Pb+97/ff4fg3eecaluVsL5MKHjHJFh6ROLAAz0QLvNgAVV5GDTDyQVptKI7SEuTK8hBaMEhXywstJ/6Rt6ZUXo1v5uMJSRZAVh6XLt2rarrLUyQJdJFN4W6lEBKEyzY2p2ffIlkF/Ur4lclCsK8jGiSXqdIRxAFBhcanhchXDPSUgPsVuv52iqJiT4UmcuLHFTU+cgjVJRhfG2XYntlKCgRzdqKSARhWU+TmTk0ZRGXPPm87W1vC5Nt+M7MgTA4ARYJyzNSZBCJOhISBWZnUsDsDS8STJyUBfMnUoUoyFqCc1kozDhJC9IRc1SsSxRIn9kY6X7gAx8Is9us38O2zg+2FAyFLiKQV6wquPalX3DBBbrlrxrw2KYXvh9hIPnv0E9CwawMVih7vhdJqHzzZdcgV2RR+MlPfuLN00XLbuSz2267+bwvvPDChmyVJuWKnUug+hRhxcBDXD7sjImJcMufo1AUHh8RZvJKl2u4c6ooTtV7YX3zgy1paHmVPN0hUT2SxcyusuXf21Z0B8tf5Mnsuuj9pE9jUREm+bJLr+bbCGLLhAoLcZ4IUDkIiSZmTGBCUZrk+etf/zp8lH2XFbgIq6pEQb4pWEy6QTqCKNBQsEc6BzMciWZKzKIkzKjFcEMFdeyxx/r4+QNjiKfOxwsRky9+8Ys+PoNQKCIxLHmUiRyfULqScPDASSgmMoOVzV609JG3WsTS1P2QKHAP0zA4g1demCVqpnajcxZDqhAFzMakWbTdSOZylHaR9IYoQLrIr+6svyj/dt0L2zq21KL12tgAxOyLerEdOBTtJvnqV78a3m74ju8FcZkFUxaJ+g1LADEh/NChQ338OkQhlp7uy/qX72vhwBnzBeHgNOqDXsgL7wnP+Nx77735x9n/dYgCkcKlKYh/7MwEnJ+1jbfoGjrika7qC1EsGpCZ2as+MeLD4WOEyftLtKI7pLNi7yZlxzqgslUlCsRrJtILkKRQpKux/MZEO7Ly/YrwVYmCdAj6sBukY4gCCooOGa6zoty4lzcxa0YZdlytKebNmHQCdb7XvOY10T4hUynm1FC+/vWv+zKQPjOy2EemZZSNJBw83NGiut1wxfSoFzGWNvdFmvLla0is4J88UWA9k/yw0uR3bCgPZoKSZkRBVgPIW37JhzS0Bs2aepH0hijIurKlWhRibT1mzBiP/SWXXFIERarDwuhLocg8zHJGrI9grpe/QGiulY9P6KgXpq3vL33pS33ZeksU6OsM+jjVQbqxTMk3Y+LEicrGXzVw4kQYE/ULZtJ5wbFX70xo1s6Hq0MUwEwkWWnHfHkuvfTSLH+FDa/5d1T1LbLKUGYIuuJj2SgSkUw5PRKmVd0hX5LY9lLyYAlCs/9Q3/JMejVvUeBZKOzgwHKAjoW4Sq9TZ3ROKEqzTFfLMTucQCqNqkSBMpP/u971LkXt6GvHEAUtKaBMEdZPZc4P1+x49rGPfcw3smaUKCgaPVyiIJxEna+sQ8eIggZKvcjNrqFFogpRUL7N0tVzXtqyXQSqs655osB91ulJL0/ApIzCGYbqH3NmFMEjPfejKz0+MiHzvMiUqAGB50WzLdVDVzCVQmcHRB2hviiXKp8iy1RZXlXaujdEATIHNnU+IVmW/wxb08qEd4k86hAF6szggWe6SEFYTpYS+T9GFGIDJ+VUvygiCuEsN092wzrWIQpY6igrpEzf0T+h1VJpz507NzvSOTxyXN/zS3B9RRRa0R3suFJbNXvvnv/85/uwdYgC5If3jQmC+oHy46p7MaJQpqvbQRTkfM05Pt0gHUMUeOGZlTIQYopj2xUdCtabF9bpeCbmjpc5/7NToEhaIQpyyCN9TMDNPuHOjSqDB2t5pF01ffIPnR2L6hveKyIKzJTIjyUDyoiwR5l7KPxwllZGFJgpyGlJdSi7Tp8+PSya/64BgXjNFBYRwl0P7LmvI6FpuaycPGtl10M7LQqhWZptiM36H895dyQiheFMVM/CqxxmqxIF1s0VB7ywDuBjwbIJBI6lK94FnrWbKODvofYrIp+qV1WiwC4ppcegztkt2jL5pje9Scn1+tpXRKEV3cESruqcXyrJV1QO5VWJAuQq3G6JEzYOzThlYo3BusDuFvLfXERBk6K6k408Nv3l/44hCgCubXm8AHKwktUgbJDQ2oDSYIsZnY6tZ0XSClGQEmE7Vl2pQhR0oBQzp9iaaN18w/BFRAEvfM5TADMdhy2lnzd7lxEF/C6kbDAVxgYxhYH00Xah1CUKOMaRXtkacph++J3DaNhSWeVDuepIlbbujUWBMmhGV/Z7KLGy4iALXkUkLYyjslUlCmp7ljswJxc5renU1XYThdCZUf03rIu+VyEKzKy33XZbj1G4bKi4YFeXkCp/XfuKKLSqO9gmS/1YLopJiHVVosCONNLFfyKGnXbxbA6iQF+VXuRAq26QjiIKGtDxRMU6QGcLt5GFDYry4TmzY50eGNvRoHTLzFky48lKobw0g2Vg1exbz5pdqwwepAHjpi7hTLBZ2lWf64XIexfrICW2zjGTl1c1Zt1QyoiCPK61QyKMF37Hd0EOqHnFXococMyuLBhb2tpilbbWYFzXR6EZEQ6xzn/X1uPwR9LyYVjK0r75qkSBPf302bJzBtQ/2k0UwFr9Gh+imGiwL9v1ALmlHvxIENYbCYRW3vXohDpWPKWha18RBdJvRXdo2yy7lmICOQUfPlWJgvo5SwRFArbaSbY5iAK6kPrgXFq2dFVU9v56r6OIgszfzDxRBAwusYb88pe/7BtbHve8MDFphSiglHSccbijIcyLMJgo8VoPT1CsMniQjryPmZXHThxjyxwDctnuibBM+i6FmicK+H3wsjAj1I9uFZ1jESMKbLXUoA3JaiYMVOSHt3EoVYkCe89lBcEUGusXYdqb8nuVtpYCrUsUZEVhBljkMEo9GYw4oAZTami10TId2HNeSJGojQlTlShoWSEfXulz1oN2UrSbKJAHp1hS3qJzFlSGZkSBHVakwadoaYadJFpLb8Vxti+JQiu6A51C3Xmv7nM7SfKChVO/p0G4qkRBjrH58Epfp7aS5uYgCho72EnSLdJRRIFBUoMBnSj2mw40rsxuhONTts2lFaJAXigUzYhR2uHsAq9gKVoGTiwQkiqDB2F5SWUVwUs9PFCH55zfoEE5v52I52USIwrEkbIVhkVpq255Z0ZecOJBovBVaCbaK44jYngUbUgUWCvlvAw+hMFJFSsCg5HWjOkfZV7azcrRV8+rtHVviQIzfrUVa79hH6M+7GRh+y7tUbRlTI6KzOI450NklH6MRY6Zld67/MAfG+TwQSA/loDye/vpzzpDgTB9QRRYSiHtmF8SuJQRBc6jkNd/WRo6HAjCAHHojcQwVFq93fVA/FZ0B++YfkIbXRtOJvAzYOKD3pOjan7gj+lV7XTiUCN2ZoRC/9O7TPttDqKgM3M4ebZbpKOIAo3G7zDQgfjQEcuEI2MVtmhGoLixDq3nXGNLDwqDR7/yYhbO7gY8Z2VtwAkzb2qrMngofWbM4QtE3fAm17ZP8sYhiDTrSBlR0I9okTb10KFWYfoxooD1gXj5gSWMG35HMcu8HR6xHRIF4Ru7otTyg2SYx+b8XqWte0sUqBdrxXLAAh/WfzH7s6tBBznhy5AnmcRlZohzpnClrfG5UXvghCh/gnx7xgY5yGGYJlYe3l3tj+dYYJn1+4IoMOBQn9hOJ+pdRhT02xbELzuLgYmA1vJZigitNeRRRWIYKm4rRIE0WtEdbAvVUevgSV0hDdoSybZatXNVogDB5xwE9TcOx8NaqtNnsVLIUrGpiQI6Dj2LtSt02lZbdOq144iCZqp0Mk5+KxOtk6Ioi7YxKW47iAJpMbPXwSd6CXihOBKZZZO8VBk8wjgcdavT+ZQ+V2Y+EJXeSBlRYACRkgjPrwjzKSIKOjGTstVxsGPphDjhenmMKNCmWFmYlTBLxopQlySF9ejr71XauhWiQPmZnWFxkj+J+ghKj+2cDGoxYamImZRM6cTFSsU94ukdqUoUyAeygPOrTvtUeRgE8BfieFzu9QVRIH/t6Ai3g3JfEiMKvKsiV7HlRKXBFedX1Y0060pfEwXK04ruYLlUZED1xMKkg8H0rCpRoDz0VeKJcChdyCN9cXPtetA2/Lon3FKn/iwDKLxrBJNNiIBj4Yk72z5xJrnEmVgTNytpa+7OuTBxJsXEDeSJsywkbgbY1vQtsf6NgDMZJ263T+Kc7xK37z9xs7fKFXLb4hL3K5SJGygTt4yRONJROW4soPMiT9yWUF8eZ+FInL9QLGhb7zulnzgSkrhtd4nzzeiRtjviN3HbmxPnzJg4C0KP5514oxXd4Qb3xFlXEjfzT5zvl+8jrWLklrcS5yCdOIKaOMtC4ghIq0mWxqcf0q+do2bizg7pEdZZgRPnNJ64EzUTt9ulx/NOvWFEoVNb1uplCBgCpQg4K04CMXEOnp5YO3+JhvDdSBQaAOjCf8qIgjsWPHHLt4mzRCfuMKiuQseIQlc1t1XWEDAEQgTcKYmJ20mTOFNy4pzTwkeJEYUGOLrinzKi4JZJvSXY+X4lbjtsV+ChShpREBJ2NQQMga5DgGUP59eTOH+JxO3ESJxPToaBEYUMiq75UkYUugaEgooaUSgAxW4ZAoaAIWBEofv6gBGF4jY3olCMi901BAyBLkfAiEL3dQAjCsVtbkShGBe7awgYAl2OgNv2maxbty5x++YbliS6HJaOrj5LUewGYjePO8ujo+tap3JGFOqgZWENAUPAEDAEDIEuQ8CIQpc1uFXXEDAEDAFDwBCog4ARhTpoWVhDwBAwBAwBQ6DLEDCi0GUNbtU1BAwBQ8AQMATqIGBEoQ5aFtYQMAQMAUPAEOgyBIwodFmDW3UNAUPAEDAEDIE6CBhRqIOWhTUEDAFDwBAwBLoMASMKXdbgVl1DwBAwBAwBQ6AOAkYU6qBlYQ0BQ8AQMAQMgS5DwIhClzW4VdcQMAQMAUPAEKiDgBGFOmhZWEPAEDAEDAFDoMsQMKLQZQ1u1TUEDAFDwBAwBOogYEShDloW1hAwBAwBQ8AQ6DIEjCh0WYNbdQ0BQ8AQMAQMgToIGFGog5aFNQQMAUPAEDAEugyB/wHAG9+Uok4jPAAAAABJRU5ErkJggg==)"
      ],
      "metadata": {
        "id": "OzoBAOTo9EJq"
      }
    },
    {
      "cell_type": "code",
      "source": [
        "import scipy.stats as stats"
      ],
      "metadata": {
        "id": "zDfVuJ2ppBPW"
      },
      "execution_count": 17,
      "outputs": []
    },
    {
      "cell_type": "markdown",
      "source": [
        "If any of the parameters is an outlier we will consider the timestamp outlier."
      ],
      "metadata": {
        "id": "ysep4Qv9s9Nc"
      }
    },
    {
      "cell_type": "code",
      "source": [
        "def ZRscore_outlier(df):\n",
        "  out = []\n",
        "  df = df.T\n",
        "  for col in df:\n",
        "    med = np.median(col)\n",
        "    ma = stats.median_abs_deviation(col)\n",
        "    for index, i in enumerate(col): \n",
        "        z = (0.6745*(i-med))/ (np.median(ma))\n",
        "        if np.abs(z) > 3: \n",
        "            out.append(index)\n",
        "  return sorted(list(set(out)))"
      ],
      "metadata": {
        "id": "N6lyl0-RotJS"
      },
      "execution_count": 18,
      "outputs": []
    },
    {
      "cell_type": "code",
      "source": [
        "ZRScoreOutliers = ZRscore_outlier(X)\n",
        "isZRScoreOutliers = []\n",
        "for i in range(timestamps):\n",
        "  if i in ZRScoreOutliers:\n",
        "    isZRScoreOutliers.append(1)\n",
        "  else:\n",
        "    isZRScoreOutliers.append(0)\n",
        "isZRScoreOutliers = np.array(isZRScoreOutliers, dtype=np.bool8)"
      ],
      "metadata": {
        "id": "c01TEIyRr-dN"
      },
      "execution_count": 19,
      "outputs": []
    },
    {
      "cell_type": "markdown",
      "source": [
        "###Anomaly detection algorithms\n",
        "We will use an ensemble of anomaly detection algorithms and will use a major vote classifier to decide if a timestamp is an outlier or not."
      ],
      "metadata": {
        "id": "Y-cqE-r9tNtk"
      }
    },
    {
      "cell_type": "code",
      "source": [
        "from sklearn import svm\n",
        "from sklearn.covariance import EllipticEnvelope\n",
        "from sklearn.ensemble import IsolationForest\n",
        "from sklearn.neighbors import LocalOutlierFactor\n",
        "from sklearn.linear_model import SGDOneClassSVM\n",
        "from sklearn.kernel_approximation import Nystroem\n",
        "from sklearn.pipeline import make_pipeline\n",
        "from sklearn.ensemble import IsolationForest"
      ],
      "metadata": {
        "id": "YZNgdhow0aRH"
      },
      "execution_count": 67,
      "outputs": []
    },
    {
      "cell_type": "markdown",
      "source": [
        "We assume that there is only 1% of anomalies in the data. All of the algorithms have some kind of threshold so they tune it so it will be only 1% of anomalies on the train set."
      ],
      "metadata": {
        "id": "rWgqjjTTtvRu"
      }
    },
    {
      "cell_type": "code",
      "source": [
        "outliers_fraction = 0.01"
      ],
      "metadata": {
        "id": "0Y0AC6290sSD"
      },
      "execution_count": 68,
      "outputs": []
    },
    {
      "cell_type": "markdown",
      "source": [
        "We are using five different algorithms:\n",
        " - Robust covariance: we will calculate the covariance matrix (in fact the robust covariance matrix which is more resilient to outliers) and then we will see which timestamps are moving away from the covariance of the dataset.\n",
        " - One-Class SVM: the algorithm tries to fit a hyperplane in high dimensional space between the points in the dataset (which are only of one class and therefore the name) while keeping the margin between the points as high as possible.\n",
        " - One-Class SVM (SGD): The same but using stochastic gradient descent instead of the dual solution.\n",
        " - Isolation Forest: We will train a forest in which each tree inside will decide on a random feature to select and try and split the feature randomly when each leaf is a timestamp. We will expect that anomalies will be easier to split so they will be much higher up the tree when normal samples will be at the bottom as they are harder to split from other normal samples.\n",
        " - Local Outlier Factor: a density-based model, which looks around and seeks the number of close samples. If it can't find the required any in a specific radius then it's considered outlier."
      ],
      "metadata": {
        "id": "cIf40RJ_uXUs"
      }
    },
    {
      "cell_type": "code",
      "source": [
        "anomaly_algorithms = [\n",
        "    (\n",
        "        \"Robust covariance\",\n",
        "        EllipticEnvelope(contamination=outliers_fraction, random_state=42),\n",
        "    ),\n",
        "    (\"One-Class SVM\", svm.OneClassSVM(nu=outliers_fraction, kernel=\"rbf\", gamma=0.1)),\n",
        "    (\n",
        "        \"One-Class SVM (SGD)\",\n",
        "        make_pipeline(\n",
        "            Nystroem(gamma=0.1, random_state=42, n_components=150),\n",
        "            SGDOneClassSVM(\n",
        "                nu=outliers_fraction,\n",
        "                shuffle=True,\n",
        "                fit_intercept=True,\n",
        "                random_state=42,\n",
        "                tol=1e-6,\n",
        "            ),\n",
        "        ),\n",
        "    ),\n",
        "    (\n",
        "        \"Isolation Forest\",\n",
        "        IsolationForest(contamination=outliers_fraction, random_state=42),\n",
        "    ),\n",
        "    (\n",
        "        \"Local Outlier Factor\",\n",
        "        LocalOutlierFactor(n_neighbors=35, contamination=outliers_fraction),\n",
        "    ),\n",
        "]\n"
      ],
      "metadata": {
        "id": "Y3HEz1Fi0CAl"
      },
      "execution_count": 69,
      "outputs": []
    },
    {
      "cell_type": "code",
      "source": [
        "y_preds = []"
      ],
      "metadata": {
        "id": "Qhb-213X1NAS"
      },
      "execution_count": 70,
      "outputs": []
    },
    {
      "cell_type": "code",
      "source": [
        "for name, algorithm in anomaly_algorithms:\n",
        "    # algorithm.fit(X)\n",
        "\n",
        "    if name == \"Local Outlier Factor\":\n",
        "        y_pred = algorithm.fit_predict(X)\n",
        "    else:\n",
        "        y_pred = algorithm.fit(X).predict(X)\n",
        "    y_preds.append(y_pred)\n",
        "    print(name)"
      ],
      "metadata": {
        "id": "wadajy540UrM",
        "colab": {
          "base_uri": "https://localhost:8080/"
        },
        "outputId": "961566dc-ca29-4eed-8f5a-2990e9cc2daf"
      },
      "execution_count": 71,
      "outputs": [
        {
          "output_type": "stream",
          "name": "stdout",
          "text": [
            "Robust covariance\n",
            "One-Class SVM\n",
            "One-Class SVM (SGD)\n",
            "Isolation Forest\n",
            "Local Outlier Factor\n"
          ]
        }
      ]
    },
    {
      "cell_type": "markdown",
      "source": [
        "###RNN"
      ],
      "metadata": {
        "id": "8cKEGoSocMnN"
      }
    },
    {
      "cell_type": "markdown",
      "source": [
        "We will train an RNN that will try to predict the next body and face gestures based on the last few frames. If the RNN will fail to predict that with a large error, we will consider the predicted frame an anomaly."
      ],
      "metadata": {
        "id": "fVEGIOLLDqqM"
      }
    },
    {
      "cell_type": "code",
      "source": [
        "import torch\n",
        "import torch.nn as nn\n",
        "import numpy as np"
      ],
      "metadata": {
        "id": "uozpJseNfHta"
      },
      "execution_count": 25,
      "outputs": []
    },
    {
      "cell_type": "markdown",
      "source": [
        "Simple LSTM network, with two layers. We don't want the network to be too complicated so it will also fit the anomalies."
      ],
      "metadata": {
        "id": "2_QeCsgAEYQ_"
      }
    },
    {
      "cell_type": "code",
      "source": [
        "class RNN(nn.Module):\n",
        "    def __init__(self, input_size, hidden_size, output_size):\n",
        "        super(RNN, self).__init__()\n",
        "        self.hidden_size = hidden_size\n",
        "        self.lstm = nn.LSTM(input_size, hidden_size, num_layers=2, batch_first=True)\n",
        "        self.fc = nn.Linear(hidden_size, output_size)\n",
        "\n",
        "    def forward(self, x):\n",
        "        lstm_out, _ = self.lstm(x)\n",
        "        output = self.fc(lstm_out[:, -1, :])\n",
        "        return output"
      ],
      "metadata": {
        "id": "7xppRxtSfGx6"
      },
      "execution_count": 26,
      "outputs": []
    },
    {
      "cell_type": "code",
      "source": [
        "input_size = num_of_cols\n",
        "hidden_size = 64\n",
        "output_size = num_of_cols\n",
        "sequence_length = 60\n",
        "learning_rate = 0.001\n",
        "num_epochs = 10"
      ],
      "metadata": {
        "id": "AnoXzZ4ffib1"
      },
      "execution_count": 27,
      "outputs": []
    },
    {
      "cell_type": "code",
      "source": [
        "device = torch.device(\"cuda:0\" if torch.cuda.is_available() else \"cpu\")"
      ],
      "metadata": {
        "id": "aZGAX-gGn_TR"
      },
      "execution_count": 28,
      "outputs": []
    },
    {
      "cell_type": "markdown",
      "source": [
        "Mean squared errors for a regression problem, and Adam optimizer because its good."
      ],
      "metadata": {
        "id": "mi7lv2I-EndS"
      }
    },
    {
      "cell_type": "code",
      "source": [
        "model = RNN(input_size, hidden_size, output_size).to(device)\n",
        "\n",
        "criterion = nn.MSELoss()\n",
        "optimizer = torch.optim.Adam(model.parameters(), lr=learning_rate)"
      ],
      "metadata": {
        "id": "38zHWJl1fj7-"
      },
      "execution_count": 29,
      "outputs": []
    },
    {
      "cell_type": "markdown",
      "source": [
        "Preprocessing"
      ],
      "metadata": {
        "id": "GV4IiSDkE2Ew"
      }
    },
    {
      "cell_type": "code",
      "source": [
        "X = []\n",
        "Y = []\n",
        "for i in range(len(df_scaled) - sequence_length):\n",
        "    X.append(df_scaled[i:i+sequence_length])\n",
        "    Y.append(df_scaled[i+sequence_length])\n",
        "X = np.array(X)\n",
        "Y = np.array(Y)\n",
        "X = torch.from_numpy(X).float()\n",
        "Y = torch.from_numpy(Y).float()"
      ],
      "metadata": {
        "id": "-HLjAGE7mLXP"
      },
      "execution_count": 30,
      "outputs": []
    },
    {
      "cell_type": "code",
      "source": [
        "from torch.utils.data import Dataset, DataLoader\n",
        "\n",
        "class TimeSeriesDataset(Dataset):\n",
        "    def __init__(self, X, Y):\n",
        "        self.X = X\n",
        "        self.Y = Y\n",
        "        \n",
        "    def __len__(self):\n",
        "        return len(self.X)\n",
        "    \n",
        "    def __getitem__(self, index):\n",
        "        return self.X[index], self.Y[index]\n",
        "\n",
        "dataset = TimeSeriesDataset(X, Y)\n",
        "dataloader = DataLoader(dataset, batch_size=32, shuffle=False)"
      ],
      "metadata": {
        "id": "p_Q6HvYemzgH"
      },
      "execution_count": 31,
      "outputs": []
    },
    {
      "cell_type": "markdown",
      "source": [
        "We will train the model for 10 epochs and print the loss after each epoch."
      ],
      "metadata": {
        "id": "1aj14DhLE-gr"
      }
    },
    {
      "cell_type": "code",
      "source": [
        "running_loss = 0.0\n",
        "for epoch in range(num_epochs):\n",
        "  for i in dataloader:\n",
        "    inputs, outputs = i\n",
        "    inputs = inputs.to(device)\n",
        "    outputs = outputs.to(device)\n",
        "    \n",
        "    predictions = model(inputs)\n",
        "\n",
        "    loss = criterion(predictions, outputs)\n",
        "\n",
        "    optimizer.zero_grad()\n",
        "    loss.backward()\n",
        "    optimizer.step()\n",
        "\n",
        "    running_loss += loss.item()\n",
        "\n",
        "  print('Epoch [{}/{}], Loss: {:.4f}'.format(epoch+1, num_epochs, running_loss))\n",
        "  running_loss = 0.0"
      ],
      "metadata": {
        "id": "Mlej0Ob2ojul",
        "colab": {
          "base_uri": "https://localhost:8080/"
        },
        "outputId": "6705d5b3-b4e7-4ec8-9d96-afa2e4340ab7"
      },
      "execution_count": 32,
      "outputs": [
        {
          "output_type": "stream",
          "name": "stdout",
          "text": [
            "Epoch [1/10], Loss: 83.0866\n",
            "Epoch [2/10], Loss: 53.7731\n",
            "Epoch [3/10], Loss: 46.2829\n",
            "Epoch [4/10], Loss: 42.6377\n",
            "Epoch [5/10], Loss: 39.7703\n",
            "Epoch [6/10], Loss: 37.6383\n",
            "Epoch [7/10], Loss: 34.9685\n",
            "Epoch [8/10], Loss: 31.2975\n",
            "Epoch [9/10], Loss: 27.7798\n",
            "Epoch [10/10], Loss: 26.1572\n"
          ]
        }
      ]
    },
    {
      "cell_type": "markdown",
      "source": [
        "We will find the top 1% errors on the dataset."
      ],
      "metadata": {
        "id": "HOcRon0wFKH3"
      }
    },
    {
      "cell_type": "code",
      "source": [
        "with torch.no_grad():\n",
        "    predictions = model(X.to(device))"
      ],
      "metadata": {
        "id": "UqCqXgdl4D0h"
      },
      "execution_count": 34,
      "outputs": []
    },
    {
      "cell_type": "code",
      "source": [
        "meanErrors = np.mean(np.abs(predictions.cpu().numpy() - Y.numpy()), axis=1).argsort()\n",
        "topOnePrecent = int((timestamps-sequence_length)*(1-outliers_fraction)) \n",
        "rnnAnomalies = meanErrors[topOnePrecent:]"
      ],
      "metadata": {
        "id": "qQx5rouS6hpP"
      },
      "execution_count": 36,
      "outputs": []
    },
    {
      "cell_type": "code",
      "source": [
        "isRNNOutliers = []\n",
        "for i in range(timestamps):\n",
        "  if i in rnnAnomalies:\n",
        "    isRNNOutliers.append(0)\n",
        "  else:\n",
        "    isRNNOutliers.append(1)\n",
        "isRNNOutliers = np.array(isRNNOutliers, dtype=np.bool8)"
      ],
      "metadata": {
        "id": "tvjAd6wT9WBg"
      },
      "execution_count": 48,
      "outputs": []
    },
    {
      "cell_type": "markdown",
      "source": [
        "##Ensemble model\n",
        "We will reduce the outputs of the models' predictions to a prediction array by major voting. We want the RNN to have three votes in the voting because it is the strongest model."
      ],
      "metadata": {
        "id": "TVXSfOIu0aNj"
      }
    },
    {
      "cell_type": "code",
      "source": [
        "y_preds.append(isZRScoreOutliers*2-1)\n",
        "y_preds.append(isRNNOutliers*2-1)\n",
        "y_preds.append(isRNNOutliers*2-1)\n",
        "y_preds.append(isRNNOutliers*2-1)"
      ],
      "metadata": {
        "id": "IaFA24FdudNe"
      },
      "execution_count": 73,
      "outputs": []
    },
    {
      "cell_type": "markdown",
      "source": [
        "We will sum all the timestamps and see which are negetive (since the models output is -1 for anomaly and 1 for regular sample)."
      ],
      "metadata": {
        "id": "Rlm9GoVtzGeO"
      }
    },
    {
      "cell_type": "code",
      "source": [
        "from functools import reduce\n",
        "outliers = reduce(lambda num1, num2: num1 + num2, y_preds)"
      ],
      "metadata": {
        "id": "s0hyVn895S9U"
      },
      "execution_count": 75,
      "outputs": []
    },
    {
      "cell_type": "code",
      "source": [
        "y_predictions = outliers < 0"
      ],
      "metadata": {
        "id": "QMQUYjbr7Jf9"
      },
      "execution_count": 76,
      "outputs": []
    },
    {
      "cell_type": "code",
      "source": [
        "print(\"There are\", (outliers < 0).sum(), \"outliers, in those intervals:\\n\",  list(intervals_extract(list(np.where(y_predictions)[0]))))"
      ],
      "metadata": {
        "id": "c5zOwIyszuS-",
        "colab": {
          "base_uri": "https://localhost:8080/"
        },
        "outputId": "6737b635-3807-4dd8-f04b-1581855bc39b"
      },
      "execution_count": 77,
      "outputs": [
        {
          "output_type": "stream",
          "name": "stdout",
          "text": [
            "There are 34 outliers, in those intervals:\n",
            " [[116, 117], [150, 150], [503, 504], [591, 591], [881, 881], [1104, 1104], [1155, 1156], [1172, 1172], [1472, 1479], [1639, 1639], [1847, 1847], [2599, 2600], [3447, 3454], [3529, 3529], [3531, 3531], [3543, 3543]]\n"
          ]
        }
      ]
    },
    {
      "cell_type": "markdown",
      "source": [
        "##Outputing the video\n",
        "We will create a video in which each frame is painted with a red border and slowed down if it is an outlier.\n",
        "If you want to see the video, download the file `output_video.mp4` from the local runtime."
      ],
      "metadata": {
        "id": "Ndhacg-A04KA"
      }
    },
    {
      "cell_type": "code",
      "source": [
        "import cv2\n",
        "\n",
        "cap = cv2.VideoCapture('./videos/video.mp4')\n",
        "fourcc = cv2.VideoWriter_fourcc(*'mp4v')\n",
        "border_size = 10\n",
        "out = cv2.VideoWriter('./output_video.mp4', fourcc, 30.0,\n",
        "                      (int(cap.get(3))+border_size*2, int(cap.get(4))+border_size*2))\n",
        "\n",
        "index = 0\n",
        "\n",
        "while cap.isOpened():\n",
        "  ret, frame = cap.read()\n",
        "  if not ret:\n",
        "      break\n",
        "  \n",
        "  if y_predictions[index]:\n",
        "    frame = cv2.copyMakeBorder(\n",
        "        frame,\n",
        "        top=border_size,\n",
        "        bottom=border_size,\n",
        "        left=border_size,\n",
        "        right=border_size,\n",
        "        borderType=cv2.BORDER_CONSTANT,\n",
        "        value=[0, 0, 255]\n",
        "    )\n",
        "    for i in range(30):\n",
        "      out.write(frame)\n",
        "  else:\n",
        "    frame = cv2.copyMakeBorder(\n",
        "        frame,\n",
        "        top=border_size,\n",
        "        bottom=border_size,\n",
        "        left=border_size,\n",
        "        right=border_size,\n",
        "        borderType=cv2.BORDER_CONSTANT,\n",
        "        value=[0, 0, 0]\n",
        "    )\n",
        "    out.write(frame)\n",
        "\n",
        "  index += 1\n",
        "\n",
        "cap.release()\n",
        "out.release()\n"
      ],
      "metadata": {
        "id": "Xyzp6rQgkkJa"
      },
      "execution_count": 78,
      "outputs": []
    }
  ]
}