{
 "cells": [
  {
   "cell_type": "markdown",
   "metadata": {},
   "source": [
    "# 0. Install and Import Dependencies"
   ]
  },
  {
   "cell_type": "code",
   "execution_count": 2,
   "metadata": {},
   "outputs": [
    {
     "name": "stdout",
     "output_type": "stream",
     "text": [
      "Requirement already satisfied: mediapipe in d:\\python 3.10.4\\lib\\site-packages (0.9.1.0)\n",
      "Requirement already satisfied: opencv-python in d:\\python 3.10.4\\lib\\site-packages (4.7.0.68)\n",
      "Requirement already satisfied: pandas in d:\\python 3.10.4\\lib\\site-packages (1.5.2)\n",
      "Requirement already satisfied: scikit-learn in d:\\python 3.10.4\\lib\\site-packages (1.2.0)\n",
      "Requirement already satisfied: attrs>=19.1.0 in d:\\python 3.10.4\\lib\\site-packages (from mediapipe) (22.2.0)\n",
      "Requirement already satisfied: protobuf<4,>=3.11 in d:\\python 3.10.4\\lib\\site-packages (from mediapipe) (3.20.0)\n",
      "Requirement already satisfied: absl-py in d:\\python 3.10.4\\lib\\site-packages (from mediapipe) (1.4.0)\n",
      "Requirement already satisfied: flatbuffers>=2.0 in d:\\python 3.10.4\\lib\\site-packages (from mediapipe) (23.1.21)\n",
      "Requirement already satisfied: matplotlib in d:\\python 3.10.4\\lib\\site-packages (from mediapipe) (3.6.3)\n",
      "Requirement already satisfied: opencv-contrib-python in d:\\python 3.10.4\\lib\\site-packages (from mediapipe) (4.7.0.72)\n",
      "Requirement already satisfied: numpy in d:\\python 3.10.4\\lib\\site-packages (from mediapipe) (1.23.4)\n",
      "Requirement already satisfied: pytz>=2020.1 in d:\\python 3.10.4\\lib\\site-packages (from pandas) (2022.7)\n",
      "Requirement already satisfied: python-dateutil>=2.8.1 in d:\\python 3.10.4\\lib\\site-packages (from pandas) (2.8.2)\n",
      "Requirement already satisfied: scipy>=1.3.2 in d:\\python 3.10.4\\lib\\site-packages (from scikit-learn) (1.9.3)\n",
      "Requirement already satisfied: joblib>=1.1.1 in d:\\python 3.10.4\\lib\\site-packages (from scikit-learn) (1.2.0)\n",
      "Requirement already satisfied: threadpoolctl>=2.0.0 in d:\\python 3.10.4\\lib\\site-packages (from scikit-learn) (3.1.0)\n",
      "Requirement already satisfied: six>=1.5 in d:\\python 3.10.4\\lib\\site-packages (from python-dateutil>=2.8.1->pandas) (1.16.0)\n",
      "Requirement already satisfied: fonttools>=4.22.0 in d:\\python 3.10.4\\lib\\site-packages (from matplotlib->mediapipe) (4.38.0)\n",
      "Requirement already satisfied: pillow>=6.2.0 in d:\\python 3.10.4\\lib\\site-packages (from matplotlib->mediapipe) (9.4.0)\n",
      "Requirement already satisfied: pyparsing>=2.2.1 in d:\\python 3.10.4\\lib\\site-packages (from matplotlib->mediapipe) (3.0.9)\n",
      "Requirement already satisfied: cycler>=0.10 in d:\\python 3.10.4\\lib\\site-packages (from matplotlib->mediapipe) (0.11.0)\n",
      "Requirement already satisfied: kiwisolver>=1.0.1 in d:\\python 3.10.4\\lib\\site-packages (from matplotlib->mediapipe) (1.4.4)\n",
      "Requirement already satisfied: contourpy>=1.0.1 in d:\\python 3.10.4\\lib\\site-packages (from matplotlib->mediapipe) (1.0.7)\n",
      "Requirement already satisfied: packaging>=20.0 in d:\\python 3.10.4\\lib\\site-packages (from matplotlib->mediapipe) (22.0)\n",
      "Note: you may need to restart the kernel to use updated packages.\n"
     ]
    },
    {
     "name": "stderr",
     "output_type": "stream",
     "text": [
      "WARNING: You are using pip version 22.0.4; however, version 23.0.1 is available.\n",
      "You should consider upgrading via the 'd:\\Python 3.10.4\\python.exe -m pip install --upgrade pip' command.\n"
     ]
    }
   ],
   "source": [
    "%pip install mediapipe opencv-python pandas scikit-learn"
   ]
  },
  {
   "cell_type": "markdown",
   "metadata": {},
   "source": [
    "# 1. Make Some Detections"
   ]
  },
  {
   "cell_type": "code",
   "execution_count": 1,
   "metadata": {},
   "outputs": [],
   "source": [
    "import holistic_interface as hi"
   ]
  },
  {
   "cell_type": "code",
   "execution_count": 6,
   "metadata": {},
   "outputs": [],
   "source": [
    "# let's make a train csv with 5 gestures: happy, sad, insecure, closed, open\n",
    "hi.process_video_to_coordinates_csv(output_file=\"train_set.csv\", class_name=\"happy\") # input_file = 0 (using camera)\n",
    "hi.process_video_to_coordinates_csv(output_file=\"train_set.csv\", class_name=\"sad\")\n",
    "hi.process_video_to_coordinates_csv(output_file=\"train_set.csv\", class_name=\"insecure\")\n",
    "hi.process_video_to_coordinates_csv(output_file=\"train_set.csv\", class_name=\"closed\")\n",
    "hi.process_video_to_coordinates_csv(output_file=\"train_set.csv\", class_name=\"open\")"
   ]
  },
  {
   "cell_type": "markdown",
   "metadata": {},
   "source": [
    "# 2. Capture Landmarks & Export to CSV\n",
    "<!--<img src=\"https://i.imgur.com/8bForKY.png\">-->\n",
    "<!--<img src=\"https://i.imgur.com/AzKNp7A.png\">-->"
   ]
  },
  {
   "cell_type": "code",
   "execution_count": 21,
   "metadata": {},
   "outputs": [],
   "source": [
    "import csv\n",
    "import os\n",
    "import numpy as np"
   ]
  },
  {
   "cell_type": "markdown",
   "metadata": {},
   "source": [
    "# 3. Train Custom Model Using Scikit Learn"
   ]
  },
  {
   "cell_type": "markdown",
   "metadata": {},
   "source": [
    "## 3.1 Read in Collected Data and Process"
   ]
  },
  {
   "cell_type": "code",
   "execution_count": 12,
   "metadata": {},
   "outputs": [],
   "source": [
    "import pandas as pd\n",
    "from sklearn.model_selection import train_test_split"
   ]
  },
  {
   "cell_type": "code",
   "execution_count": 22,
   "metadata": {},
   "outputs": [],
   "source": [
    "df = pd.read_csv('output_csv_directory/train_set.csv')"
   ]
  },
  {
   "cell_type": "code",
   "execution_count": 23,
   "metadata": {},
   "outputs": [
    {
     "data": {
      "text/html": [
       "<div>\n",
       "<style scoped>\n",
       "    .dataframe tbody tr th:only-of-type {\n",
       "        vertical-align: middle;\n",
       "    }\n",
       "\n",
       "    .dataframe tbody tr th {\n",
       "        vertical-align: top;\n",
       "    }\n",
       "\n",
       "    .dataframe thead th {\n",
       "        text-align: right;\n",
       "    }\n",
       "</style>\n",
       "<table border=\"1\" class=\"dataframe\">\n",
       "  <thead>\n",
       "    <tr style=\"text-align: right;\">\n",
       "      <th></th>\n",
       "      <th>class</th>\n",
       "      <th>x1</th>\n",
       "      <th>y1</th>\n",
       "      <th>z1</th>\n",
       "      <th>v1</th>\n",
       "      <th>x2</th>\n",
       "      <th>y2</th>\n",
       "      <th>z2</th>\n",
       "      <th>v2</th>\n",
       "      <th>x3</th>\n",
       "      <th>...</th>\n",
       "      <th>z499</th>\n",
       "      <th>v499</th>\n",
       "      <th>x500</th>\n",
       "      <th>y500</th>\n",
       "      <th>z500</th>\n",
       "      <th>v500</th>\n",
       "      <th>x501</th>\n",
       "      <th>y501</th>\n",
       "      <th>z501</th>\n",
       "      <th>v501</th>\n",
       "    </tr>\n",
       "  </thead>\n",
       "  <tbody>\n",
       "    <tr>\n",
       "      <th>0</th>\n",
       "      <td>happy</td>\n",
       "      <td>0.391849</td>\n",
       "      <td>0.516923</td>\n",
       "      <td>-0.894455</td>\n",
       "      <td>0.999691</td>\n",
       "      <td>0.427333</td>\n",
       "      <td>0.458827</td>\n",
       "      <td>-0.852394</td>\n",
       "      <td>0.999239</td>\n",
       "      <td>0.448190</td>\n",
       "      <td>...</td>\n",
       "      <td>-0.000998</td>\n",
       "      <td>0.0</td>\n",
       "      <td>0.459802</td>\n",
       "      <td>0.451261</td>\n",
       "      <td>-0.002874</td>\n",
       "      <td>0.0</td>\n",
       "      <td>0.465382</td>\n",
       "      <td>0.446142</td>\n",
       "      <td>-0.003864</td>\n",
       "      <td>0.0</td>\n",
       "    </tr>\n",
       "    <tr>\n",
       "      <th>1</th>\n",
       "      <td>happy</td>\n",
       "      <td>0.393469</td>\n",
       "      <td>0.518781</td>\n",
       "      <td>-0.786989</td>\n",
       "      <td>0.999701</td>\n",
       "      <td>0.429914</td>\n",
       "      <td>0.459826</td>\n",
       "      <td>-0.757943</td>\n",
       "      <td>0.999261</td>\n",
       "      <td>0.451027</td>\n",
       "      <td>...</td>\n",
       "      <td>-0.000832</td>\n",
       "      <td>0.0</td>\n",
       "      <td>0.463029</td>\n",
       "      <td>0.465176</td>\n",
       "      <td>-0.000850</td>\n",
       "      <td>0.0</td>\n",
       "      <td>0.468475</td>\n",
       "      <td>0.459475</td>\n",
       "      <td>-0.001631</td>\n",
       "      <td>0.0</td>\n",
       "    </tr>\n",
       "    <tr>\n",
       "      <th>2</th>\n",
       "      <td>happy</td>\n",
       "      <td>0.392925</td>\n",
       "      <td>0.521281</td>\n",
       "      <td>-0.754773</td>\n",
       "      <td>0.999654</td>\n",
       "      <td>0.429368</td>\n",
       "      <td>0.462215</td>\n",
       "      <td>-0.735322</td>\n",
       "      <td>0.999171</td>\n",
       "      <td>0.450317</td>\n",
       "      <td>...</td>\n",
       "      <td>-0.003051</td>\n",
       "      <td>0.0</td>\n",
       "      <td>0.454455</td>\n",
       "      <td>0.474659</td>\n",
       "      <td>-0.004697</td>\n",
       "      <td>0.0</td>\n",
       "      <td>0.460101</td>\n",
       "      <td>0.468695</td>\n",
       "      <td>-0.005572</td>\n",
       "      <td>0.0</td>\n",
       "    </tr>\n",
       "    <tr>\n",
       "      <th>3</th>\n",
       "      <td>happy</td>\n",
       "      <td>0.392943</td>\n",
       "      <td>0.523102</td>\n",
       "      <td>-0.856822</td>\n",
       "      <td>0.999607</td>\n",
       "      <td>0.429515</td>\n",
       "      <td>0.463140</td>\n",
       "      <td>-0.824333</td>\n",
       "      <td>0.999099</td>\n",
       "      <td>0.450395</td>\n",
       "      <td>...</td>\n",
       "      <td>-0.003357</td>\n",
       "      <td>0.0</td>\n",
       "      <td>0.453771</td>\n",
       "      <td>0.472003</td>\n",
       "      <td>-0.005598</td>\n",
       "      <td>0.0</td>\n",
       "      <td>0.459487</td>\n",
       "      <td>0.465917</td>\n",
       "      <td>-0.006660</td>\n",
       "      <td>0.0</td>\n",
       "    </tr>\n",
       "    <tr>\n",
       "      <th>4</th>\n",
       "      <td>happy</td>\n",
       "      <td>0.393619</td>\n",
       "      <td>0.524245</td>\n",
       "      <td>-0.904315</td>\n",
       "      <td>0.999538</td>\n",
       "      <td>0.429875</td>\n",
       "      <td>0.464322</td>\n",
       "      <td>-0.852316</td>\n",
       "      <td>0.998959</td>\n",
       "      <td>0.450752</td>\n",
       "      <td>...</td>\n",
       "      <td>-0.003150</td>\n",
       "      <td>0.0</td>\n",
       "      <td>0.451178</td>\n",
       "      <td>0.473983</td>\n",
       "      <td>-0.004575</td>\n",
       "      <td>0.0</td>\n",
       "      <td>0.456644</td>\n",
       "      <td>0.467928</td>\n",
       "      <td>-0.005507</td>\n",
       "      <td>0.0</td>\n",
       "    </tr>\n",
       "  </tbody>\n",
       "</table>\n",
       "<p>5 rows × 2005 columns</p>\n",
       "</div>"
      ],
      "text/plain": [
       "   class        x1        y1        z1        v1        x2        y2  \\\n",
       "0  happy  0.391849  0.516923 -0.894455  0.999691  0.427333  0.458827   \n",
       "1  happy  0.393469  0.518781 -0.786989  0.999701  0.429914  0.459826   \n",
       "2  happy  0.392925  0.521281 -0.754773  0.999654  0.429368  0.462215   \n",
       "3  happy  0.392943  0.523102 -0.856822  0.999607  0.429515  0.463140   \n",
       "4  happy  0.393619  0.524245 -0.904315  0.999538  0.429875  0.464322   \n",
       "\n",
       "         z2        v2        x3  ...      z499  v499      x500      y500  \\\n",
       "0 -0.852394  0.999239  0.448190  ... -0.000998   0.0  0.459802  0.451261   \n",
       "1 -0.757943  0.999261  0.451027  ... -0.000832   0.0  0.463029  0.465176   \n",
       "2 -0.735322  0.999171  0.450317  ... -0.003051   0.0  0.454455  0.474659   \n",
       "3 -0.824333  0.999099  0.450395  ... -0.003357   0.0  0.453771  0.472003   \n",
       "4 -0.852316  0.998959  0.450752  ... -0.003150   0.0  0.451178  0.473983   \n",
       "\n",
       "       z500  v500      x501      y501      z501  v501  \n",
       "0 -0.002874   0.0  0.465382  0.446142 -0.003864   0.0  \n",
       "1 -0.000850   0.0  0.468475  0.459475 -0.001631   0.0  \n",
       "2 -0.004697   0.0  0.460101  0.468695 -0.005572   0.0  \n",
       "3 -0.005598   0.0  0.459487  0.465917 -0.006660   0.0  \n",
       "4 -0.004575   0.0  0.456644  0.467928 -0.005507   0.0  \n",
       "\n",
       "[5 rows x 2005 columns]"
      ]
     },
     "execution_count": 23,
     "metadata": {},
     "output_type": "execute_result"
    }
   ],
   "source": [
    "df.head()"
   ]
  },
  {
   "cell_type": "code",
   "execution_count": 24,
   "metadata": {},
   "outputs": [
    {
     "data": {
      "text/html": [
       "<div>\n",
       "<style scoped>\n",
       "    .dataframe tbody tr th:only-of-type {\n",
       "        vertical-align: middle;\n",
       "    }\n",
       "\n",
       "    .dataframe tbody tr th {\n",
       "        vertical-align: top;\n",
       "    }\n",
       "\n",
       "    .dataframe thead th {\n",
       "        text-align: right;\n",
       "    }\n",
       "</style>\n",
       "<table border=\"1\" class=\"dataframe\">\n",
       "  <thead>\n",
       "    <tr style=\"text-align: right;\">\n",
       "      <th></th>\n",
       "      <th>class</th>\n",
       "      <th>x1</th>\n",
       "      <th>y1</th>\n",
       "      <th>z1</th>\n",
       "      <th>v1</th>\n",
       "      <th>x2</th>\n",
       "      <th>y2</th>\n",
       "      <th>z2</th>\n",
       "      <th>v2</th>\n",
       "      <th>x3</th>\n",
       "      <th>...</th>\n",
       "      <th>z499</th>\n",
       "      <th>v499</th>\n",
       "      <th>x500</th>\n",
       "      <th>y500</th>\n",
       "      <th>z500</th>\n",
       "      <th>v500</th>\n",
       "      <th>x501</th>\n",
       "      <th>y501</th>\n",
       "      <th>z501</th>\n",
       "      <th>v501</th>\n",
       "    </tr>\n",
       "  </thead>\n",
       "  <tbody>\n",
       "    <tr>\n",
       "      <th>174</th>\n",
       "      <td>bored</td>\n",
       "      <td>0.471220</td>\n",
       "      <td>0.460938</td>\n",
       "      <td>-0.946258</td>\n",
       "      <td>0.999734</td>\n",
       "      <td>0.498142</td>\n",
       "      <td>0.430002</td>\n",
       "      <td>-0.891383</td>\n",
       "      <td>0.999348</td>\n",
       "      <td>0.515607</td>\n",
       "      <td>...</td>\n",
       "      <td>0.015140</td>\n",
       "      <td>0.0</td>\n",
       "      <td>0.539257</td>\n",
       "      <td>0.440018</td>\n",
       "      <td>0.026564</td>\n",
       "      <td>0.0</td>\n",
       "      <td>0.544518</td>\n",
       "      <td>0.433301</td>\n",
       "      <td>0.027442</td>\n",
       "      <td>0.0</td>\n",
       "    </tr>\n",
       "    <tr>\n",
       "      <th>175</th>\n",
       "      <td>bored</td>\n",
       "      <td>0.472218</td>\n",
       "      <td>0.461757</td>\n",
       "      <td>-0.932575</td>\n",
       "      <td>0.999746</td>\n",
       "      <td>0.499847</td>\n",
       "      <td>0.430018</td>\n",
       "      <td>-0.875760</td>\n",
       "      <td>0.999362</td>\n",
       "      <td>0.517517</td>\n",
       "      <td>...</td>\n",
       "      <td>0.016118</td>\n",
       "      <td>0.0</td>\n",
       "      <td>0.541491</td>\n",
       "      <td>0.439133</td>\n",
       "      <td>0.028052</td>\n",
       "      <td>0.0</td>\n",
       "      <td>0.546566</td>\n",
       "      <td>0.432126</td>\n",
       "      <td>0.029014</td>\n",
       "      <td>0.0</td>\n",
       "    </tr>\n",
       "    <tr>\n",
       "      <th>176</th>\n",
       "      <td>bored</td>\n",
       "      <td>0.475249</td>\n",
       "      <td>0.462586</td>\n",
       "      <td>-0.930968</td>\n",
       "      <td>0.999759</td>\n",
       "      <td>0.503607</td>\n",
       "      <td>0.430034</td>\n",
       "      <td>-0.871068</td>\n",
       "      <td>0.999387</td>\n",
       "      <td>0.521546</td>\n",
       "      <td>...</td>\n",
       "      <td>0.015645</td>\n",
       "      <td>0.0</td>\n",
       "      <td>0.546675</td>\n",
       "      <td>0.440951</td>\n",
       "      <td>0.026197</td>\n",
       "      <td>0.0</td>\n",
       "      <td>0.551901</td>\n",
       "      <td>0.434144</td>\n",
       "      <td>0.027046</td>\n",
       "      <td>0.0</td>\n",
       "    </tr>\n",
       "    <tr>\n",
       "      <th>177</th>\n",
       "      <td>bored</td>\n",
       "      <td>0.477940</td>\n",
       "      <td>0.464975</td>\n",
       "      <td>-0.942410</td>\n",
       "      <td>0.999776</td>\n",
       "      <td>0.506738</td>\n",
       "      <td>0.431039</td>\n",
       "      <td>-0.877395</td>\n",
       "      <td>0.999421</td>\n",
       "      <td>0.524879</td>\n",
       "      <td>...</td>\n",
       "      <td>0.015817</td>\n",
       "      <td>0.0</td>\n",
       "      <td>0.546669</td>\n",
       "      <td>0.439357</td>\n",
       "      <td>0.025450</td>\n",
       "      <td>0.0</td>\n",
       "      <td>0.551743</td>\n",
       "      <td>0.432256</td>\n",
       "      <td>0.026243</td>\n",
       "      <td>0.0</td>\n",
       "    </tr>\n",
       "    <tr>\n",
       "      <th>178</th>\n",
       "      <td>bored</td>\n",
       "      <td>0.479654</td>\n",
       "      <td>0.464989</td>\n",
       "      <td>-0.886778</td>\n",
       "      <td>0.999787</td>\n",
       "      <td>0.508909</td>\n",
       "      <td>0.430819</td>\n",
       "      <td>-0.839502</td>\n",
       "      <td>0.999447</td>\n",
       "      <td>0.527222</td>\n",
       "      <td>...</td>\n",
       "      <td>0.014984</td>\n",
       "      <td>0.0</td>\n",
       "      <td>0.547394</td>\n",
       "      <td>0.438123</td>\n",
       "      <td>0.024520</td>\n",
       "      <td>0.0</td>\n",
       "      <td>0.552434</td>\n",
       "      <td>0.431336</td>\n",
       "      <td>0.025211</td>\n",
       "      <td>0.0</td>\n",
       "    </tr>\n",
       "  </tbody>\n",
       "</table>\n",
       "<p>5 rows × 2005 columns</p>\n",
       "</div>"
      ],
      "text/plain": [
       "     class        x1        y1        z1        v1        x2        y2  \\\n",
       "174  bored  0.471220  0.460938 -0.946258  0.999734  0.498142  0.430002   \n",
       "175  bored  0.472218  0.461757 -0.932575  0.999746  0.499847  0.430018   \n",
       "176  bored  0.475249  0.462586 -0.930968  0.999759  0.503607  0.430034   \n",
       "177  bored  0.477940  0.464975 -0.942410  0.999776  0.506738  0.431039   \n",
       "178  bored  0.479654  0.464989 -0.886778  0.999787  0.508909  0.430819   \n",
       "\n",
       "           z2        v2        x3  ...      z499  v499      x500      y500  \\\n",
       "174 -0.891383  0.999348  0.515607  ...  0.015140   0.0  0.539257  0.440018   \n",
       "175 -0.875760  0.999362  0.517517  ...  0.016118   0.0  0.541491  0.439133   \n",
       "176 -0.871068  0.999387  0.521546  ...  0.015645   0.0  0.546675  0.440951   \n",
       "177 -0.877395  0.999421  0.524879  ...  0.015817   0.0  0.546669  0.439357   \n",
       "178 -0.839502  0.999447  0.527222  ...  0.014984   0.0  0.547394  0.438123   \n",
       "\n",
       "         z500  v500      x501      y501      z501  v501  \n",
       "174  0.026564   0.0  0.544518  0.433301  0.027442   0.0  \n",
       "175  0.028052   0.0  0.546566  0.432126  0.029014   0.0  \n",
       "176  0.026197   0.0  0.551901  0.434144  0.027046   0.0  \n",
       "177  0.025450   0.0  0.551743  0.432256  0.026243   0.0  \n",
       "178  0.024520   0.0  0.552434  0.431336  0.025211   0.0  \n",
       "\n",
       "[5 rows x 2005 columns]"
      ]
     },
     "execution_count": 24,
     "metadata": {},
     "output_type": "execute_result"
    }
   ],
   "source": [
    "df.tail()"
   ]
  },
  {
   "cell_type": "code",
   "execution_count": 25,
   "metadata": {},
   "outputs": [
    {
     "data": {
      "text/html": [
       "<div>\n",
       "<style scoped>\n",
       "    .dataframe tbody tr th:only-of-type {\n",
       "        vertical-align: middle;\n",
       "    }\n",
       "\n",
       "    .dataframe tbody tr th {\n",
       "        vertical-align: top;\n",
       "    }\n",
       "\n",
       "    .dataframe thead th {\n",
       "        text-align: right;\n",
       "    }\n",
       "</style>\n",
       "<table border=\"1\" class=\"dataframe\">\n",
       "  <thead>\n",
       "    <tr style=\"text-align: right;\">\n",
       "      <th></th>\n",
       "      <th>class</th>\n",
       "      <th>x1</th>\n",
       "      <th>y1</th>\n",
       "      <th>z1</th>\n",
       "      <th>v1</th>\n",
       "      <th>x2</th>\n",
       "      <th>y2</th>\n",
       "      <th>z2</th>\n",
       "      <th>v2</th>\n",
       "      <th>x3</th>\n",
       "      <th>...</th>\n",
       "      <th>z499</th>\n",
       "      <th>v499</th>\n",
       "      <th>x500</th>\n",
       "      <th>y500</th>\n",
       "      <th>z500</th>\n",
       "      <th>v500</th>\n",
       "      <th>x501</th>\n",
       "      <th>y501</th>\n",
       "      <th>z501</th>\n",
       "      <th>v501</th>\n",
       "    </tr>\n",
       "  </thead>\n",
       "  <tbody>\n",
       "    <tr>\n",
       "      <th>45</th>\n",
       "      <td>sad</td>\n",
       "      <td>0.513177</td>\n",
       "      <td>0.603558</td>\n",
       "      <td>-0.901145</td>\n",
       "      <td>0.999456</td>\n",
       "      <td>0.543913</td>\n",
       "      <td>0.538873</td>\n",
       "      <td>-0.843799</td>\n",
       "      <td>0.999229</td>\n",
       "      <td>0.559623</td>\n",
       "      <td>...</td>\n",
       "      <td>-0.017551</td>\n",
       "      <td>0.0</td>\n",
       "      <td>0.574380</td>\n",
       "      <td>0.544626</td>\n",
       "      <td>-0.012105</td>\n",
       "      <td>0.0</td>\n",
       "      <td>0.579595</td>\n",
       "      <td>0.540386</td>\n",
       "      <td>-0.013213</td>\n",
       "      <td>0.0</td>\n",
       "    </tr>\n",
       "    <tr>\n",
       "      <th>46</th>\n",
       "      <td>sad</td>\n",
       "      <td>0.513745</td>\n",
       "      <td>0.592950</td>\n",
       "      <td>-0.901265</td>\n",
       "      <td>0.999486</td>\n",
       "      <td>0.545287</td>\n",
       "      <td>0.527699</td>\n",
       "      <td>-0.845783</td>\n",
       "      <td>0.999261</td>\n",
       "      <td>0.561797</td>\n",
       "      <td>...</td>\n",
       "      <td>-0.016065</td>\n",
       "      <td>0.0</td>\n",
       "      <td>0.575444</td>\n",
       "      <td>0.512974</td>\n",
       "      <td>-0.008210</td>\n",
       "      <td>0.0</td>\n",
       "      <td>0.580036</td>\n",
       "      <td>0.509803</td>\n",
       "      <td>-0.009208</td>\n",
       "      <td>0.0</td>\n",
       "    </tr>\n",
       "    <tr>\n",
       "      <th>47</th>\n",
       "      <td>sad</td>\n",
       "      <td>0.514274</td>\n",
       "      <td>0.576734</td>\n",
       "      <td>-0.903625</td>\n",
       "      <td>0.999510</td>\n",
       "      <td>0.546100</td>\n",
       "      <td>0.511330</td>\n",
       "      <td>-0.850446</td>\n",
       "      <td>0.999286</td>\n",
       "      <td>0.562914</td>\n",
       "      <td>...</td>\n",
       "      <td>-0.014521</td>\n",
       "      <td>0.0</td>\n",
       "      <td>0.574565</td>\n",
       "      <td>0.501767</td>\n",
       "      <td>-0.006952</td>\n",
       "      <td>0.0</td>\n",
       "      <td>0.579541</td>\n",
       "      <td>0.499195</td>\n",
       "      <td>-0.007927</td>\n",
       "      <td>0.0</td>\n",
       "    </tr>\n",
       "    <tr>\n",
       "      <th>48</th>\n",
       "      <td>sad</td>\n",
       "      <td>0.513790</td>\n",
       "      <td>0.517526</td>\n",
       "      <td>-0.904559</td>\n",
       "      <td>0.999536</td>\n",
       "      <td>0.545001</td>\n",
       "      <td>0.455008</td>\n",
       "      <td>-0.852169</td>\n",
       "      <td>0.999298</td>\n",
       "      <td>0.562368</td>\n",
       "      <td>...</td>\n",
       "      <td>-0.015055</td>\n",
       "      <td>0.0</td>\n",
       "      <td>0.567047</td>\n",
       "      <td>0.425345</td>\n",
       "      <td>-0.003022</td>\n",
       "      <td>0.0</td>\n",
       "      <td>0.572251</td>\n",
       "      <td>0.421284</td>\n",
       "      <td>-0.003595</td>\n",
       "      <td>0.0</td>\n",
       "    </tr>\n",
       "    <tr>\n",
       "      <th>49</th>\n",
       "      <td>sad</td>\n",
       "      <td>0.512637</td>\n",
       "      <td>0.481048</td>\n",
       "      <td>-0.916530</td>\n",
       "      <td>0.999562</td>\n",
       "      <td>0.542094</td>\n",
       "      <td>0.417763</td>\n",
       "      <td>-0.863326</td>\n",
       "      <td>0.999322</td>\n",
       "      <td>0.560232</td>\n",
       "      <td>...</td>\n",
       "      <td>-0.015700</td>\n",
       "      <td>0.0</td>\n",
       "      <td>0.559143</td>\n",
       "      <td>0.396765</td>\n",
       "      <td>-0.002202</td>\n",
       "      <td>0.0</td>\n",
       "      <td>0.563664</td>\n",
       "      <td>0.393208</td>\n",
       "      <td>-0.002580</td>\n",
       "      <td>0.0</td>\n",
       "    </tr>\n",
       "  </tbody>\n",
       "</table>\n",
       "<p>5 rows × 2005 columns</p>\n",
       "</div>"
      ],
      "text/plain": [
       "   class        x1        y1        z1        v1        x2        y2  \\\n",
       "45   sad  0.513177  0.603558 -0.901145  0.999456  0.543913  0.538873   \n",
       "46   sad  0.513745  0.592950 -0.901265  0.999486  0.545287  0.527699   \n",
       "47   sad  0.514274  0.576734 -0.903625  0.999510  0.546100  0.511330   \n",
       "48   sad  0.513790  0.517526 -0.904559  0.999536  0.545001  0.455008   \n",
       "49   sad  0.512637  0.481048 -0.916530  0.999562  0.542094  0.417763   \n",
       "\n",
       "          z2        v2        x3  ...      z499  v499      x500      y500  \\\n",
       "45 -0.843799  0.999229  0.559623  ... -0.017551   0.0  0.574380  0.544626   \n",
       "46 -0.845783  0.999261  0.561797  ... -0.016065   0.0  0.575444  0.512974   \n",
       "47 -0.850446  0.999286  0.562914  ... -0.014521   0.0  0.574565  0.501767   \n",
       "48 -0.852169  0.999298  0.562368  ... -0.015055   0.0  0.567047  0.425345   \n",
       "49 -0.863326  0.999322  0.560232  ... -0.015700   0.0  0.559143  0.396765   \n",
       "\n",
       "        z500  v500      x501      y501      z501  v501  \n",
       "45 -0.012105   0.0  0.579595  0.540386 -0.013213   0.0  \n",
       "46 -0.008210   0.0  0.580036  0.509803 -0.009208   0.0  \n",
       "47 -0.006952   0.0  0.579541  0.499195 -0.007927   0.0  \n",
       "48 -0.003022   0.0  0.572251  0.421284 -0.003595   0.0  \n",
       "49 -0.002202   0.0  0.563664  0.393208 -0.002580   0.0  \n",
       "\n",
       "[5 rows x 2005 columns]"
      ]
     },
     "execution_count": 25,
     "metadata": {},
     "output_type": "execute_result"
    }
   ],
   "source": [
    "df[df['class']=='sad'].head()"
   ]
  },
  {
   "cell_type": "code",
   "execution_count": 26,
   "metadata": {},
   "outputs": [],
   "source": [
    "X = df.drop('class', axis=1) # features\n",
    "y = df['class'] # target value"
   ]
  },
  {
   "cell_type": "code",
   "execution_count": 31,
   "metadata": {},
   "outputs": [],
   "source": [
    "X_train, X_test, y_train, y_test = train_test_split(X, y, test_size=0.3, random_state=1234)"
   ]
  },
  {
   "cell_type": "code",
   "execution_count": 32,
   "metadata": {},
   "outputs": [
    {
     "data": {
      "text/plain": [
       "138    bored\n",
       "144    bored\n",
       "168    bored\n",
       "130    bored\n",
       "145    bored\n",
       "95       sad\n",
       "164    bored\n",
       "74       sad\n",
       "91       sad\n",
       "39     happy\n",
       "77       sad\n",
       "102      sad\n",
       "31     happy\n",
       "153    bored\n",
       "117    bored\n",
       "40     happy\n",
       "9      happy\n",
       "54       sad\n",
       "141    bored\n",
       "79       sad\n",
       "49       sad\n",
       "43     happy\n",
       "122    bored\n",
       "176    bored\n",
       "121    bored\n",
       "63       sad\n",
       "25     happy\n",
       "59       sad\n",
       "6      happy\n",
       "51       sad\n",
       "29     happy\n",
       "165    bored\n",
       "148    bored\n",
       "142    bored\n",
       "111    bored\n",
       "48       sad\n",
       "105      sad\n",
       "65       sad\n",
       "58       sad\n",
       "27     happy\n",
       "88       sad\n",
       "92       sad\n",
       "32     happy\n",
       "99       sad\n",
       "108    bored\n",
       "159    bored\n",
       "132    bored\n",
       "11     happy\n",
       "61       sad\n",
       "171    bored\n",
       "131    bored\n",
       "17     happy\n",
       "166    bored\n",
       "83       sad\n",
       "Name: class, dtype: object"
      ]
     },
     "execution_count": 32,
     "metadata": {},
     "output_type": "execute_result"
    }
   ],
   "source": [
    "y_test"
   ]
  },
  {
   "cell_type": "markdown",
   "metadata": {},
   "source": [
    "## 3.2 Train Machine Learning Classification Model"
   ]
  },
  {
   "cell_type": "code",
   "execution_count": 33,
   "metadata": {},
   "outputs": [],
   "source": [
    "from sklearn.pipeline import make_pipeline \n",
    "from sklearn.preprocessing import StandardScaler \n",
    "\n",
    "from sklearn.linear_model import LogisticRegression, RidgeClassifier\n",
    "from sklearn.ensemble import RandomForestClassifier, GradientBoostingClassifier"
   ]
  },
  {
   "cell_type": "code",
   "execution_count": 34,
   "metadata": {},
   "outputs": [],
   "source": [
    "pipelines = {\n",
    "    'lr':make_pipeline(StandardScaler(), LogisticRegression()),\n",
    "    'rc':make_pipeline(StandardScaler(), RidgeClassifier()),\n",
    "    'rf':make_pipeline(StandardScaler(), RandomForestClassifier()),\n",
    "    'gb':make_pipeline(StandardScaler(), GradientBoostingClassifier()),\n",
    "}"
   ]
  },
  {
   "cell_type": "code",
   "execution_count": 35,
   "metadata": {},
   "outputs": [],
   "source": [
    "fit_models = {}\n",
    "for algo, pipeline in pipelines.items():\n",
    "    model = pipeline.fit(X_train, y_train)\n",
    "    fit_models[algo] = model"
   ]
  },
  {
   "cell_type": "code",
   "execution_count": 32,
   "metadata": {},
   "outputs": [
    {
     "data": {
      "text/plain": [
       "{'lr': Pipeline(steps=[('standardscaler', StandardScaler()),\n",
       "                 ('logisticregression', LogisticRegression())]),\n",
       " 'rc': Pipeline(steps=[('standardscaler', StandardScaler()),\n",
       "                 ('ridgeclassifier', RidgeClassifier())]),\n",
       " 'rf': Pipeline(steps=[('standardscaler', StandardScaler()),\n",
       "                 ('randomforestclassifier', RandomForestClassifier())]),\n",
       " 'gb': Pipeline(steps=[('standardscaler', StandardScaler()),\n",
       "                 ('gradientboostingclassifier', GradientBoostingClassifier())])}"
      ]
     },
     "execution_count": 32,
     "metadata": {},
     "output_type": "execute_result"
    }
   ],
   "source": [
    "fit_models"
   ]
  },
  {
   "cell_type": "code",
   "execution_count": 36,
   "metadata": {},
   "outputs": [
    {
     "data": {
      "text/plain": [
       "array(['bored', 'bored', 'bored', 'bored', 'bored', 'sad', 'bored', 'sad',\n",
       "       'sad', 'happy', 'sad', 'sad', 'happy', 'bored', 'bored', 'happy',\n",
       "       'happy', 'sad', 'bored', 'sad', 'sad', 'happy', 'bored', 'bored',\n",
       "       'bored', 'sad', 'happy', 'sad', 'happy', 'sad', 'happy', 'bored',\n",
       "       'bored', 'bored', 'bored', 'sad', 'sad', 'sad', 'sad', 'happy',\n",
       "       'sad', 'sad', 'happy', 'sad', 'bored', 'bored', 'bored', 'happy',\n",
       "       'sad', 'bored', 'bored', 'happy', 'bored', 'sad'], dtype='<U5')"
      ]
     },
     "execution_count": 36,
     "metadata": {},
     "output_type": "execute_result"
    }
   ],
   "source": [
    "fit_models['rc'].predict(X_test)"
   ]
  },
  {
   "cell_type": "markdown",
   "metadata": {},
   "source": [
    "## 3.3 Evaluate and Serialize Model "
   ]
  },
  {
   "cell_type": "code",
   "execution_count": 34,
   "metadata": {},
   "outputs": [],
   "source": [
    "from sklearn.metrics import accuracy_score # Accuracy metrics \n",
    "import pickle "
   ]
  },
  {
   "cell_type": "code",
   "execution_count": 35,
   "metadata": {},
   "outputs": [
    {
     "name": "stdout",
     "output_type": "stream",
     "text": [
      "lr 0.4166666666666667\n",
      "rc 0.375\n",
      "rf 0.375\n",
      "gb 0.375\n"
     ]
    }
   ],
   "source": [
    "for algo, model in fit_models.items():\n",
    "    yhat = model.predict(X_test)\n",
    "    print(algo, accuracy_score(y_test, yhat))"
   ]
  },
  {
   "cell_type": "code",
   "execution_count": 36,
   "metadata": {},
   "outputs": [
    {
     "data": {
      "text/plain": [
       "array(['sad', 'happy', 'sad', 'happy', 'happy', 'happy', 'sad', 'happy',\n",
       "       'sad', 'happy', 'happy', 'happy', 'happy', 'sad', 'happy', 'sad',\n",
       "       'sad', 'happy', 'happy', 'sad', 'happy', 'sad', 'happy', 'sad'],\n",
       "      dtype=object)"
      ]
     },
     "execution_count": 36,
     "metadata": {},
     "output_type": "execute_result"
    }
   ],
   "source": [
    "fit_models['rf'].predict(X_test)"
   ]
  },
  {
   "cell_type": "code",
   "execution_count": 37,
   "metadata": {},
   "outputs": [
    {
     "data": {
      "text/plain": [
       "22    happy\n",
       "33    happy\n",
       "31    happy\n",
       "72      sad\n",
       "40    happy\n",
       "35    happy\n",
       "4     happy\n",
       "51      sad\n",
       "25    happy\n",
       "52      sad\n",
       "21    happy\n",
       "73      sad\n",
       "45      sad\n",
       "55      sad\n",
       "42    happy\n",
       "10    happy\n",
       "18    happy\n",
       "6     happy\n",
       "27    happy\n",
       "8     happy\n",
       "64      sad\n",
       "67      sad\n",
       "66      sad\n",
       "29    happy\n",
       "Name: class, dtype: object"
      ]
     },
     "execution_count": 37,
     "metadata": {},
     "output_type": "execute_result"
    }
   ],
   "source": [
    "y_test"
   ]
  },
  {
   "cell_type": "code",
   "execution_count": 38,
   "metadata": {},
   "outputs": [],
   "source": [
    "with open('body_language.pkl', 'wb') as f:\n",
    "    pickle.dump(fit_models['rf'], f)"
   ]
  },
  {
   "cell_type": "markdown",
   "metadata": {},
   "source": [
    "# 4. Make Detections with Model"
   ]
  },
  {
   "cell_type": "code",
   "execution_count": null,
   "metadata": {},
   "outputs": [],
   "source": [
    "with open('body_language.pkl', 'rb') as f:\n",
    "    model = pickle.load(f)"
   ]
  },
  {
   "cell_type": "code",
   "execution_count": null,
   "metadata": {},
   "outputs": [
    {
     "data": {
      "text/html": [
       "<style>#sk-container-id-3 {color: black;background-color: white;}#sk-container-id-3 pre{padding: 0;}#sk-container-id-3 div.sk-toggleable {background-color: white;}#sk-container-id-3 label.sk-toggleable__label {cursor: pointer;display: block;width: 100%;margin-bottom: 0;padding: 0.3em;box-sizing: border-box;text-align: center;}#sk-container-id-3 label.sk-toggleable__label-arrow:before {content: \"▸\";float: left;margin-right: 0.25em;color: #696969;}#sk-container-id-3 label.sk-toggleable__label-arrow:hover:before {color: black;}#sk-container-id-3 div.sk-estimator:hover label.sk-toggleable__label-arrow:before {color: black;}#sk-container-id-3 div.sk-toggleable__content {max-height: 0;max-width: 0;overflow: hidden;text-align: left;background-color: #f0f8ff;}#sk-container-id-3 div.sk-toggleable__content pre {margin: 0.2em;color: black;border-radius: 0.25em;background-color: #f0f8ff;}#sk-container-id-3 input.sk-toggleable__control:checked~div.sk-toggleable__content {max-height: 200px;max-width: 100%;overflow: auto;}#sk-container-id-3 input.sk-toggleable__control:checked~label.sk-toggleable__label-arrow:before {content: \"▾\";}#sk-container-id-3 div.sk-estimator input.sk-toggleable__control:checked~label.sk-toggleable__label {background-color: #d4ebff;}#sk-container-id-3 div.sk-label input.sk-toggleable__control:checked~label.sk-toggleable__label {background-color: #d4ebff;}#sk-container-id-3 input.sk-hidden--visually {border: 0;clip: rect(1px 1px 1px 1px);clip: rect(1px, 1px, 1px, 1px);height: 1px;margin: -1px;overflow: hidden;padding: 0;position: absolute;width: 1px;}#sk-container-id-3 div.sk-estimator {font-family: monospace;background-color: #f0f8ff;border: 1px dotted black;border-radius: 0.25em;box-sizing: border-box;margin-bottom: 0.5em;}#sk-container-id-3 div.sk-estimator:hover {background-color: #d4ebff;}#sk-container-id-3 div.sk-parallel-item::after {content: \"\";width: 100%;border-bottom: 1px solid gray;flex-grow: 1;}#sk-container-id-3 div.sk-label:hover label.sk-toggleable__label {background-color: #d4ebff;}#sk-container-id-3 div.sk-serial::before {content: \"\";position: absolute;border-left: 1px solid gray;box-sizing: border-box;top: 0;bottom: 0;left: 50%;z-index: 0;}#sk-container-id-3 div.sk-serial {display: flex;flex-direction: column;align-items: center;background-color: white;padding-right: 0.2em;padding-left: 0.2em;position: relative;}#sk-container-id-3 div.sk-item {position: relative;z-index: 1;}#sk-container-id-3 div.sk-parallel {display: flex;align-items: stretch;justify-content: center;background-color: white;position: relative;}#sk-container-id-3 div.sk-item::before, #sk-container-id-3 div.sk-parallel-item::before {content: \"\";position: absolute;border-left: 1px solid gray;box-sizing: border-box;top: 0;bottom: 0;left: 50%;z-index: -1;}#sk-container-id-3 div.sk-parallel-item {display: flex;flex-direction: column;z-index: 1;position: relative;background-color: white;}#sk-container-id-3 div.sk-parallel-item:first-child::after {align-self: flex-end;width: 50%;}#sk-container-id-3 div.sk-parallel-item:last-child::after {align-self: flex-start;width: 50%;}#sk-container-id-3 div.sk-parallel-item:only-child::after {width: 0;}#sk-container-id-3 div.sk-dashed-wrapped {border: 1px dashed gray;margin: 0 0.4em 0.5em 0.4em;box-sizing: border-box;padding-bottom: 0.4em;background-color: white;}#sk-container-id-3 div.sk-label label {font-family: monospace;font-weight: bold;display: inline-block;line-height: 1.2em;}#sk-container-id-3 div.sk-label-container {text-align: center;}#sk-container-id-3 div.sk-container {/* jupyter's `normalize.less` sets `[hidden] { display: none; }` but bootstrap.min.css set `[hidden] { display: none !important; }` so we also need the `!important` here to be able to override the default hidden behavior on the sphinx rendered scikit-learn.org. See: https://github.com/scikit-learn/scikit-learn/issues/21755 */display: inline-block !important;position: relative;}#sk-container-id-3 div.sk-text-repr-fallback {display: none;}</style><div id=\"sk-container-id-3\" class=\"sk-top-container\"><div class=\"sk-text-repr-fallback\"><pre>Pipeline(steps=[(&#x27;standardscaler&#x27;, StandardScaler()),\n",
       "                (&#x27;randomforestclassifier&#x27;, RandomForestClassifier())])</pre><b>In a Jupyter environment, please rerun this cell to show the HTML representation or trust the notebook. <br />On GitHub, the HTML representation is unable to render, please try loading this page with nbviewer.org.</b></div><div class=\"sk-container\" hidden><div class=\"sk-item sk-dashed-wrapped\"><div class=\"sk-label-container\"><div class=\"sk-label sk-toggleable\"><input class=\"sk-toggleable__control sk-hidden--visually\" id=\"sk-estimator-id-7\" type=\"checkbox\" ><label for=\"sk-estimator-id-7\" class=\"sk-toggleable__label sk-toggleable__label-arrow\">Pipeline</label><div class=\"sk-toggleable__content\"><pre>Pipeline(steps=[(&#x27;standardscaler&#x27;, StandardScaler()),\n",
       "                (&#x27;randomforestclassifier&#x27;, RandomForestClassifier())])</pre></div></div></div><div class=\"sk-serial\"><div class=\"sk-item\"><div class=\"sk-estimator sk-toggleable\"><input class=\"sk-toggleable__control sk-hidden--visually\" id=\"sk-estimator-id-8\" type=\"checkbox\" ><label for=\"sk-estimator-id-8\" class=\"sk-toggleable__label sk-toggleable__label-arrow\">StandardScaler</label><div class=\"sk-toggleable__content\"><pre>StandardScaler()</pre></div></div></div><div class=\"sk-item\"><div class=\"sk-estimator sk-toggleable\"><input class=\"sk-toggleable__control sk-hidden--visually\" id=\"sk-estimator-id-9\" type=\"checkbox\" ><label for=\"sk-estimator-id-9\" class=\"sk-toggleable__label sk-toggleable__label-arrow\">RandomForestClassifier</label><div class=\"sk-toggleable__content\"><pre>RandomForestClassifier()</pre></div></div></div></div></div></div></div>"
      ],
      "text/plain": [
       "Pipeline(steps=[('standardscaler', StandardScaler()),\n",
       "                ('randomforestclassifier', RandomForestClassifier())])"
      ]
     },
     "execution_count": 125,
     "metadata": {},
     "output_type": "execute_result"
    }
   ],
   "source": [
    "model"
   ]
  },
  {
   "cell_type": "code",
   "execution_count": null,
   "metadata": {},
   "outputs": [],
   "source": [
    "cap = cv2.VideoCapture(0)\n",
    "# Initiate holistic model\n",
    "with mp_holistic.Holistic(min_detection_confidence=0.5, min_tracking_confidence=0.5) as holistic:\n",
    "    \n",
    "    while cap.isOpened():\n",
    "        ret, frame = cap.read()\n",
    "        \n",
    "        # Recolor Feed\n",
    "        image = cv2.cvtColor(frame, cv2.COLOR_BGR2RGB)\n",
    "        image.flags.writeable = False        \n",
    "        \n",
    "        # Make Detections\n",
    "        results = holistic.process(image)\n",
    "        # print(results.face_landmarks)\n",
    "        \n",
    "        # face_landmarks, pose_landmarks, left_hand_landmarks, right_hand_landmarks\n",
    "        \n",
    "        # Recolor image back to BGR for rendering\n",
    "        image.flags.writeable = True   \n",
    "        image = cv2.cvtColor(image, cv2.COLOR_RGB2BGR)\n",
    "        \n",
    "        # 1. Draw face landmarks\n",
    "        mp_drawing.draw_landmarks(image, results.face_landmarks, mp_holistic.FACEMESH_TESSELATION, \n",
    "                                 mp_drawing.DrawingSpec(color=(80,110,10), thickness=1, circle_radius=1),\n",
    "                                 mp_drawing.DrawingSpec(color=(80,256,121), thickness=1, circle_radius=1)\n",
    "                                 )\n",
    "\n",
    "        # 2. Right hand\n",
    "        mp_drawing.draw_landmarks(image, results.right_hand_landmarks, mp_holistic.HAND_CONNECTIONS, \n",
    "                                 mp_drawing.DrawingSpec(color=(80,22,10), thickness=2, circle_radius=4),\n",
    "                                 mp_drawing.DrawingSpec(color=(80,44,121), thickness=2, circle_radius=2)\n",
    "                                 )\n",
    "\n",
    "        # 3. Left Hand\n",
    "        mp_drawing.draw_landmarks(image, results.left_hand_landmarks, mp_holistic.HAND_CONNECTIONS, \n",
    "                                 mp_drawing.DrawingSpec(color=(121,22,76), thickness=2, circle_radius=4),\n",
    "                                 mp_drawing.DrawingSpec(color=(121,44,250), thickness=2, circle_radius=2)\n",
    "                                 )\n",
    "\n",
    "        # 4. Pose Detections\n",
    "        mp_drawing.draw_landmarks(image, results.pose_landmarks, mp_holistic.POSE_CONNECTIONS, \n",
    "                                 mp_drawing.DrawingSpec(color=(245,117,66), thickness=2, circle_radius=4),\n",
    "                                 mp_drawing.DrawingSpec(color=(245,66,230), thickness=2, circle_radius=2)\n",
    "                                 )\n",
    "        # Export coordinates\n",
    "        try:\n",
    "            # Extract Pose landmarks\n",
    "            pose = results.pose_landmarks.landmark\n",
    "            pose_row = list(np.array([[landmark.x, landmark.y, landmark.z, landmark.visibility] for landmark in pose]).flatten())\n",
    "            \n",
    "            # Extract Face landmarks\n",
    "            face = results.face_landmarks.landmark\n",
    "            face_row = list(np.array([[landmark.x, landmark.y, landmark.z, landmark.visibility] for landmark in face]).flatten())\n",
    "            \n",
    "            # Concate rows\n",
    "            row = pose_row+face_row\n",
    "            \n",
    "#             # Append class name \n",
    "#             row.insert(0, class_name)\n",
    "            \n",
    "#             # Export to CSV\n",
    "#             with open('coords.csv', mode='a', newline='') as f:\n",
    "#                 csv_writer = csv.writer(f, delimiter=',', quotechar='\"', quoting=csv.QUOTE_MINIMAL)\n",
    "#                 csv_writer.writerow(row) \n",
    "\n",
    "            # Make Detections\n",
    "            X = pd.DataFrame([row])\n",
    "            body_language_class = model.predict(X)[0]\n",
    "            body_language_prob = model.predict_proba(X)[0]\n",
    "            print(body_language_class, body_language_prob)\n",
    "            \n",
    "            # Grab ear coords\n",
    "            coords = tuple(np.multiply(\n",
    "                            np.array(\n",
    "                                (results.pose_landmarks.landmark[mp_holistic.PoseLandmark.LEFT_EAR].x, \n",
    "                                 results.pose_landmarks.landmark[mp_holistic.PoseLandmark.LEFT_EAR].y))\n",
    "                        , [640,480]).astype(int))\n",
    "            \n",
    "            cv2.rectangle(image, \n",
    "                          (coords[0], coords[1]+5), \n",
    "                          (coords[0]+len(body_language_class)*20, coords[1]-30), \n",
    "                          (245, 117, 16), -1)\n",
    "            cv2.putText(image, body_language_class, coords, \n",
    "                        cv2.FONT_HERSHEY_SIMPLEX, 1, (255, 255, 255), 2, cv2.LINE_AA)\n",
    "            \n",
    "            # Get status box\n",
    "            cv2.rectangle(image, (0,0), (250, 60), (245, 117, 16), -1)\n",
    "            \n",
    "            # Display Class\n",
    "            cv2.putText(image, 'CLASS'\n",
    "                        , (95,12), cv2.FONT_HERSHEY_SIMPLEX, 0.5, (0, 0, 0), 1, cv2.LINE_AA)\n",
    "            cv2.putText(image, body_language_class.split(' ')[0]\n",
    "                        , (90,40), cv2.FONT_HERSHEY_SIMPLEX, 1, (255, 255, 255), 2, cv2.LINE_AA)\n",
    "            \n",
    "            # Display Probability\n",
    "            cv2.putText(image, 'PROB'\n",
    "                        , (15,12), cv2.FONT_HERSHEY_SIMPLEX, 0.5, (0, 0, 0), 1, cv2.LINE_AA)\n",
    "            cv2.putText(image, str(round(body_language_prob[np.argmax(body_language_prob)],2))\n",
    "                        , (10,40), cv2.FONT_HERSHEY_SIMPLEX, 1, (255, 255, 255), 2, cv2.LINE_AA)\n",
    "            \n",
    "        except:\n",
    "            pass\n",
    "                        \n",
    "        cv2.imshow('Raw Webcam Feed', image)\n",
    "\n",
    "        if cv2.waitKey(10) & 0xFF == ord('q'):\n",
    "            break\n",
    "\n",
    "cap.release()\n",
    "cv2.destroyAllWindows()"
   ]
  },
  {
   "cell_type": "code",
   "execution_count": null,
   "metadata": {},
   "outputs": [
    {
     "ename": "AttributeError",
     "evalue": "'NoneType' object has no attribute 'landmark'",
     "output_type": "error",
     "traceback": [
      "\u001b[1;31m---------------------------------------------------------------------------\u001b[0m",
      "\u001b[1;31mAttributeError\u001b[0m                            Traceback (most recent call last)",
      "Cell \u001b[1;32mIn[128], line 1\u001b[0m\n\u001b[1;32m----> 1\u001b[0m \u001b[39mtuple\u001b[39m(np\u001b[39m.\u001b[39mmultiply(np\u001b[39m.\u001b[39marray((results\u001b[39m.\u001b[39;49mpose_landmarks\u001b[39m.\u001b[39;49mlandmark[mp_holistic\u001b[39m.\u001b[39mPoseLandmark\u001b[39m.\u001b[39mLEFT_EAR]\u001b[39m.\u001b[39mx, \n\u001b[0;32m      2\u001b[0m results\u001b[39m.\u001b[39mpose_landmarks\u001b[39m.\u001b[39mlandmark[mp_holistic\u001b[39m.\u001b[39mPoseLandmark\u001b[39m.\u001b[39mLEFT_EAR]\u001b[39m.\u001b[39my)), [\u001b[39m640\u001b[39m,\u001b[39m480\u001b[39m])\u001b[39m.\u001b[39mastype(\u001b[39mint\u001b[39m))\n",
      "\u001b[1;31mAttributeError\u001b[0m: 'NoneType' object has no attribute 'landmark'"
     ]
    }
   ],
   "source": [
    "tuple(np.multiply(np.array((results.pose_landmarks.landmark[mp_holistic.PoseLandmark.LEFT_EAR].x, \n",
    "results.pose_landmarks.landmark[mp_holistic.PoseLandmark.LEFT_EAR].y)), [640,480]).astype(int))"
   ]
  },
  {
   "cell_type": "code",
   "execution_count": null,
   "metadata": {},
   "outputs": [],
   "source": []
  },
  {
   "cell_type": "code",
   "execution_count": null,
   "metadata": {},
   "outputs": [],
   "source": []
  },
  {
   "cell_type": "code",
   "execution_count": null,
   "metadata": {},
   "outputs": [],
   "source": []
  }
 ],
 "metadata": {
  "kernelspec": {
   "display_name": "Python 3",
   "language": "python",
   "name": "python3"
  },
  "language_info": {
   "codemirror_mode": {
    "name": "ipython",
    "version": 3
   },
   "file_extension": ".py",
   "mimetype": "text/x-python",
   "name": "python",
   "nbconvert_exporter": "python",
   "pygments_lexer": "ipython3",
   "version": "3.10.4"
  },
  "vscode": {
   "interpreter": {
    "hash": "8a0538708ece5d136d2307468be745245bf67c9b882b3e5670e27a17739d3f3c"
   }
  }
 },
 "nbformat": 4,
 "nbformat_minor": 2
}
