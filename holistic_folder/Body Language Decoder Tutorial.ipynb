{
 "cells": [
  {
   "cell_type": "markdown",
   "metadata": {},
   "source": [
    "# 0. Install and Import Dependencies"
   ]
  },
  {
   "cell_type": "code",
   "execution_count": 2,
   "metadata": {},
   "outputs": [
    {
     "name": "stdout",
     "output_type": "stream",
     "text": [
      "Requirement already satisfied: mediapipe in d:\\python 3.10.4\\lib\\site-packages (0.9.1.0)\n",
      "Requirement already satisfied: opencv-python in d:\\python 3.10.4\\lib\\site-packages (4.7.0.68)\n",
      "Requirement already satisfied: pandas in d:\\python 3.10.4\\lib\\site-packages (1.5.2)\n",
      "Requirement already satisfied: scikit-learn in d:\\python 3.10.4\\lib\\site-packages (1.2.0)\n",
      "Requirement already satisfied: attrs>=19.1.0 in d:\\python 3.10.4\\lib\\site-packages (from mediapipe) (22.2.0)\n",
      "Requirement already satisfied: protobuf<4,>=3.11 in d:\\python 3.10.4\\lib\\site-packages (from mediapipe) (3.20.0)\n",
      "Requirement already satisfied: absl-py in d:\\python 3.10.4\\lib\\site-packages (from mediapipe) (1.4.0)\n",
      "Requirement already satisfied: flatbuffers>=2.0 in d:\\python 3.10.4\\lib\\site-packages (from mediapipe) (23.1.21)\n",
      "Requirement already satisfied: matplotlib in d:\\python 3.10.4\\lib\\site-packages (from mediapipe) (3.6.3)\n",
      "Requirement already satisfied: opencv-contrib-python in d:\\python 3.10.4\\lib\\site-packages (from mediapipe) (4.7.0.72)\n",
      "Requirement already satisfied: numpy in d:\\python 3.10.4\\lib\\site-packages (from mediapipe) (1.23.4)\n",
      "Requirement already satisfied: pytz>=2020.1 in d:\\python 3.10.4\\lib\\site-packages (from pandas) (2022.7)\n",
      "Requirement already satisfied: python-dateutil>=2.8.1 in d:\\python 3.10.4\\lib\\site-packages (from pandas) (2.8.2)\n",
      "Requirement already satisfied: scipy>=1.3.2 in d:\\python 3.10.4\\lib\\site-packages (from scikit-learn) (1.9.3)\n",
      "Requirement already satisfied: joblib>=1.1.1 in d:\\python 3.10.4\\lib\\site-packages (from scikit-learn) (1.2.0)\n",
      "Requirement already satisfied: threadpoolctl>=2.0.0 in d:\\python 3.10.4\\lib\\site-packages (from scikit-learn) (3.1.0)\n",
      "Requirement already satisfied: six>=1.5 in d:\\python 3.10.4\\lib\\site-packages (from python-dateutil>=2.8.1->pandas) (1.16.0)\n",
      "Requirement already satisfied: fonttools>=4.22.0 in d:\\python 3.10.4\\lib\\site-packages (from matplotlib->mediapipe) (4.38.0)\n",
      "Requirement already satisfied: pillow>=6.2.0 in d:\\python 3.10.4\\lib\\site-packages (from matplotlib->mediapipe) (9.4.0)\n",
      "Requirement already satisfied: pyparsing>=2.2.1 in d:\\python 3.10.4\\lib\\site-packages (from matplotlib->mediapipe) (3.0.9)\n",
      "Requirement already satisfied: cycler>=0.10 in d:\\python 3.10.4\\lib\\site-packages (from matplotlib->mediapipe) (0.11.0)\n",
      "Requirement already satisfied: kiwisolver>=1.0.1 in d:\\python 3.10.4\\lib\\site-packages (from matplotlib->mediapipe) (1.4.4)\n",
      "Requirement already satisfied: contourpy>=1.0.1 in d:\\python 3.10.4\\lib\\site-packages (from matplotlib->mediapipe) (1.0.7)\n",
      "Requirement already satisfied: packaging>=20.0 in d:\\python 3.10.4\\lib\\site-packages (from matplotlib->mediapipe) (22.0)\n",
      "Note: you may need to restart the kernel to use updated packages.\n"
     ]
    },
    {
     "name": "stderr",
     "output_type": "stream",
     "text": [
      "WARNING: You are using pip version 22.0.4; however, version 23.0.1 is available.\n",
      "You should consider upgrading via the 'd:\\Python 3.10.4\\python.exe -m pip install --upgrade pip' command.\n"
     ]
    }
   ],
   "source": [
    "%pip install mediapipe opencv-python pandas scikit-learn"
   ]
  },
  {
   "cell_type": "markdown",
   "metadata": {},
   "source": [
    "# 1. Make Some Detections"
   ]
  },
  {
   "cell_type": "code",
   "execution_count": 1,
   "metadata": {},
   "outputs": [],
   "source": [
    "import holistic_interface as hi"
   ]
  },
  {
   "cell_type": "code",
   "execution_count": 17,
   "metadata": {},
   "outputs": [],
   "source": [
    "hi.process_video_to_coordinates_csv(input_file='video1.mp4', class_name=\"happy\")"
   ]
  },
  {
   "cell_type": "markdown",
   "metadata": {},
   "source": [
    "# 2. Capture Landmarks & Export to CSV\n",
    "<!--<img src=\"https://i.imgur.com/8bForKY.png\">-->\n",
    "<!--<img src=\"https://i.imgur.com/AzKNp7A.png\">-->"
   ]
  },
  {
   "cell_type": "code",
   "execution_count": 4,
   "metadata": {},
   "outputs": [],
   "source": [
    "import csv\n",
    "import os\n",
    "import numpy as np"
   ]
  },
  {
   "cell_type": "markdown",
   "metadata": {},
   "source": [
    "# 3. Train Custom Model Using Scikit Learn"
   ]
  },
  {
   "cell_type": "markdown",
   "metadata": {},
   "source": [
    "## 3.1 Read in Collected Data and Process"
   ]
  },
  {
   "cell_type": "code",
   "execution_count": 3,
   "metadata": {},
   "outputs": [],
   "source": [
    "import pandas as pd\n",
    "from sklearn.model_selection import train_test_split"
   ]
  },
  {
   "cell_type": "code",
   "execution_count": 18,
   "metadata": {},
   "outputs": [],
   "source": [
    "df = pd.read_csv('output_csv_directory/video1.csv')"
   ]
  },
  {
   "cell_type": "code",
   "execution_count": 19,
   "metadata": {},
   "outputs": [
    {
     "data": {
      "text/html": [
       "<div>\n",
       "<style scoped>\n",
       "    .dataframe tbody tr th:only-of-type {\n",
       "        vertical-align: middle;\n",
       "    }\n",
       "\n",
       "    .dataframe tbody tr th {\n",
       "        vertical-align: top;\n",
       "    }\n",
       "\n",
       "    .dataframe thead th {\n",
       "        text-align: right;\n",
       "    }\n",
       "</style>\n",
       "<table border=\"1\" class=\"dataframe\">\n",
       "  <thead>\n",
       "    <tr style=\"text-align: right;\">\n",
       "      <th></th>\n",
       "      <th>class</th>\n",
       "      <th>x1</th>\n",
       "      <th>y1</th>\n",
       "      <th>z1</th>\n",
       "      <th>v1</th>\n",
       "      <th>x2</th>\n",
       "      <th>y2</th>\n",
       "      <th>z2</th>\n",
       "      <th>v2</th>\n",
       "      <th>x3</th>\n",
       "      <th>...</th>\n",
       "      <th>z499</th>\n",
       "      <th>v499</th>\n",
       "      <th>x500</th>\n",
       "      <th>y500</th>\n",
       "      <th>z500</th>\n",
       "      <th>v500</th>\n",
       "      <th>x501</th>\n",
       "      <th>y501</th>\n",
       "      <th>z501</th>\n",
       "      <th>v501</th>\n",
       "    </tr>\n",
       "  </thead>\n",
       "  <tbody>\n",
       "    <tr>\n",
       "      <th>0</th>\n",
       "      <td>happy</td>\n",
       "      <td>0.501943</td>\n",
       "      <td>0.353421</td>\n",
       "      <td>-0.897615</td>\n",
       "      <td>0.999804</td>\n",
       "      <td>0.524394</td>\n",
       "      <td>0.311360</td>\n",
       "      <td>-0.854959</td>\n",
       "      <td>0.999776</td>\n",
       "      <td>0.535218</td>\n",
       "      <td>...</td>\n",
       "      <td>0.004932</td>\n",
       "      <td>0.0</td>\n",
       "      <td>0.541844</td>\n",
       "      <td>0.312803</td>\n",
       "      <td>0.015466</td>\n",
       "      <td>0.0</td>\n",
       "      <td>0.545141</td>\n",
       "      <td>0.304823</td>\n",
       "      <td>0.016298</td>\n",
       "      <td>0.0</td>\n",
       "    </tr>\n",
       "    <tr>\n",
       "      <th>1</th>\n",
       "      <td>happy</td>\n",
       "      <td>0.501480</td>\n",
       "      <td>0.354005</td>\n",
       "      <td>-0.811576</td>\n",
       "      <td>0.999805</td>\n",
       "      <td>0.524240</td>\n",
       "      <td>0.311980</td>\n",
       "      <td>-0.769213</td>\n",
       "      <td>0.999776</td>\n",
       "      <td>0.535206</td>\n",
       "      <td>...</td>\n",
       "      <td>0.004780</td>\n",
       "      <td>0.0</td>\n",
       "      <td>0.539817</td>\n",
       "      <td>0.311353</td>\n",
       "      <td>0.015010</td>\n",
       "      <td>0.0</td>\n",
       "      <td>0.543093</td>\n",
       "      <td>0.303469</td>\n",
       "      <td>0.015800</td>\n",
       "      <td>0.0</td>\n",
       "    </tr>\n",
       "    <tr>\n",
       "      <th>2</th>\n",
       "      <td>happy</td>\n",
       "      <td>0.501245</td>\n",
       "      <td>0.354910</td>\n",
       "      <td>-0.771750</td>\n",
       "      <td>0.999800</td>\n",
       "      <td>0.524239</td>\n",
       "      <td>0.312579</td>\n",
       "      <td>-0.730813</td>\n",
       "      <td>0.999766</td>\n",
       "      <td>0.535296</td>\n",
       "      <td>...</td>\n",
       "      <td>0.004586</td>\n",
       "      <td>0.0</td>\n",
       "      <td>0.537046</td>\n",
       "      <td>0.312167</td>\n",
       "      <td>0.014789</td>\n",
       "      <td>0.0</td>\n",
       "      <td>0.540216</td>\n",
       "      <td>0.304216</td>\n",
       "      <td>0.015596</td>\n",
       "      <td>0.0</td>\n",
       "    </tr>\n",
       "    <tr>\n",
       "      <th>3</th>\n",
       "      <td>happy</td>\n",
       "      <td>0.500982</td>\n",
       "      <td>0.356583</td>\n",
       "      <td>-0.794412</td>\n",
       "      <td>0.999795</td>\n",
       "      <td>0.524171</td>\n",
       "      <td>0.313745</td>\n",
       "      <td>-0.753486</td>\n",
       "      <td>0.999756</td>\n",
       "      <td>0.535292</td>\n",
       "      <td>...</td>\n",
       "      <td>0.004750</td>\n",
       "      <td>0.0</td>\n",
       "      <td>0.534892</td>\n",
       "      <td>0.312608</td>\n",
       "      <td>0.015162</td>\n",
       "      <td>0.0</td>\n",
       "      <td>0.537980</td>\n",
       "      <td>0.304863</td>\n",
       "      <td>0.015979</td>\n",
       "      <td>0.0</td>\n",
       "    </tr>\n",
       "    <tr>\n",
       "      <th>4</th>\n",
       "      <td>happy</td>\n",
       "      <td>0.500106</td>\n",
       "      <td>0.357722</td>\n",
       "      <td>-0.812542</td>\n",
       "      <td>0.999783</td>\n",
       "      <td>0.523582</td>\n",
       "      <td>0.314864</td>\n",
       "      <td>-0.770850</td>\n",
       "      <td>0.999734</td>\n",
       "      <td>0.534969</td>\n",
       "      <td>...</td>\n",
       "      <td>0.005021</td>\n",
       "      <td>0.0</td>\n",
       "      <td>0.533776</td>\n",
       "      <td>0.313535</td>\n",
       "      <td>0.015357</td>\n",
       "      <td>0.0</td>\n",
       "      <td>0.536913</td>\n",
       "      <td>0.305755</td>\n",
       "      <td>0.016178</td>\n",
       "      <td>0.0</td>\n",
       "    </tr>\n",
       "  </tbody>\n",
       "</table>\n",
       "<p>5 rows × 2005 columns</p>\n",
       "</div>"
      ],
      "text/plain": [
       "   class        x1        y1        z1        v1        x2        y2  \\\n",
       "0  happy  0.501943  0.353421 -0.897615  0.999804  0.524394  0.311360   \n",
       "1  happy  0.501480  0.354005 -0.811576  0.999805  0.524240  0.311980   \n",
       "2  happy  0.501245  0.354910 -0.771750  0.999800  0.524239  0.312579   \n",
       "3  happy  0.500982  0.356583 -0.794412  0.999795  0.524171  0.313745   \n",
       "4  happy  0.500106  0.357722 -0.812542  0.999783  0.523582  0.314864   \n",
       "\n",
       "         z2        v2        x3  ...      z499  v499      x500      y500  \\\n",
       "0 -0.854959  0.999776  0.535218  ...  0.004932   0.0  0.541844  0.312803   \n",
       "1 -0.769213  0.999776  0.535206  ...  0.004780   0.0  0.539817  0.311353   \n",
       "2 -0.730813  0.999766  0.535296  ...  0.004586   0.0  0.537046  0.312167   \n",
       "3 -0.753486  0.999756  0.535292  ...  0.004750   0.0  0.534892  0.312608   \n",
       "4 -0.770850  0.999734  0.534969  ...  0.005021   0.0  0.533776  0.313535   \n",
       "\n",
       "       z500  v500      x501      y501      z501  v501  \n",
       "0  0.015466   0.0  0.545141  0.304823  0.016298   0.0  \n",
       "1  0.015010   0.0  0.543093  0.303469  0.015800   0.0  \n",
       "2  0.014789   0.0  0.540216  0.304216  0.015596   0.0  \n",
       "3  0.015162   0.0  0.537980  0.304863  0.015979   0.0  \n",
       "4  0.015357   0.0  0.536913  0.305755  0.016178   0.0  \n",
       "\n",
       "[5 rows x 2005 columns]"
      ]
     },
     "execution_count": 19,
     "metadata": {},
     "output_type": "execute_result"
    }
   ],
   "source": [
    "df.head()"
   ]
  },
  {
   "cell_type": "code",
   "execution_count": 20,
   "metadata": {},
   "outputs": [
    {
     "data": {
      "text/html": [
       "<div>\n",
       "<style scoped>\n",
       "    .dataframe tbody tr th:only-of-type {\n",
       "        vertical-align: middle;\n",
       "    }\n",
       "\n",
       "    .dataframe tbody tr th {\n",
       "        vertical-align: top;\n",
       "    }\n",
       "\n",
       "    .dataframe thead th {\n",
       "        text-align: right;\n",
       "    }\n",
       "</style>\n",
       "<table border=\"1\" class=\"dataframe\">\n",
       "  <thead>\n",
       "    <tr style=\"text-align: right;\">\n",
       "      <th></th>\n",
       "      <th>class</th>\n",
       "      <th>x1</th>\n",
       "      <th>y1</th>\n",
       "      <th>z1</th>\n",
       "      <th>v1</th>\n",
       "      <th>x2</th>\n",
       "      <th>y2</th>\n",
       "      <th>z2</th>\n",
       "      <th>v2</th>\n",
       "      <th>x3</th>\n",
       "      <th>...</th>\n",
       "      <th>z499</th>\n",
       "      <th>v499</th>\n",
       "      <th>x500</th>\n",
       "      <th>y500</th>\n",
       "      <th>z500</th>\n",
       "      <th>v500</th>\n",
       "      <th>x501</th>\n",
       "      <th>y501</th>\n",
       "      <th>z501</th>\n",
       "      <th>v501</th>\n",
       "    </tr>\n",
       "  </thead>\n",
       "  <tbody>\n",
       "    <tr>\n",
       "      <th>72</th>\n",
       "      <td>sad</td>\n",
       "      <td>0.499740</td>\n",
       "      <td>0.338092</td>\n",
       "      <td>-0.752378</td>\n",
       "      <td>0.999902</td>\n",
       "      <td>0.526890</td>\n",
       "      <td>0.292551</td>\n",
       "      <td>-0.708155</td>\n",
       "      <td>0.999839</td>\n",
       "      <td>0.538936</td>\n",
       "      <td>...</td>\n",
       "      <td>0.003984</td>\n",
       "      <td>0.0</td>\n",
       "      <td>0.544213</td>\n",
       "      <td>0.293450</td>\n",
       "      <td>0.015990</td>\n",
       "      <td>0.0</td>\n",
       "      <td>0.547969</td>\n",
       "      <td>0.284657</td>\n",
       "      <td>0.016991</td>\n",
       "      <td>0.0</td>\n",
       "    </tr>\n",
       "    <tr>\n",
       "      <th>73</th>\n",
       "      <td>sad</td>\n",
       "      <td>0.501144</td>\n",
       "      <td>0.340013</td>\n",
       "      <td>-0.750803</td>\n",
       "      <td>0.999904</td>\n",
       "      <td>0.527990</td>\n",
       "      <td>0.293841</td>\n",
       "      <td>-0.706695</td>\n",
       "      <td>0.999840</td>\n",
       "      <td>0.539915</td>\n",
       "      <td>...</td>\n",
       "      <td>0.004171</td>\n",
       "      <td>0.0</td>\n",
       "      <td>0.545632</td>\n",
       "      <td>0.294947</td>\n",
       "      <td>0.016016</td>\n",
       "      <td>0.0</td>\n",
       "      <td>0.549532</td>\n",
       "      <td>0.285933</td>\n",
       "      <td>0.017016</td>\n",
       "      <td>0.0</td>\n",
       "    </tr>\n",
       "    <tr>\n",
       "      <th>74</th>\n",
       "      <td>sad</td>\n",
       "      <td>0.502333</td>\n",
       "      <td>0.340906</td>\n",
       "      <td>-0.750405</td>\n",
       "      <td>0.999906</td>\n",
       "      <td>0.528928</td>\n",
       "      <td>0.294234</td>\n",
       "      <td>-0.706121</td>\n",
       "      <td>0.999841</td>\n",
       "      <td>0.540787</td>\n",
       "      <td>...</td>\n",
       "      <td>0.004333</td>\n",
       "      <td>0.0</td>\n",
       "      <td>0.546123</td>\n",
       "      <td>0.295335</td>\n",
       "      <td>0.016238</td>\n",
       "      <td>0.0</td>\n",
       "      <td>0.550066</td>\n",
       "      <td>0.286387</td>\n",
       "      <td>0.017240</td>\n",
       "      <td>0.0</td>\n",
       "    </tr>\n",
       "    <tr>\n",
       "      <th>75</th>\n",
       "      <td>sad</td>\n",
       "      <td>0.503370</td>\n",
       "      <td>0.341653</td>\n",
       "      <td>-0.749778</td>\n",
       "      <td>0.999908</td>\n",
       "      <td>0.529688</td>\n",
       "      <td>0.294595</td>\n",
       "      <td>-0.705528</td>\n",
       "      <td>0.999843</td>\n",
       "      <td>0.541539</td>\n",
       "      <td>...</td>\n",
       "      <td>0.004289</td>\n",
       "      <td>0.0</td>\n",
       "      <td>0.546663</td>\n",
       "      <td>0.295988</td>\n",
       "      <td>0.016085</td>\n",
       "      <td>0.0</td>\n",
       "      <td>0.550611</td>\n",
       "      <td>0.287039</td>\n",
       "      <td>0.017076</td>\n",
       "      <td>0.0</td>\n",
       "    </tr>\n",
       "    <tr>\n",
       "      <th>76</th>\n",
       "      <td>sad</td>\n",
       "      <td>0.503681</td>\n",
       "      <td>0.342258</td>\n",
       "      <td>-0.725150</td>\n",
       "      <td>0.999912</td>\n",
       "      <td>0.529926</td>\n",
       "      <td>0.295087</td>\n",
       "      <td>-0.682444</td>\n",
       "      <td>0.999848</td>\n",
       "      <td>0.541814</td>\n",
       "      <td>...</td>\n",
       "      <td>0.004321</td>\n",
       "      <td>0.0</td>\n",
       "      <td>0.546746</td>\n",
       "      <td>0.296702</td>\n",
       "      <td>0.016125</td>\n",
       "      <td>0.0</td>\n",
       "      <td>0.550647</td>\n",
       "      <td>0.287818</td>\n",
       "      <td>0.017116</td>\n",
       "      <td>0.0</td>\n",
       "    </tr>\n",
       "  </tbody>\n",
       "</table>\n",
       "<p>5 rows × 2005 columns</p>\n",
       "</div>"
      ],
      "text/plain": [
       "   class        x1        y1        z1        v1        x2        y2  \\\n",
       "72   sad  0.499740  0.338092 -0.752378  0.999902  0.526890  0.292551   \n",
       "73   sad  0.501144  0.340013 -0.750803  0.999904  0.527990  0.293841   \n",
       "74   sad  0.502333  0.340906 -0.750405  0.999906  0.528928  0.294234   \n",
       "75   sad  0.503370  0.341653 -0.749778  0.999908  0.529688  0.294595   \n",
       "76   sad  0.503681  0.342258 -0.725150  0.999912  0.529926  0.295087   \n",
       "\n",
       "          z2        v2        x3  ...      z499  v499      x500      y500  \\\n",
       "72 -0.708155  0.999839  0.538936  ...  0.003984   0.0  0.544213  0.293450   \n",
       "73 -0.706695  0.999840  0.539915  ...  0.004171   0.0  0.545632  0.294947   \n",
       "74 -0.706121  0.999841  0.540787  ...  0.004333   0.0  0.546123  0.295335   \n",
       "75 -0.705528  0.999843  0.541539  ...  0.004289   0.0  0.546663  0.295988   \n",
       "76 -0.682444  0.999848  0.541814  ...  0.004321   0.0  0.546746  0.296702   \n",
       "\n",
       "        z500  v500      x501      y501      z501  v501  \n",
       "72  0.015990   0.0  0.547969  0.284657  0.016991   0.0  \n",
       "73  0.016016   0.0  0.549532  0.285933  0.017016   0.0  \n",
       "74  0.016238   0.0  0.550066  0.286387  0.017240   0.0  \n",
       "75  0.016085   0.0  0.550611  0.287039  0.017076   0.0  \n",
       "76  0.016125   0.0  0.550647  0.287818  0.017116   0.0  \n",
       "\n",
       "[5 rows x 2005 columns]"
      ]
     },
     "execution_count": 20,
     "metadata": {},
     "output_type": "execute_result"
    }
   ],
   "source": [
    "df.tail()"
   ]
  },
  {
   "cell_type": "code",
   "execution_count": 25,
   "metadata": {},
   "outputs": [
    {
     "data": {
      "text/html": [
       "<div>\n",
       "<style scoped>\n",
       "    .dataframe tbody tr th:only-of-type {\n",
       "        vertical-align: middle;\n",
       "    }\n",
       "\n",
       "    .dataframe tbody tr th {\n",
       "        vertical-align: top;\n",
       "    }\n",
       "\n",
       "    .dataframe thead th {\n",
       "        text-align: right;\n",
       "    }\n",
       "</style>\n",
       "<table border=\"1\" class=\"dataframe\">\n",
       "  <thead>\n",
       "    <tr style=\"text-align: right;\">\n",
       "      <th></th>\n",
       "      <th>class</th>\n",
       "      <th>x1</th>\n",
       "      <th>y1</th>\n",
       "      <th>z1</th>\n",
       "      <th>v1</th>\n",
       "      <th>x2</th>\n",
       "      <th>y2</th>\n",
       "      <th>z2</th>\n",
       "      <th>v2</th>\n",
       "      <th>x3</th>\n",
       "      <th>...</th>\n",
       "      <th>z499</th>\n",
       "      <th>v499</th>\n",
       "      <th>x500</th>\n",
       "      <th>y500</th>\n",
       "      <th>z500</th>\n",
       "      <th>v500</th>\n",
       "      <th>x501</th>\n",
       "      <th>y501</th>\n",
       "      <th>z501</th>\n",
       "      <th>v501</th>\n",
       "    </tr>\n",
       "  </thead>\n",
       "  <tbody>\n",
       "    <tr>\n",
       "      <th>45</th>\n",
       "      <td>sad</td>\n",
       "      <td>0.501943</td>\n",
       "      <td>0.353421</td>\n",
       "      <td>-0.897615</td>\n",
       "      <td>0.999804</td>\n",
       "      <td>0.524394</td>\n",
       "      <td>0.311360</td>\n",
       "      <td>-0.854959</td>\n",
       "      <td>0.999776</td>\n",
       "      <td>0.535218</td>\n",
       "      <td>...</td>\n",
       "      <td>0.004932</td>\n",
       "      <td>0.0</td>\n",
       "      <td>0.541844</td>\n",
       "      <td>0.312803</td>\n",
       "      <td>0.015466</td>\n",
       "      <td>0.0</td>\n",
       "      <td>0.545141</td>\n",
       "      <td>0.304823</td>\n",
       "      <td>0.016298</td>\n",
       "      <td>0.0</td>\n",
       "    </tr>\n",
       "    <tr>\n",
       "      <th>46</th>\n",
       "      <td>sad</td>\n",
       "      <td>0.501480</td>\n",
       "      <td>0.354005</td>\n",
       "      <td>-0.811576</td>\n",
       "      <td>0.999805</td>\n",
       "      <td>0.524240</td>\n",
       "      <td>0.311980</td>\n",
       "      <td>-0.769213</td>\n",
       "      <td>0.999776</td>\n",
       "      <td>0.535206</td>\n",
       "      <td>...</td>\n",
       "      <td>0.004780</td>\n",
       "      <td>0.0</td>\n",
       "      <td>0.539817</td>\n",
       "      <td>0.311353</td>\n",
       "      <td>0.015010</td>\n",
       "      <td>0.0</td>\n",
       "      <td>0.543093</td>\n",
       "      <td>0.303469</td>\n",
       "      <td>0.015800</td>\n",
       "      <td>0.0</td>\n",
       "    </tr>\n",
       "    <tr>\n",
       "      <th>47</th>\n",
       "      <td>sad</td>\n",
       "      <td>0.501245</td>\n",
       "      <td>0.354910</td>\n",
       "      <td>-0.771750</td>\n",
       "      <td>0.999800</td>\n",
       "      <td>0.524239</td>\n",
       "      <td>0.312579</td>\n",
       "      <td>-0.730813</td>\n",
       "      <td>0.999766</td>\n",
       "      <td>0.535296</td>\n",
       "      <td>...</td>\n",
       "      <td>0.004586</td>\n",
       "      <td>0.0</td>\n",
       "      <td>0.537046</td>\n",
       "      <td>0.312167</td>\n",
       "      <td>0.014789</td>\n",
       "      <td>0.0</td>\n",
       "      <td>0.540216</td>\n",
       "      <td>0.304216</td>\n",
       "      <td>0.015596</td>\n",
       "      <td>0.0</td>\n",
       "    </tr>\n",
       "    <tr>\n",
       "      <th>48</th>\n",
       "      <td>sad</td>\n",
       "      <td>0.500982</td>\n",
       "      <td>0.356583</td>\n",
       "      <td>-0.794412</td>\n",
       "      <td>0.999795</td>\n",
       "      <td>0.524171</td>\n",
       "      <td>0.313745</td>\n",
       "      <td>-0.753486</td>\n",
       "      <td>0.999756</td>\n",
       "      <td>0.535292</td>\n",
       "      <td>...</td>\n",
       "      <td>0.004750</td>\n",
       "      <td>0.0</td>\n",
       "      <td>0.534892</td>\n",
       "      <td>0.312608</td>\n",
       "      <td>0.015162</td>\n",
       "      <td>0.0</td>\n",
       "      <td>0.537980</td>\n",
       "      <td>0.304863</td>\n",
       "      <td>0.015979</td>\n",
       "      <td>0.0</td>\n",
       "    </tr>\n",
       "    <tr>\n",
       "      <th>49</th>\n",
       "      <td>sad</td>\n",
       "      <td>0.500106</td>\n",
       "      <td>0.357722</td>\n",
       "      <td>-0.812542</td>\n",
       "      <td>0.999783</td>\n",
       "      <td>0.523582</td>\n",
       "      <td>0.314864</td>\n",
       "      <td>-0.770850</td>\n",
       "      <td>0.999734</td>\n",
       "      <td>0.534969</td>\n",
       "      <td>...</td>\n",
       "      <td>0.005021</td>\n",
       "      <td>0.0</td>\n",
       "      <td>0.533776</td>\n",
       "      <td>0.313535</td>\n",
       "      <td>0.015357</td>\n",
       "      <td>0.0</td>\n",
       "      <td>0.536913</td>\n",
       "      <td>0.305755</td>\n",
       "      <td>0.016178</td>\n",
       "      <td>0.0</td>\n",
       "    </tr>\n",
       "  </tbody>\n",
       "</table>\n",
       "<p>5 rows × 2005 columns</p>\n",
       "</div>"
      ],
      "text/plain": [
       "   class        x1        y1        z1        v1        x2        y2  \\\n",
       "45   sad  0.501943  0.353421 -0.897615  0.999804  0.524394  0.311360   \n",
       "46   sad  0.501480  0.354005 -0.811576  0.999805  0.524240  0.311980   \n",
       "47   sad  0.501245  0.354910 -0.771750  0.999800  0.524239  0.312579   \n",
       "48   sad  0.500982  0.356583 -0.794412  0.999795  0.524171  0.313745   \n",
       "49   sad  0.500106  0.357722 -0.812542  0.999783  0.523582  0.314864   \n",
       "\n",
       "          z2        v2        x3  ...      z499  v499      x500      y500  \\\n",
       "45 -0.854959  0.999776  0.535218  ...  0.004932   0.0  0.541844  0.312803   \n",
       "46 -0.769213  0.999776  0.535206  ...  0.004780   0.0  0.539817  0.311353   \n",
       "47 -0.730813  0.999766  0.535296  ...  0.004586   0.0  0.537046  0.312167   \n",
       "48 -0.753486  0.999756  0.535292  ...  0.004750   0.0  0.534892  0.312608   \n",
       "49 -0.770850  0.999734  0.534969  ...  0.005021   0.0  0.533776  0.313535   \n",
       "\n",
       "        z500  v500      x501      y501      z501  v501  \n",
       "45  0.015466   0.0  0.545141  0.304823  0.016298   0.0  \n",
       "46  0.015010   0.0  0.543093  0.303469  0.015800   0.0  \n",
       "47  0.014789   0.0  0.540216  0.304216  0.015596   0.0  \n",
       "48  0.015162   0.0  0.537980  0.304863  0.015979   0.0  \n",
       "49  0.015357   0.0  0.536913  0.305755  0.016178   0.0  \n",
       "\n",
       "[5 rows x 2005 columns]"
      ]
     },
     "execution_count": 25,
     "metadata": {},
     "output_type": "execute_result"
    }
   ],
   "source": [
    "df[df['class']=='sad'].head()"
   ]
  },
  {
   "cell_type": "code",
   "execution_count": 26,
   "metadata": {},
   "outputs": [],
   "source": [
    "X = df.drop('class', axis=1) # features\n",
    "y = df['class'] # target value"
   ]
  },
  {
   "cell_type": "code",
   "execution_count": 27,
   "metadata": {},
   "outputs": [],
   "source": [
    "X_train, X_test, y_train, y_test = train_test_split(X, y, test_size=0.3, random_state=1234)"
   ]
  },
  {
   "cell_type": "code",
   "execution_count": 28,
   "metadata": {},
   "outputs": [
    {
     "data": {
      "text/plain": [
       "22    happy\n",
       "33    happy\n",
       "31    happy\n",
       "72      sad\n",
       "40    happy\n",
       "35    happy\n",
       "4     happy\n",
       "51      sad\n",
       "25    happy\n",
       "52      sad\n",
       "21    happy\n",
       "73      sad\n",
       "45      sad\n",
       "55      sad\n",
       "42    happy\n",
       "10    happy\n",
       "18    happy\n",
       "6     happy\n",
       "27    happy\n",
       "8     happy\n",
       "64      sad\n",
       "67      sad\n",
       "66      sad\n",
       "29    happy\n",
       "Name: class, dtype: object"
      ]
     },
     "execution_count": 28,
     "metadata": {},
     "output_type": "execute_result"
    }
   ],
   "source": [
    "y_test"
   ]
  },
  {
   "cell_type": "markdown",
   "metadata": {},
   "source": [
    "## 3.2 Train Machine Learning Classification Model"
   ]
  },
  {
   "cell_type": "code",
   "execution_count": 29,
   "metadata": {},
   "outputs": [],
   "source": [
    "from sklearn.pipeline import make_pipeline \n",
    "from sklearn.preprocessing import StandardScaler \n",
    "\n",
    "from sklearn.linear_model import LogisticRegression, RidgeClassifier\n",
    "from sklearn.ensemble import RandomForestClassifier, GradientBoostingClassifier"
   ]
  },
  {
   "cell_type": "code",
   "execution_count": 30,
   "metadata": {},
   "outputs": [],
   "source": [
    "pipelines = {\n",
    "    'lr':make_pipeline(StandardScaler(), LogisticRegression()),\n",
    "    'rc':make_pipeline(StandardScaler(), RidgeClassifier()),\n",
    "    'rf':make_pipeline(StandardScaler(), RandomForestClassifier()),\n",
    "    'gb':make_pipeline(StandardScaler(), GradientBoostingClassifier()),\n",
    "}"
   ]
  },
  {
   "cell_type": "code",
   "execution_count": 31,
   "metadata": {},
   "outputs": [
    {
     "name": "stderr",
     "output_type": "stream",
     "text": [
      "d:\\Python 3.10.4\\lib\\site-packages\\sklearn\\linear_model\\_logistic.py:458: ConvergenceWarning: lbfgs failed to converge (status=1):\n",
      "STOP: TOTAL NO. of ITERATIONS REACHED LIMIT.\n",
      "\n",
      "Increase the number of iterations (max_iter) or scale the data as shown in:\n",
      "    https://scikit-learn.org/stable/modules/preprocessing.html\n",
      "Please also refer to the documentation for alternative solver options:\n",
      "    https://scikit-learn.org/stable/modules/linear_model.html#logistic-regression\n",
      "  n_iter_i = _check_optimize_result(\n"
     ]
    }
   ],
   "source": [
    "fit_models = {}\n",
    "for algo, pipeline in pipelines.items():\n",
    "    model = pipeline.fit(X_train, y_train)\n",
    "    fit_models[algo] = model"
   ]
  },
  {
   "cell_type": "code",
   "execution_count": 32,
   "metadata": {},
   "outputs": [
    {
     "data": {
      "text/plain": [
       "{'lr': Pipeline(steps=[('standardscaler', StandardScaler()),\n",
       "                 ('logisticregression', LogisticRegression())]),\n",
       " 'rc': Pipeline(steps=[('standardscaler', StandardScaler()),\n",
       "                 ('ridgeclassifier', RidgeClassifier())]),\n",
       " 'rf': Pipeline(steps=[('standardscaler', StandardScaler()),\n",
       "                 ('randomforestclassifier', RandomForestClassifier())]),\n",
       " 'gb': Pipeline(steps=[('standardscaler', StandardScaler()),\n",
       "                 ('gradientboostingclassifier', GradientBoostingClassifier())])}"
      ]
     },
     "execution_count": 32,
     "metadata": {},
     "output_type": "execute_result"
    }
   ],
   "source": [
    "fit_models"
   ]
  },
  {
   "cell_type": "code",
   "execution_count": 33,
   "metadata": {},
   "outputs": [
    {
     "data": {
      "text/plain": [
       "array(['happy', 'happy', 'sad', 'happy', 'happy', 'happy', 'sad', 'happy',\n",
       "       'sad', 'happy', 'happy', 'happy', 'happy', 'happy', 'happy',\n",
       "       'happy', 'sad', 'happy', 'happy', 'sad', 'happy', 'happy', 'happy',\n",
       "       'sad'], dtype='<U5')"
      ]
     },
     "execution_count": 33,
     "metadata": {},
     "output_type": "execute_result"
    }
   ],
   "source": [
    "fit_models['rc'].predict(X_test)"
   ]
  },
  {
   "cell_type": "markdown",
   "metadata": {},
   "source": [
    "## 3.3 Evaluate and Serialize Model "
   ]
  },
  {
   "cell_type": "code",
   "execution_count": 34,
   "metadata": {},
   "outputs": [],
   "source": [
    "from sklearn.metrics import accuracy_score # Accuracy metrics \n",
    "import pickle "
   ]
  },
  {
   "cell_type": "code",
   "execution_count": 35,
   "metadata": {},
   "outputs": [
    {
     "name": "stdout",
     "output_type": "stream",
     "text": [
      "lr 0.4166666666666667\n",
      "rc 0.375\n",
      "rf 0.375\n",
      "gb 0.375\n"
     ]
    }
   ],
   "source": [
    "for algo, model in fit_models.items():\n",
    "    yhat = model.predict(X_test)\n",
    "    print(algo, accuracy_score(y_test, yhat))"
   ]
  },
  {
   "cell_type": "code",
   "execution_count": 36,
   "metadata": {},
   "outputs": [
    {
     "data": {
      "text/plain": [
       "array(['sad', 'happy', 'sad', 'happy', 'happy', 'happy', 'sad', 'happy',\n",
       "       'sad', 'happy', 'happy', 'happy', 'happy', 'sad', 'happy', 'sad',\n",
       "       'sad', 'happy', 'happy', 'sad', 'happy', 'sad', 'happy', 'sad'],\n",
       "      dtype=object)"
      ]
     },
     "execution_count": 36,
     "metadata": {},
     "output_type": "execute_result"
    }
   ],
   "source": [
    "fit_models['rf'].predict(X_test)"
   ]
  },
  {
   "cell_type": "code",
   "execution_count": 37,
   "metadata": {},
   "outputs": [
    {
     "data": {
      "text/plain": [
       "22    happy\n",
       "33    happy\n",
       "31    happy\n",
       "72      sad\n",
       "40    happy\n",
       "35    happy\n",
       "4     happy\n",
       "51      sad\n",
       "25    happy\n",
       "52      sad\n",
       "21    happy\n",
       "73      sad\n",
       "45      sad\n",
       "55      sad\n",
       "42    happy\n",
       "10    happy\n",
       "18    happy\n",
       "6     happy\n",
       "27    happy\n",
       "8     happy\n",
       "64      sad\n",
       "67      sad\n",
       "66      sad\n",
       "29    happy\n",
       "Name: class, dtype: object"
      ]
     },
     "execution_count": 37,
     "metadata": {},
     "output_type": "execute_result"
    }
   ],
   "source": [
    "y_test"
   ]
  },
  {
   "cell_type": "code",
   "execution_count": 38,
   "metadata": {},
   "outputs": [],
   "source": [
    "with open('body_language.pkl', 'wb') as f:\n",
    "    pickle.dump(fit_models['rf'], f)"
   ]
  },
  {
   "cell_type": "markdown",
   "metadata": {},
   "source": [
    "# 4. Make Detections with Model"
   ]
  },
  {
   "cell_type": "code",
   "execution_count": null,
   "metadata": {},
   "outputs": [],
   "source": [
    "with open('body_language.pkl', 'rb') as f:\n",
    "    model = pickle.load(f)"
   ]
  },
  {
   "cell_type": "code",
   "execution_count": null,
   "metadata": {},
   "outputs": [
    {
     "data": {
      "text/html": [
       "<style>#sk-container-id-3 {color: black;background-color: white;}#sk-container-id-3 pre{padding: 0;}#sk-container-id-3 div.sk-toggleable {background-color: white;}#sk-container-id-3 label.sk-toggleable__label {cursor: pointer;display: block;width: 100%;margin-bottom: 0;padding: 0.3em;box-sizing: border-box;text-align: center;}#sk-container-id-3 label.sk-toggleable__label-arrow:before {content: \"▸\";float: left;margin-right: 0.25em;color: #696969;}#sk-container-id-3 label.sk-toggleable__label-arrow:hover:before {color: black;}#sk-container-id-3 div.sk-estimator:hover label.sk-toggleable__label-arrow:before {color: black;}#sk-container-id-3 div.sk-toggleable__content {max-height: 0;max-width: 0;overflow: hidden;text-align: left;background-color: #f0f8ff;}#sk-container-id-3 div.sk-toggleable__content pre {margin: 0.2em;color: black;border-radius: 0.25em;background-color: #f0f8ff;}#sk-container-id-3 input.sk-toggleable__control:checked~div.sk-toggleable__content {max-height: 200px;max-width: 100%;overflow: auto;}#sk-container-id-3 input.sk-toggleable__control:checked~label.sk-toggleable__label-arrow:before {content: \"▾\";}#sk-container-id-3 div.sk-estimator input.sk-toggleable__control:checked~label.sk-toggleable__label {background-color: #d4ebff;}#sk-container-id-3 div.sk-label input.sk-toggleable__control:checked~label.sk-toggleable__label {background-color: #d4ebff;}#sk-container-id-3 input.sk-hidden--visually {border: 0;clip: rect(1px 1px 1px 1px);clip: rect(1px, 1px, 1px, 1px);height: 1px;margin: -1px;overflow: hidden;padding: 0;position: absolute;width: 1px;}#sk-container-id-3 div.sk-estimator {font-family: monospace;background-color: #f0f8ff;border: 1px dotted black;border-radius: 0.25em;box-sizing: border-box;margin-bottom: 0.5em;}#sk-container-id-3 div.sk-estimator:hover {background-color: #d4ebff;}#sk-container-id-3 div.sk-parallel-item::after {content: \"\";width: 100%;border-bottom: 1px solid gray;flex-grow: 1;}#sk-container-id-3 div.sk-label:hover label.sk-toggleable__label {background-color: #d4ebff;}#sk-container-id-3 div.sk-serial::before {content: \"\";position: absolute;border-left: 1px solid gray;box-sizing: border-box;top: 0;bottom: 0;left: 50%;z-index: 0;}#sk-container-id-3 div.sk-serial {display: flex;flex-direction: column;align-items: center;background-color: white;padding-right: 0.2em;padding-left: 0.2em;position: relative;}#sk-container-id-3 div.sk-item {position: relative;z-index: 1;}#sk-container-id-3 div.sk-parallel {display: flex;align-items: stretch;justify-content: center;background-color: white;position: relative;}#sk-container-id-3 div.sk-item::before, #sk-container-id-3 div.sk-parallel-item::before {content: \"\";position: absolute;border-left: 1px solid gray;box-sizing: border-box;top: 0;bottom: 0;left: 50%;z-index: -1;}#sk-container-id-3 div.sk-parallel-item {display: flex;flex-direction: column;z-index: 1;position: relative;background-color: white;}#sk-container-id-3 div.sk-parallel-item:first-child::after {align-self: flex-end;width: 50%;}#sk-container-id-3 div.sk-parallel-item:last-child::after {align-self: flex-start;width: 50%;}#sk-container-id-3 div.sk-parallel-item:only-child::after {width: 0;}#sk-container-id-3 div.sk-dashed-wrapped {border: 1px dashed gray;margin: 0 0.4em 0.5em 0.4em;box-sizing: border-box;padding-bottom: 0.4em;background-color: white;}#sk-container-id-3 div.sk-label label {font-family: monospace;font-weight: bold;display: inline-block;line-height: 1.2em;}#sk-container-id-3 div.sk-label-container {text-align: center;}#sk-container-id-3 div.sk-container {/* jupyter's `normalize.less` sets `[hidden] { display: none; }` but bootstrap.min.css set `[hidden] { display: none !important; }` so we also need the `!important` here to be able to override the default hidden behavior on the sphinx rendered scikit-learn.org. See: https://github.com/scikit-learn/scikit-learn/issues/21755 */display: inline-block !important;position: relative;}#sk-container-id-3 div.sk-text-repr-fallback {display: none;}</style><div id=\"sk-container-id-3\" class=\"sk-top-container\"><div class=\"sk-text-repr-fallback\"><pre>Pipeline(steps=[(&#x27;standardscaler&#x27;, StandardScaler()),\n",
       "                (&#x27;randomforestclassifier&#x27;, RandomForestClassifier())])</pre><b>In a Jupyter environment, please rerun this cell to show the HTML representation or trust the notebook. <br />On GitHub, the HTML representation is unable to render, please try loading this page with nbviewer.org.</b></div><div class=\"sk-container\" hidden><div class=\"sk-item sk-dashed-wrapped\"><div class=\"sk-label-container\"><div class=\"sk-label sk-toggleable\"><input class=\"sk-toggleable__control sk-hidden--visually\" id=\"sk-estimator-id-7\" type=\"checkbox\" ><label for=\"sk-estimator-id-7\" class=\"sk-toggleable__label sk-toggleable__label-arrow\">Pipeline</label><div class=\"sk-toggleable__content\"><pre>Pipeline(steps=[(&#x27;standardscaler&#x27;, StandardScaler()),\n",
       "                (&#x27;randomforestclassifier&#x27;, RandomForestClassifier())])</pre></div></div></div><div class=\"sk-serial\"><div class=\"sk-item\"><div class=\"sk-estimator sk-toggleable\"><input class=\"sk-toggleable__control sk-hidden--visually\" id=\"sk-estimator-id-8\" type=\"checkbox\" ><label for=\"sk-estimator-id-8\" class=\"sk-toggleable__label sk-toggleable__label-arrow\">StandardScaler</label><div class=\"sk-toggleable__content\"><pre>StandardScaler()</pre></div></div></div><div class=\"sk-item\"><div class=\"sk-estimator sk-toggleable\"><input class=\"sk-toggleable__control sk-hidden--visually\" id=\"sk-estimator-id-9\" type=\"checkbox\" ><label for=\"sk-estimator-id-9\" class=\"sk-toggleable__label sk-toggleable__label-arrow\">RandomForestClassifier</label><div class=\"sk-toggleable__content\"><pre>RandomForestClassifier()</pre></div></div></div></div></div></div></div>"
      ],
      "text/plain": [
       "Pipeline(steps=[('standardscaler', StandardScaler()),\n",
       "                ('randomforestclassifier', RandomForestClassifier())])"
      ]
     },
     "execution_count": 125,
     "metadata": {},
     "output_type": "execute_result"
    }
   ],
   "source": [
    "model"
   ]
  },
  {
   "cell_type": "code",
   "execution_count": null,
   "metadata": {},
   "outputs": [],
   "source": [
    "cap = cv2.VideoCapture(0)\n",
    "# Initiate holistic model\n",
    "with mp_holistic.Holistic(min_detection_confidence=0.5, min_tracking_confidence=0.5) as holistic:\n",
    "    \n",
    "    while cap.isOpened():\n",
    "        ret, frame = cap.read()\n",
    "        \n",
    "        # Recolor Feed\n",
    "        image = cv2.cvtColor(frame, cv2.COLOR_BGR2RGB)\n",
    "        image.flags.writeable = False        \n",
    "        \n",
    "        # Make Detections\n",
    "        results = holistic.process(image)\n",
    "        # print(results.face_landmarks)\n",
    "        \n",
    "        # face_landmarks, pose_landmarks, left_hand_landmarks, right_hand_landmarks\n",
    "        \n",
    "        # Recolor image back to BGR for rendering\n",
    "        image.flags.writeable = True   \n",
    "        image = cv2.cvtColor(image, cv2.COLOR_RGB2BGR)\n",
    "        \n",
    "        # 1. Draw face landmarks\n",
    "        mp_drawing.draw_landmarks(image, results.face_landmarks, mp_holistic.FACEMESH_TESSELATION, \n",
    "                                 mp_drawing.DrawingSpec(color=(80,110,10), thickness=1, circle_radius=1),\n",
    "                                 mp_drawing.DrawingSpec(color=(80,256,121), thickness=1, circle_radius=1)\n",
    "                                 )\n",
    "\n",
    "        # 2. Right hand\n",
    "        mp_drawing.draw_landmarks(image, results.right_hand_landmarks, mp_holistic.HAND_CONNECTIONS, \n",
    "                                 mp_drawing.DrawingSpec(color=(80,22,10), thickness=2, circle_radius=4),\n",
    "                                 mp_drawing.DrawingSpec(color=(80,44,121), thickness=2, circle_radius=2)\n",
    "                                 )\n",
    "\n",
    "        # 3. Left Hand\n",
    "        mp_drawing.draw_landmarks(image, results.left_hand_landmarks, mp_holistic.HAND_CONNECTIONS, \n",
    "                                 mp_drawing.DrawingSpec(color=(121,22,76), thickness=2, circle_radius=4),\n",
    "                                 mp_drawing.DrawingSpec(color=(121,44,250), thickness=2, circle_radius=2)\n",
    "                                 )\n",
    "\n",
    "        # 4. Pose Detections\n",
    "        mp_drawing.draw_landmarks(image, results.pose_landmarks, mp_holistic.POSE_CONNECTIONS, \n",
    "                                 mp_drawing.DrawingSpec(color=(245,117,66), thickness=2, circle_radius=4),\n",
    "                                 mp_drawing.DrawingSpec(color=(245,66,230), thickness=2, circle_radius=2)\n",
    "                                 )\n",
    "        # Export coordinates\n",
    "        try:\n",
    "            # Extract Pose landmarks\n",
    "            pose = results.pose_landmarks.landmark\n",
    "            pose_row = list(np.array([[landmark.x, landmark.y, landmark.z, landmark.visibility] for landmark in pose]).flatten())\n",
    "            \n",
    "            # Extract Face landmarks\n",
    "            face = results.face_landmarks.landmark\n",
    "            face_row = list(np.array([[landmark.x, landmark.y, landmark.z, landmark.visibility] for landmark in face]).flatten())\n",
    "            \n",
    "            # Concate rows\n",
    "            row = pose_row+face_row\n",
    "            \n",
    "#             # Append class name \n",
    "#             row.insert(0, class_name)\n",
    "            \n",
    "#             # Export to CSV\n",
    "#             with open('coords.csv', mode='a', newline='') as f:\n",
    "#                 csv_writer = csv.writer(f, delimiter=',', quotechar='\"', quoting=csv.QUOTE_MINIMAL)\n",
    "#                 csv_writer.writerow(row) \n",
    "\n",
    "            # Make Detections\n",
    "            X = pd.DataFrame([row])\n",
    "            body_language_class = model.predict(X)[0]\n",
    "            body_language_prob = model.predict_proba(X)[0]\n",
    "            print(body_language_class, body_language_prob)\n",
    "            \n",
    "            # Grab ear coords\n",
    "            coords = tuple(np.multiply(\n",
    "                            np.array(\n",
    "                                (results.pose_landmarks.landmark[mp_holistic.PoseLandmark.LEFT_EAR].x, \n",
    "                                 results.pose_landmarks.landmark[mp_holistic.PoseLandmark.LEFT_EAR].y))\n",
    "                        , [640,480]).astype(int))\n",
    "            \n",
    "            cv2.rectangle(image, \n",
    "                          (coords[0], coords[1]+5), \n",
    "                          (coords[0]+len(body_language_class)*20, coords[1]-30), \n",
    "                          (245, 117, 16), -1)\n",
    "            cv2.putText(image, body_language_class, coords, \n",
    "                        cv2.FONT_HERSHEY_SIMPLEX, 1, (255, 255, 255), 2, cv2.LINE_AA)\n",
    "            \n",
    "            # Get status box\n",
    "            cv2.rectangle(image, (0,0), (250, 60), (245, 117, 16), -1)\n",
    "            \n",
    "            # Display Class\n",
    "            cv2.putText(image, 'CLASS'\n",
    "                        , (95,12), cv2.FONT_HERSHEY_SIMPLEX, 0.5, (0, 0, 0), 1, cv2.LINE_AA)\n",
    "            cv2.putText(image, body_language_class.split(' ')[0]\n",
    "                        , (90,40), cv2.FONT_HERSHEY_SIMPLEX, 1, (255, 255, 255), 2, cv2.LINE_AA)\n",
    "            \n",
    "            # Display Probability\n",
    "            cv2.putText(image, 'PROB'\n",
    "                        , (15,12), cv2.FONT_HERSHEY_SIMPLEX, 0.5, (0, 0, 0), 1, cv2.LINE_AA)\n",
    "            cv2.putText(image, str(round(body_language_prob[np.argmax(body_language_prob)],2))\n",
    "                        , (10,40), cv2.FONT_HERSHEY_SIMPLEX, 1, (255, 255, 255), 2, cv2.LINE_AA)\n",
    "            \n",
    "        except:\n",
    "            pass\n",
    "                        \n",
    "        cv2.imshow('Raw Webcam Feed', image)\n",
    "\n",
    "        if cv2.waitKey(10) & 0xFF == ord('q'):\n",
    "            break\n",
    "\n",
    "cap.release()\n",
    "cv2.destroyAllWindows()"
   ]
  },
  {
   "cell_type": "code",
   "execution_count": null,
   "metadata": {},
   "outputs": [
    {
     "ename": "AttributeError",
     "evalue": "'NoneType' object has no attribute 'landmark'",
     "output_type": "error",
     "traceback": [
      "\u001b[1;31m---------------------------------------------------------------------------\u001b[0m",
      "\u001b[1;31mAttributeError\u001b[0m                            Traceback (most recent call last)",
      "Cell \u001b[1;32mIn[128], line 1\u001b[0m\n\u001b[1;32m----> 1\u001b[0m \u001b[39mtuple\u001b[39m(np\u001b[39m.\u001b[39mmultiply(np\u001b[39m.\u001b[39marray((results\u001b[39m.\u001b[39;49mpose_landmarks\u001b[39m.\u001b[39;49mlandmark[mp_holistic\u001b[39m.\u001b[39mPoseLandmark\u001b[39m.\u001b[39mLEFT_EAR]\u001b[39m.\u001b[39mx, \n\u001b[0;32m      2\u001b[0m results\u001b[39m.\u001b[39mpose_landmarks\u001b[39m.\u001b[39mlandmark[mp_holistic\u001b[39m.\u001b[39mPoseLandmark\u001b[39m.\u001b[39mLEFT_EAR]\u001b[39m.\u001b[39my)), [\u001b[39m640\u001b[39m,\u001b[39m480\u001b[39m])\u001b[39m.\u001b[39mastype(\u001b[39mint\u001b[39m))\n",
      "\u001b[1;31mAttributeError\u001b[0m: 'NoneType' object has no attribute 'landmark'"
     ]
    }
   ],
   "source": [
    "tuple(np.multiply(np.array((results.pose_landmarks.landmark[mp_holistic.PoseLandmark.LEFT_EAR].x, \n",
    "results.pose_landmarks.landmark[mp_holistic.PoseLandmark.LEFT_EAR].y)), [640,480]).astype(int))"
   ]
  },
  {
   "cell_type": "code",
   "execution_count": null,
   "metadata": {},
   "outputs": [],
   "source": []
  },
  {
   "cell_type": "code",
   "execution_count": null,
   "metadata": {},
   "outputs": [],
   "source": []
  },
  {
   "cell_type": "code",
   "execution_count": null,
   "metadata": {},
   "outputs": [],
   "source": []
  }
 ],
 "metadata": {
  "kernelspec": {
   "display_name": "Python 3",
   "language": "python",
   "name": "python3"
  },
  "language_info": {
   "codemirror_mode": {
    "name": "ipython",
    "version": 3
   },
   "file_extension": ".py",
   "mimetype": "text/x-python",
   "name": "python",
   "nbconvert_exporter": "python",
   "pygments_lexer": "ipython3",
   "version": "3.10.4"
  },
  "vscode": {
   "interpreter": {
    "hash": "8a0538708ece5d136d2307468be745245bf67c9b882b3e5670e27a17739d3f3c"
   }
  }
 },
 "nbformat": 4,
 "nbformat_minor": 2
}
