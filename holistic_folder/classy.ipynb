{
  "cells": [
    {
      "cell_type": "code",
      "execution_count": 1,
      "metadata": {
        "colab": {
          "base_uri": "https://localhost:8080/"
        },
        "id": "fv3eYqQvBb-J",
        "outputId": "8ebeb46d-e3ec-487e-8af9-7cb66de64aa4"
      },
      "outputs": [
        {
          "name": "stdout",
          "output_type": "stream",
          "text": [
            "Mounted at /content/drive\n"
          ]
        }
      ],
      "source": [
        "from google.colab import drive\n",
        "drive.mount('/content/drive')"
      ]
    },
    {
      "cell_type": "code",
      "execution_count": 172,
      "metadata": {
        "id": "0j5yelpoCJ6N"
      },
      "outputs": [],
      "source": [
        "import os\n",
        "import sys\n",
        "import numpy as np\n",
        "import pandas as pd\n",
        "import tensorflow as tf\n",
        "from matplotlib import pyplot as plt\n",
        "from tensorflow.keras.layers import *\n",
        "from sklearn.preprocessing import StandardScaler\n",
        "from sklearn.model_selection import train_test_split\n",
        "from tensorflow.keras.preprocessing.image import ImageDataGenerator\n",
        "from tensorflow.keras.applications import InceptionResNetV2,MobileNetV2\n",
        "from tensorflow.keras.callbacks import ModelCheckpoint,EarlyStopping"
      ]
    },
    {
      "cell_type": "markdown",
      "metadata": {
        "id": "J1ykGnGrHlAx"
      },
      "source": [
        "reading data"
      ]
    },
    {
      "cell_type": "code",
      "execution_count": 374,
      "metadata": {
        "id": "p2Rpqq01C3sK"
      },
      "outputs": [],
      "source": [
        "df = pd.read_csv('output_csv_directory/train_set2.csv')"
      ]
    },
    {
      "cell_type": "code",
      "execution_count": 375,
      "metadata": {
        "id": "y8HFi6jxDn4O"
      },
      "outputs": [],
      "source": [
        "X = df.drop('class', axis=1)# features\n",
        "X = X.drop('timestamp', axis=1)# features\n",
        "y = df['class'] # target value"
      ]
    },
    {
      "cell_type": "markdown",
      "metadata": {
        "id": "qNIdJvwwHqW3"
      },
      "source": [
        "data split"
      ]
    },
    {
      "cell_type": "code",
      "execution_count": 376,
      "metadata": {
        "id": "zP80oHhxEDKo"
      },
      "outputs": [],
      "source": [
        "X_train, X_test, y_train, y_test = train_test_split(X, y, test_size=0.3, random_state=1234)"
      ]
    },
    {
      "cell_type": "code",
      "execution_count": 377,
      "metadata": {
        "colab": {
          "base_uri": "https://localhost:8080/"
        },
        "id": "KWkcp2NLmR2t",
        "outputId": "dff184bc-db15-4ea3-a31e-711c608810fb"
      },
      "outputs": [
        {
          "data": {
            "text/html": [
              "<div>\n",
              "<style scoped>\n",
              "    .dataframe tbody tr th:only-of-type {\n",
              "        vertical-align: middle;\n",
              "    }\n",
              "\n",
              "    .dataframe tbody tr th {\n",
              "        vertical-align: top;\n",
              "    }\n",
              "\n",
              "    .dataframe thead th {\n",
              "        text-align: right;\n",
              "    }\n",
              "</style>\n",
              "<table border=\"1\" class=\"dataframe\">\n",
              "  <thead>\n",
              "    <tr style=\"text-align: right;\">\n",
              "      <th></th>\n",
              "      <th>x1</th>\n",
              "      <th>y1</th>\n",
              "      <th>z1</th>\n",
              "      <th>v1</th>\n",
              "      <th>x2</th>\n",
              "      <th>y2</th>\n",
              "      <th>z2</th>\n",
              "      <th>v2</th>\n",
              "      <th>x3</th>\n",
              "      <th>y3</th>\n",
              "      <th>...</th>\n",
              "      <th>z499</th>\n",
              "      <th>v499</th>\n",
              "      <th>x500</th>\n",
              "      <th>y500</th>\n",
              "      <th>z500</th>\n",
              "      <th>v500</th>\n",
              "      <th>x501</th>\n",
              "      <th>y501</th>\n",
              "      <th>z501</th>\n",
              "      <th>v501</th>\n",
              "    </tr>\n",
              "  </thead>\n",
              "  <tbody>\n",
              "    <tr>\n",
              "      <th>24</th>\n",
              "      <td>0.481358</td>\n",
              "      <td>0.579742</td>\n",
              "      <td>-1.313305</td>\n",
              "      <td>0.999959</td>\n",
              "      <td>0.511807</td>\n",
              "      <td>0.518029</td>\n",
              "      <td>-1.252761</td>\n",
              "      <td>0.999881</td>\n",
              "      <td>0.528025</td>\n",
              "      <td>0.517918</td>\n",
              "      <td>...</td>\n",
              "      <td>-0.008456</td>\n",
              "      <td>0.0</td>\n",
              "      <td>0.547418</td>\n",
              "      <td>0.501629</td>\n",
              "      <td>0.002855</td>\n",
              "      <td>0.0</td>\n",
              "      <td>0.551973</td>\n",
              "      <td>0.497450</td>\n",
              "      <td>0.002820</td>\n",
              "      <td>0.0</td>\n",
              "    </tr>\n",
              "    <tr>\n",
              "      <th>99</th>\n",
              "      <td>0.503047</td>\n",
              "      <td>0.702909</td>\n",
              "      <td>-1.392586</td>\n",
              "      <td>0.999787</td>\n",
              "      <td>0.529325</td>\n",
              "      <td>0.643126</td>\n",
              "      <td>-1.379059</td>\n",
              "      <td>0.999447</td>\n",
              "      <td>0.542058</td>\n",
              "      <td>0.641751</td>\n",
              "      <td>...</td>\n",
              "      <td>-0.030234</td>\n",
              "      <td>0.0</td>\n",
              "      <td>0.558252</td>\n",
              "      <td>0.634432</td>\n",
              "      <td>-0.020336</td>\n",
              "      <td>0.0</td>\n",
              "      <td>0.561941</td>\n",
              "      <td>0.629036</td>\n",
              "      <td>-0.021165</td>\n",
              "      <td>0.0</td>\n",
              "    </tr>\n",
              "    <tr>\n",
              "      <th>8</th>\n",
              "      <td>0.458189</td>\n",
              "      <td>0.569975</td>\n",
              "      <td>-0.722445</td>\n",
              "      <td>0.999787</td>\n",
              "      <td>0.487880</td>\n",
              "      <td>0.506028</td>\n",
              "      <td>-0.676155</td>\n",
              "      <td>0.999373</td>\n",
              "      <td>0.505248</td>\n",
              "      <td>0.504545</td>\n",
              "      <td>...</td>\n",
              "      <td>-0.006391</td>\n",
              "      <td>0.0</td>\n",
              "      <td>0.526275</td>\n",
              "      <td>0.507850</td>\n",
              "      <td>0.003414</td>\n",
              "      <td>0.0</td>\n",
              "      <td>0.531269</td>\n",
              "      <td>0.503040</td>\n",
              "      <td>0.003355</td>\n",
              "      <td>0.0</td>\n",
              "    </tr>\n",
              "    <tr>\n",
              "      <th>20</th>\n",
              "      <td>0.480593</td>\n",
              "      <td>0.588099</td>\n",
              "      <td>-1.394641</td>\n",
              "      <td>0.999939</td>\n",
              "      <td>0.510946</td>\n",
              "      <td>0.527103</td>\n",
              "      <td>-1.349718</td>\n",
              "      <td>0.999821</td>\n",
              "      <td>0.527095</td>\n",
              "      <td>0.527101</td>\n",
              "      <td>...</td>\n",
              "      <td>-0.007222</td>\n",
              "      <td>0.0</td>\n",
              "      <td>0.545122</td>\n",
              "      <td>0.510962</td>\n",
              "      <td>0.003845</td>\n",
              "      <td>0.0</td>\n",
              "      <td>0.550067</td>\n",
              "      <td>0.506805</td>\n",
              "      <td>0.003817</td>\n",
              "      <td>0.0</td>\n",
              "    </tr>\n",
              "    <tr>\n",
              "      <th>22</th>\n",
              "      <td>0.480517</td>\n",
              "      <td>0.583743</td>\n",
              "      <td>-1.190810</td>\n",
              "      <td>0.999950</td>\n",
              "      <td>0.510939</td>\n",
              "      <td>0.522466</td>\n",
              "      <td>-1.130262</td>\n",
              "      <td>0.999854</td>\n",
              "      <td>0.527194</td>\n",
              "      <td>0.522484</td>\n",
              "      <td>...</td>\n",
              "      <td>-0.008854</td>\n",
              "      <td>0.0</td>\n",
              "      <td>0.545598</td>\n",
              "      <td>0.507185</td>\n",
              "      <td>0.001997</td>\n",
              "      <td>0.0</td>\n",
              "      <td>0.550385</td>\n",
              "      <td>0.502994</td>\n",
              "      <td>0.001903</td>\n",
              "      <td>0.0</td>\n",
              "    </tr>\n",
              "    <tr>\n",
              "      <th>...</th>\n",
              "      <td>...</td>\n",
              "      <td>...</td>\n",
              "      <td>...</td>\n",
              "      <td>...</td>\n",
              "      <td>...</td>\n",
              "      <td>...</td>\n",
              "      <td>...</td>\n",
              "      <td>...</td>\n",
              "      <td>...</td>\n",
              "      <td>...</td>\n",
              "      <td>...</td>\n",
              "      <td>...</td>\n",
              "      <td>...</td>\n",
              "      <td>...</td>\n",
              "      <td>...</td>\n",
              "      <td>...</td>\n",
              "      <td>...</td>\n",
              "      <td>...</td>\n",
              "      <td>...</td>\n",
              "      <td>...</td>\n",
              "      <td>...</td>\n",
              "    </tr>\n",
              "    <tr>\n",
              "      <th>152</th>\n",
              "      <td>0.583514</td>\n",
              "      <td>0.665908</td>\n",
              "      <td>-1.171250</td>\n",
              "      <td>0.998645</td>\n",
              "      <td>0.600607</td>\n",
              "      <td>0.600556</td>\n",
              "      <td>-1.121177</td>\n",
              "      <td>0.996130</td>\n",
              "      <td>0.609383</td>\n",
              "      <td>0.596851</td>\n",
              "      <td>...</td>\n",
              "      <td>-0.012676</td>\n",
              "      <td>0.0</td>\n",
              "      <td>0.626019</td>\n",
              "      <td>0.590299</td>\n",
              "      <td>0.019117</td>\n",
              "      <td>0.0</td>\n",
              "      <td>0.628396</td>\n",
              "      <td>0.586617</td>\n",
              "      <td>0.020468</td>\n",
              "      <td>0.0</td>\n",
              "    </tr>\n",
              "    <tr>\n",
              "      <th>116</th>\n",
              "      <td>0.434811</td>\n",
              "      <td>0.691008</td>\n",
              "      <td>-0.821975</td>\n",
              "      <td>0.999707</td>\n",
              "      <td>0.457834</td>\n",
              "      <td>0.617716</td>\n",
              "      <td>-0.816456</td>\n",
              "      <td>0.999202</td>\n",
              "      <td>0.475496</td>\n",
              "      <td>0.612878</td>\n",
              "      <td>...</td>\n",
              "      <td>-0.024871</td>\n",
              "      <td>0.0</td>\n",
              "      <td>0.459434</td>\n",
              "      <td>0.603307</td>\n",
              "      <td>-0.034058</td>\n",
              "      <td>0.0</td>\n",
              "      <td>0.463809</td>\n",
              "      <td>0.596869</td>\n",
              "      <td>-0.036343</td>\n",
              "      <td>0.0</td>\n",
              "    </tr>\n",
              "    <tr>\n",
              "      <th>53</th>\n",
              "      <td>0.496581</td>\n",
              "      <td>0.559806</td>\n",
              "      <td>-1.059404</td>\n",
              "      <td>0.999989</td>\n",
              "      <td>0.517279</td>\n",
              "      <td>0.502766</td>\n",
              "      <td>-0.986943</td>\n",
              "      <td>0.999984</td>\n",
              "      <td>0.533184</td>\n",
              "      <td>0.502663</td>\n",
              "      <td>...</td>\n",
              "      <td>-0.002425</td>\n",
              "      <td>0.0</td>\n",
              "      <td>0.553034</td>\n",
              "      <td>0.483679</td>\n",
              "      <td>0.022436</td>\n",
              "      <td>0.0</td>\n",
              "      <td>0.557484</td>\n",
              "      <td>0.479411</td>\n",
              "      <td>0.023478</td>\n",
              "      <td>0.0</td>\n",
              "    </tr>\n",
              "    <tr>\n",
              "      <th>38</th>\n",
              "      <td>0.574796</td>\n",
              "      <td>0.577998</td>\n",
              "      <td>-1.581118</td>\n",
              "      <td>0.999987</td>\n",
              "      <td>0.596517</td>\n",
              "      <td>0.515694</td>\n",
              "      <td>-1.496446</td>\n",
              "      <td>0.999967</td>\n",
              "      <td>0.612295</td>\n",
              "      <td>0.514998</td>\n",
              "      <td>...</td>\n",
              "      <td>-0.009561</td>\n",
              "      <td>0.0</td>\n",
              "      <td>0.629703</td>\n",
              "      <td>0.503724</td>\n",
              "      <td>0.008265</td>\n",
              "      <td>0.0</td>\n",
              "      <td>0.634114</td>\n",
              "      <td>0.500695</td>\n",
              "      <td>0.008475</td>\n",
              "      <td>0.0</td>\n",
              "    </tr>\n",
              "    <tr>\n",
              "      <th>47</th>\n",
              "      <td>0.564270</td>\n",
              "      <td>0.577997</td>\n",
              "      <td>-1.120937</td>\n",
              "      <td>0.999982</td>\n",
              "      <td>0.591353</td>\n",
              "      <td>0.515697</td>\n",
              "      <td>-1.049830</td>\n",
              "      <td>0.999973</td>\n",
              "      <td>0.606744</td>\n",
              "      <td>0.515911</td>\n",
              "      <td>...</td>\n",
              "      <td>-0.004171</td>\n",
              "      <td>0.0</td>\n",
              "      <td>0.618253</td>\n",
              "      <td>0.500479</td>\n",
              "      <td>0.021632</td>\n",
              "      <td>0.0</td>\n",
              "      <td>0.622847</td>\n",
              "      <td>0.496554</td>\n",
              "      <td>0.022634</td>\n",
              "      <td>0.0</td>\n",
              "    </tr>\n",
              "  </tbody>\n",
              "</table>\n",
              "<p>109 rows × 2004 columns</p>\n",
              "</div>"
            ],
            "text/plain": [
              "           x1        y1        z1        v1        x2        y2        z2  \\\n",
              "24   0.481358  0.579742 -1.313305  0.999959  0.511807  0.518029 -1.252761   \n",
              "99   0.503047  0.702909 -1.392586  0.999787  0.529325  0.643126 -1.379059   \n",
              "8    0.458189  0.569975 -0.722445  0.999787  0.487880  0.506028 -0.676155   \n",
              "20   0.480593  0.588099 -1.394641  0.999939  0.510946  0.527103 -1.349718   \n",
              "22   0.480517  0.583743 -1.190810  0.999950  0.510939  0.522466 -1.130262   \n",
              "..        ...       ...       ...       ...       ...       ...       ...   \n",
              "152  0.583514  0.665908 -1.171250  0.998645  0.600607  0.600556 -1.121177   \n",
              "116  0.434811  0.691008 -0.821975  0.999707  0.457834  0.617716 -0.816456   \n",
              "53   0.496581  0.559806 -1.059404  0.999989  0.517279  0.502766 -0.986943   \n",
              "38   0.574796  0.577998 -1.581118  0.999987  0.596517  0.515694 -1.496446   \n",
              "47   0.564270  0.577997 -1.120937  0.999982  0.591353  0.515697 -1.049830   \n",
              "\n",
              "           v2        x3        y3  ...      z499  v499      x500      y500  \\\n",
              "24   0.999881  0.528025  0.517918  ... -0.008456   0.0  0.547418  0.501629   \n",
              "99   0.999447  0.542058  0.641751  ... -0.030234   0.0  0.558252  0.634432   \n",
              "8    0.999373  0.505248  0.504545  ... -0.006391   0.0  0.526275  0.507850   \n",
              "20   0.999821  0.527095  0.527101  ... -0.007222   0.0  0.545122  0.510962   \n",
              "22   0.999854  0.527194  0.522484  ... -0.008854   0.0  0.545598  0.507185   \n",
              "..        ...       ...       ...  ...       ...   ...       ...       ...   \n",
              "152  0.996130  0.609383  0.596851  ... -0.012676   0.0  0.626019  0.590299   \n",
              "116  0.999202  0.475496  0.612878  ... -0.024871   0.0  0.459434  0.603307   \n",
              "53   0.999984  0.533184  0.502663  ... -0.002425   0.0  0.553034  0.483679   \n",
              "38   0.999967  0.612295  0.514998  ... -0.009561   0.0  0.629703  0.503724   \n",
              "47   0.999973  0.606744  0.515911  ... -0.004171   0.0  0.618253  0.500479   \n",
              "\n",
              "         z500  v500      x501      y501      z501  v501  \n",
              "24   0.002855   0.0  0.551973  0.497450  0.002820   0.0  \n",
              "99  -0.020336   0.0  0.561941  0.629036 -0.021165   0.0  \n",
              "8    0.003414   0.0  0.531269  0.503040  0.003355   0.0  \n",
              "20   0.003845   0.0  0.550067  0.506805  0.003817   0.0  \n",
              "22   0.001997   0.0  0.550385  0.502994  0.001903   0.0  \n",
              "..        ...   ...       ...       ...       ...   ...  \n",
              "152  0.019117   0.0  0.628396  0.586617  0.020468   0.0  \n",
              "116 -0.034058   0.0  0.463809  0.596869 -0.036343   0.0  \n",
              "53   0.022436   0.0  0.557484  0.479411  0.023478   0.0  \n",
              "38   0.008265   0.0  0.634114  0.500695  0.008475   0.0  \n",
              "47   0.021632   0.0  0.622847  0.496554  0.022634   0.0  \n",
              "\n",
              "[109 rows x 2004 columns]"
            ]
          },
          "execution_count": 377,
          "metadata": {},
          "output_type": "execute_result"
        }
      ],
      "source": [
        "X_train"
      ]
    },
    {
      "cell_type": "markdown",
      "metadata": {
        "id": "xoUY8lZeHzGW"
      },
      "source": [
        "feature label encoding"
      ]
    },
    {
      "cell_type": "code",
      "execution_count": 378,
      "metadata": {
        "id": "GklXJWdNbRe0"
      },
      "outputs": [],
      "source": [
        "happy = [1,0,0,0,0]\n",
        "sad = [0,1,0,0,0]\n",
        "insecure = [0,0,1,0,0]\n",
        "closed = [0,0,0,1,0]\n",
        "open = [0,0,0,0,1]\n",
        "new_y_train = []\n",
        "new_y_test = []"
      ]
    },
    {
      "cell_type": "code",
      "execution_count": 379,
      "metadata": {
        "id": "n_ZZRP_AbqD3"
      },
      "outputs": [],
      "source": [
        "for i in y_train:\n",
        "  if i=='happy':\n",
        "    new_y_train.append(happy)\n",
        "  if i=='sad':\n",
        "    new_y_train.append(sad)\n",
        "  if i=='insecure':\n",
        "    new_y_train.append(insecure)\n",
        "  if i=='closed':\n",
        "    new_y_train.append(closed)\n",
        "  if i=='open':\n",
        "    new_y_train.append(open)\n",
        "\n",
        "for i in y_test:\n",
        "  if i=='happy':\n",
        "    new_y_test.append(happy)\n",
        "  if i=='sad':\n",
        "    new_y_test.append(sad)\n",
        "  if i=='insecure':\n",
        "    new_y_test.append(insecure)\n",
        "  if i=='closed':\n",
        "    new_y_test.append(closed)\n",
        "  if i=='open':\n",
        "    new_y_test.append(open)"
      ]
    },
    {
      "cell_type": "code",
      "execution_count": 380,
      "metadata": {
        "id": "sWPhU49hd5yi"
      },
      "outputs": [],
      "source": [
        "new_y_train = np.array(new_y_train)\n",
        "new_y_test = np.array(new_y_test)"
      ]
    },
    {
      "cell_type": "code",
      "execution_count": 381,
      "metadata": {
        "colab": {
          "base_uri": "https://localhost:8080/"
        },
        "id": "HjNYp0OSmUho",
        "outputId": "c2804029-b609-4fc2-e31d-1d211a24d0a1"
      },
      "outputs": [
        {
          "data": {
            "text/plain": [
              "array([[1, 0, 0, 0, 0],\n",
              "       [0, 0, 0, 0, 1],\n",
              "       [1, 0, 0, 0, 0],\n",
              "       [1, 0, 0, 0, 0],\n",
              "       [1, 0, 0, 0, 0],\n",
              "       [0, 0, 0, 0, 1],\n",
              "       [1, 0, 0, 0, 0],\n",
              "       [0, 0, 0, 0, 1],\n",
              "       [1, 0, 0, 0, 0],\n",
              "       [0, 0, 0, 0, 1],\n",
              "       [0, 0, 0, 0, 1],\n",
              "       [0, 0, 0, 0, 1],\n",
              "       [1, 0, 0, 0, 0],\n",
              "       [0, 0, 0, 0, 1],\n",
              "       [0, 0, 0, 0, 1],\n",
              "       [0, 0, 0, 0, 1],\n",
              "       [0, 0, 0, 0, 1],\n",
              "       [0, 0, 0, 0, 1],\n",
              "       [1, 0, 0, 0, 0],\n",
              "       [0, 0, 0, 0, 1],\n",
              "       [1, 0, 0, 0, 0],\n",
              "       [1, 0, 0, 0, 0],\n",
              "       [0, 0, 0, 0, 1],\n",
              "       [1, 0, 0, 0, 0],\n",
              "       [1, 0, 0, 0, 0],\n",
              "       [1, 0, 0, 0, 0],\n",
              "       [0, 0, 0, 0, 1],\n",
              "       [1, 0, 0, 0, 0],\n",
              "       [0, 0, 0, 0, 1],\n",
              "       [0, 0, 0, 0, 1],\n",
              "       [0, 0, 0, 0, 1],\n",
              "       [1, 0, 0, 0, 0],\n",
              "       [1, 0, 0, 0, 0],\n",
              "       [0, 0, 0, 0, 1],\n",
              "       [1, 0, 0, 0, 0],\n",
              "       [0, 0, 0, 0, 1],\n",
              "       [1, 0, 0, 0, 0],\n",
              "       [0, 0, 0, 0, 1],\n",
              "       [0, 0, 0, 0, 1],\n",
              "       [1, 0, 0, 0, 0],\n",
              "       [0, 0, 0, 0, 1],\n",
              "       [1, 0, 0, 0, 0],\n",
              "       [0, 0, 0, 0, 1],\n",
              "       [0, 0, 0, 0, 1],\n",
              "       [0, 0, 0, 0, 1],\n",
              "       [0, 0, 0, 0, 1],\n",
              "       [1, 0, 0, 0, 0],\n",
              "       [1, 0, 0, 0, 0],\n",
              "       [0, 0, 0, 0, 1],\n",
              "       [0, 0, 0, 0, 1],\n",
              "       [0, 0, 0, 0, 1],\n",
              "       [1, 0, 0, 0, 0],\n",
              "       [0, 0, 0, 0, 1],\n",
              "       [0, 0, 0, 0, 1],\n",
              "       [0, 0, 0, 0, 1],\n",
              "       [1, 0, 0, 0, 0],\n",
              "       [0, 0, 0, 0, 1],\n",
              "       [1, 0, 0, 0, 0],\n",
              "       [1, 0, 0, 0, 0],\n",
              "       [1, 0, 0, 0, 0],\n",
              "       [0, 0, 0, 0, 1],\n",
              "       [0, 0, 0, 0, 1],\n",
              "       [1, 0, 0, 0, 0],\n",
              "       [0, 0, 0, 0, 1],\n",
              "       [0, 0, 0, 0, 1],\n",
              "       [0, 0, 0, 0, 1],\n",
              "       [0, 0, 0, 0, 1],\n",
              "       [1, 0, 0, 0, 0],\n",
              "       [0, 0, 0, 0, 1],\n",
              "       [0, 0, 0, 0, 1],\n",
              "       [1, 0, 0, 0, 0],\n",
              "       [0, 0, 0, 0, 1],\n",
              "       [0, 0, 0, 0, 1],\n",
              "       [1, 0, 0, 0, 0],\n",
              "       [1, 0, 0, 0, 0],\n",
              "       [0, 0, 0, 0, 1],\n",
              "       [0, 0, 0, 0, 1],\n",
              "       [1, 0, 0, 0, 0],\n",
              "       [0, 0, 0, 0, 1],\n",
              "       [0, 0, 0, 0, 1],\n",
              "       [1, 0, 0, 0, 0],\n",
              "       [0, 0, 0, 0, 1],\n",
              "       [0, 0, 0, 0, 1],\n",
              "       [1, 0, 0, 0, 0],\n",
              "       [1, 0, 0, 0, 0],\n",
              "       [1, 0, 0, 0, 0],\n",
              "       [0, 0, 0, 0, 1],\n",
              "       [0, 0, 0, 0, 1],\n",
              "       [0, 0, 0, 0, 1],\n",
              "       [1, 0, 0, 0, 0],\n",
              "       [1, 0, 0, 0, 0],\n",
              "       [0, 0, 0, 0, 1],\n",
              "       [1, 0, 0, 0, 0],\n",
              "       [0, 0, 0, 0, 1],\n",
              "       [0, 0, 0, 0, 1],\n",
              "       [0, 0, 0, 0, 1],\n",
              "       [0, 0, 0, 0, 1],\n",
              "       [0, 0, 0, 0, 1],\n",
              "       [0, 0, 0, 0, 1],\n",
              "       [1, 0, 0, 0, 0],\n",
              "       [0, 0, 0, 0, 1],\n",
              "       [1, 0, 0, 0, 0],\n",
              "       [1, 0, 0, 0, 0],\n",
              "       [0, 0, 0, 0, 1],\n",
              "       [0, 0, 0, 0, 1],\n",
              "       [0, 0, 0, 0, 1],\n",
              "       [1, 0, 0, 0, 0],\n",
              "       [1, 0, 0, 0, 0],\n",
              "       [1, 0, 0, 0, 0]])"
            ]
          },
          "execution_count": 381,
          "metadata": {},
          "output_type": "execute_result"
        }
      ],
      "source": [
        "new_y_train"
      ]
    },
    {
      "cell_type": "markdown",
      "metadata": {
        "id": "MjCVwILEH6Lo"
      },
      "source": [
        "data scailing"
      ]
    },
    {
      "cell_type": "code",
      "execution_count": 382,
      "metadata": {
        "id": "GnLPOWtXKJcX"
      },
      "outputs": [],
      "source": [
        "sc = StandardScaler()\n",
        "X_train = sc.fit_transform(X_train)\n",
        "X_test = sc.transform(X_test)"
      ]
    },
    {
      "cell_type": "code",
      "execution_count": 383,
      "metadata": {
        "colab": {
          "base_uri": "https://localhost:8080/"
        },
        "id": "duUtRNHbEC_Z",
        "outputId": "b7016ee3-0f77-4360-ec47-25c071584b41"
      },
      "outputs": [
        {
          "data": {
            "text/plain": [
              "(109, 2004)"
            ]
          },
          "execution_count": 383,
          "metadata": {},
          "output_type": "execute_result"
        }
      ],
      "source": [
        "X_train.shape"
      ]
    },
    {
      "cell_type": "code",
      "execution_count": 384,
      "metadata": {
        "id": "wwOs-6Q3I50X"
      },
      "outputs": [],
      "source": [
        "x_train = np.reshape(X_train,newshape=(X_train.shape[0],167,4,3))"
      ]
    },
    {
      "cell_type": "code",
      "execution_count": null,
      "metadata": {
        "colab": {
          "base_uri": "https://localhost:8080/"
        },
        "id": "0S74vmUJfmj5",
        "outputId": "4e92cb2d-7184-4131-e1af-176beae6b85b"
      },
      "outputs": [
        {
          "data": {
            "text/plain": [
              "(48, 2004)"
            ]
          },
          "execution_count": 297,
          "metadata": {},
          "output_type": "execute_result"
        }
      ],
      "source": [
        "X_test.shape"
      ]
    },
    {
      "cell_type": "code",
      "execution_count": null,
      "metadata": {
        "id": "LdwMT6cSfqah"
      },
      "outputs": [],
      "source": [
        "x_test = np.reshape(X_test,newshape=(X_test.shape[0],167,4,3))"
      ]
    },
    {
      "cell_type": "markdown",
      "metadata": {
        "id": "ruqb5GHNH-Ok"
      },
      "source": [
        "bulding a model"
      ]
    },
    {
      "cell_type": "code",
      "execution_count": 343,
      "metadata": {
        "colab": {
          "base_uri": "https://localhost:8080/"
        },
        "id": "Nr_g984lKzZ0",
        "outputId": "1c5b1138-5a8b-4e16-c0c0-6004990ee858"
      },
      "outputs": [
        {
          "name": "stdout",
          "output_type": "stream",
          "text": [
            "Model: \"sequential_9\"\n",
            "_________________________________________________________________\n",
            " Layer (type)                Output Shape              Param #   \n",
            "=================================================================\n",
            " conv2d_9 (Conv2D)           (None, 167, 4, 120)       480       \n",
            "                                                                 \n",
            " max_pooling2d_9 (MaxPooling  (None, 83, 2, 120)       0         \n",
            " 2D)                                                             \n",
            "                                                                 \n",
            " flatten_9 (Flatten)         (None, 19920)             0         \n",
            "                                                                 \n",
            " dense_18 (Dense)            (None, 128)               2549888   \n",
            "                                                                 \n",
            " dense_19 (Dense)            (None, 5)                 645       \n",
            "                                                                 \n",
            "=================================================================\n",
            "Total params: 2,551,013\n",
            "Trainable params: 2,551,013\n",
            "Non-trainable params: 0\n",
            "_________________________________________________________________\n"
          ]
        }
      ],
      "source": [
        "cnn = tf.keras.models.Sequential()\n",
        "\n",
        "cnn.add(tf.keras.layers.Conv2D(filters=120, kernel_size=1, activation='relu',input_shape=[167,4,3]))\n",
        "cnn.add(tf.keras.layers.MaxPool2D(pool_size=2, strides=2))\n",
        "cnn.add(tf.keras.layers.Flatten())\n",
        "cnn.add(tf.keras.layers.Dense(units=128, activation='relu'))\n",
        "cnn.add(tf.keras.layers.Dense(units=5, activation='softmax'))\n",
        "\n",
        "cnn.summary()"
      ]
    },
    {
      "cell_type": "markdown",
      "metadata": {
        "id": "amRGAy3fIA3k"
      },
      "source": [
        "callbacks"
      ]
    },
    {
      "cell_type": "code",
      "execution_count": 300,
      "metadata": {
        "id": "z0eGW1IIaTkZ"
      },
      "outputs": [],
      "source": [
        "filepath=\"/saved_models/model_1.hdf5\"\n",
        "# checkpoint - saves the model weight when the accuracy improves during the training process\n",
        "checkpoint = ModelCheckpoint(filepath, monitor='accuracy', verbose=1, save_best_only=True, mode='max')\n",
        "# early_stop - if the accuracy does not improves for 5 epochs the training will stop to avoid overfitting\n",
        "early_stop = EarlyStopping(monitor='accuracy', patience=5, verbose=1)\n",
        "callbacks_list = [checkpoint, early_stop]"
      ]
    },
    {
      "cell_type": "code",
      "execution_count": 301,
      "metadata": {
        "id": "4MxQ7Y6WKzX1"
      },
      "outputs": [],
      "source": [
        "cnn.compile(optimizer='adam', loss = 'categorical_crossentropy', metrics=['accuracy'])"
      ]
    },
    {
      "cell_type": "markdown",
      "metadata": {
        "id": "XD--hfocIDT6"
      },
      "source": [
        "model training"
      ]
    },
    {
      "cell_type": "code",
      "execution_count": 302,
      "metadata": {
        "colab": {
          "base_uri": "https://localhost:8080/"
        },
        "id": "_ZT8AfTKKzWF",
        "outputId": "fb5715c5-0afb-4927-d7a3-f131969509c3"
      },
      "outputs": [
        {
          "name": "stdout",
          "output_type": "stream",
          "text": [
            "Epoch 1/20\n",
            "3/4 [=====================>........] - ETA: 0s - loss: 0.8626 - accuracy: 0.5208\n",
            "Epoch 1: accuracy improved from -inf to 0.57798, saving model to /saved_models\\model_1.hdf5\n",
            "4/4 [==============================] - 1s 46ms/step - loss: 0.7599 - accuracy: 0.5780\n",
            "Epoch 2/20\n",
            "3/4 [=====================>........] - ETA: 0s - loss: 0.0071 - accuracy: 1.0000\n",
            "Epoch 2: accuracy improved from 0.57798 to 1.00000, saving model to /saved_models\\model_1.hdf5\n",
            "4/4 [==============================] - 0s 49ms/step - loss: 0.0062 - accuracy: 1.0000\n",
            "Epoch 3/20\n",
            "3/4 [=====================>........] - ETA: 0s - loss: 2.9516e-06 - accuracy: 1.0000\n",
            "Epoch 3: accuracy did not improve from 1.00000\n",
            "4/4 [==============================] - 0s 41ms/step - loss: 2.6783e-06 - accuracy: 1.0000\n",
            "Epoch 4/20\n",
            "3/4 [=====================>........] - ETA: 0s - loss: 4.0978e-08 - accuracy: 1.0000\n",
            "Epoch 4: accuracy did not improve from 1.00000\n",
            "4/4 [==============================] - 0s 39ms/step - loss: 4.0466e-08 - accuracy: 1.0000\n",
            "Epoch 5/20\n",
            "3/4 [=====================>........] - ETA: 0s - loss: 4.9671e-09 - accuracy: 1.0000\n",
            "Epoch 5: accuracy did not improve from 1.00000\n",
            "4/4 [==============================] - 0s 36ms/step - loss: 5.4683e-09 - accuracy: 1.0000\n",
            "Epoch 6/20\n",
            "3/4 [=====================>........] - ETA: 0s - loss: 1.2418e-09 - accuracy: 1.0000\n",
            "Epoch 6: accuracy did not improve from 1.00000\n",
            "4/4 [==============================] - 0s 40ms/step - loss: 1.0937e-09 - accuracy: 1.0000\n",
            "Epoch 7/20\n",
            "3/4 [=====================>........] - ETA: 0s - loss: 0.0000e+00 - accuracy: 1.0000\n",
            "Epoch 7: accuracy did not improve from 1.00000\n",
            "4/4 [==============================] - 0s 37ms/step - loss: 0.0000e+00 - accuracy: 1.0000\n",
            "Epoch 7: early stopping\n"
          ]
        }
      ],
      "source": [
        "history = cnn.fit(x = x_train, y = new_y_train, epochs= 20,callbacks=callbacks_list)"
      ]
    },
    {
      "cell_type": "code",
      "execution_count": 303,
      "metadata": {
        "colab": {
          "base_uri": "https://localhost:8080/",
          "height": 295
        },
        "id": "6b0inuSzKzMj",
        "outputId": "98e605f4-0bf5-48c8-b6ca-dceb2814c126"
      },
      "outputs": [
        {
          "data": {
            "image/png": "[encoded data removed]",
            "text/plain": [
              "<Figure size 640x480 with 1 Axes>"
            ]
          },
          "metadata": {},
          "output_type": "display_data"
        }
      ],
      "source": [
        "plt.plot(history.history['loss'])\n",
        "plt.title('model loss')\n",
        "plt.ylabel('loss')\n",
        "plt.xlabel('epoch')\n",
        "plt.legend(['train', 'val'], loc='upper left')\n",
        "plt.show()"
      ]
    },
    {
      "cell_type": "code",
      "execution_count": 304,
      "metadata": {
        "colab": {
          "base_uri": "https://localhost:8080/",
          "height": 295
        },
        "id": "OPPl6zi0KzKt",
        "outputId": "893f35f3-88d6-4696-8f85-ad87c9399615"
      },
      "outputs": [
        {
          "data": {
            "image/png": "[encoded data removed]",
            "text/plain": [
              "<Figure size 640x480 with 1 Axes>"
            ]
          },
          "metadata": {},
          "output_type": "display_data"
        }
      ],
      "source": [
        "plt.plot(history.history['accuracy'])\n",
        "plt.title('model accuracy')\n",
        "plt.ylabel('accuracy')\n",
        "plt.xlabel('epoch')\n",
        "plt.legend(['train', 'val'], loc='upper left')\n",
        "plt.show()"
      ]
    },
    {
      "cell_type": "code",
      "execution_count": null,
      "metadata": {},
      "outputs": [
        {
          "name": "stderr",
          "output_type": "stream",
          "text": [
            "WARNING:absl:Found untraced functions such as _jit_compiled_convolution_op, _update_step_xla while saving (showing 2 of 2). These functions will not be directly callable after loading.\n"
          ]
        },
        {
          "name": "stdout",
          "output_type": "stream",
          "text": [
            "INFO:tensorflow:Assets written to: D:\\Empower View\\DS_EmpowerView\\holistic_folder\\saved_models\\classy_model_1\\assets\n"
          ]
        },
        {
          "name": "stderr",
          "output_type": "stream",
          "text": [
            "INFO:tensorflow:Assets written to: D:\\Empower View\\DS_EmpowerView\\holistic_folder\\saved_models\\classy_model_1\\assets\n"
          ]
        }
      ],
      "source": [
        "tf.keras.models.save_model(cnn,'D:\\Empower View\\DS_EmpowerView\\holistic_folder\\saved_models\\classy_model_1')"
      ]
    },
    {
      "cell_type": "code",
      "execution_count": 305,
      "metadata": {},
      "outputs": [
        {
          "name": "stdout",
          "output_type": "stream",
          "text": [
            "<keras.engine.sequential.Sequential object at 0x0000022A279DA050>\n"
          ]
        }
      ],
      "source": [
        "cnn.save(\"D:\\Empower View\\DS_EmpowerView\\holistic_folder\\saved_models\\classy_model_1.h5\")\n",
        "model = tf.keras.models.load_model(\"D:\\Empower View\\DS_EmpowerView\\holistic_folder\\saved_models\\classy_model_1.h5\")\n",
        "print(model)"
      ]
    },
    {
      "cell_type": "code",
      "execution_count": 306,
      "metadata": {},
      "outputs": [
        {
          "name": "stdout",
          "output_type": "stream",
          "text": [
            "0.06300278\n"
          ]
        }
      ],
      "source": [
        "weights = model.get_weights()\n",
        "print(weights[:1][0][0][0][0][0])"
      ]
    },
    {
      "cell_type": "markdown",
      "metadata": {
        "id": "DzJyNdZpIIYP"
      },
      "source": [
        "loading best trained weights"
      ]
    },
    {
      "cell_type": "code",
      "execution_count": 58,
      "metadata": {},
      "outputs": [
        {
          "name": "stdout",
          "output_type": "stream",
          "text": [
            "d:\\Empower View\\DS_EmpowerView\n"
          ]
        }
      ],
      "source": [
        "import os\n",
        "current_dir = current_dir = os.path.dirname(os.path.abspath(''))\n",
        "print(current_dir)\n",
        "# print(os.listdir(current_dir+'/holistic_folder/saved_models/classy_model_1'))\n",
        "path = current_dir+'/holistic_folder/saved_models/classy_model_1'"
      ]
    },
    {
      "cell_type": "code",
      "execution_count": 63,
      "metadata": {},
      "outputs": [],
      "source": [
        "cnn = tf.keras.models.load_model(path)"
      ]
    },
    {
      "cell_type": "code",
      "execution_count": 38,
      "metadata": {
        "id": "u0qcIiP9f_Sm"
      },
      "outputs": [],
      "source": [
        "cnn.load_weights('/saved_models/model_1.hdf5')"
      ]
    },
    {
      "cell_type": "code",
      "execution_count": 64,
      "metadata": {
        "colab": {
          "base_uri": "https://localhost:8080/"
        },
        "id": "GE-zndUIh9dy",
        "outputId": "7b3d17fc-a68d-43a6-be79-02a2f1d6ff81"
      },
      "outputs": [
        {
          "data": {
            "text/plain": [
              "(489, 5)"
            ]
          },
          "execution_count": 64,
          "metadata": {},
          "output_type": "execute_result"
        }
      ],
      "source": [
        "new_y_test.shape"
      ]
    },
    {
      "cell_type": "code",
      "execution_count": 307,
      "metadata": {
        "colab": {
          "base_uri": "https://localhost:8080/"
        },
        "id": "mvJNtSAzgLb7",
        "outputId": "f1ce408f-62b3-4324-8b0b-7f9f0ab943d5"
      },
      "outputs": [
        {
          "name": "stdout",
          "output_type": "stream",
          "text": [
            "2/2 [==============================] - 0s 5ms/step - loss: 0.0000e+00 - accuracy: 1.0000\n"
          ]
        },
        {
          "data": {
            "text/plain": [
              "[0.0, 1.0]"
            ]
          },
          "execution_count": 307,
          "metadata": {},
          "output_type": "execute_result"
        }
      ],
      "source": [
        "model.evaluate(x=x_test,y=new_y_test)"
      ]
    },
    {
      "cell_type": "code",
      "execution_count": 324,
      "metadata": {
        "colab": {
          "base_uri": "https://localhost:8080/"
        },
        "id": "O0jO8AvSigFs",
        "outputId": "97b62184-be89-45a4-bee7-de903b8bb5ae"
      },
      "outputs": [
        {
          "data": {
            "text/plain": [
              "(1, 167, 4, 3)"
            ]
          },
          "execution_count": 324,
          "metadata": {},
          "output_type": "execute_result"
        }
      ],
      "source": [
        "singel_pred=X_test[2]\n",
        "singel_pred = np.reshape(singel_pred,newshape=(1,167,4,3))\n",
        "singel_pred.shape"
      ]
    },
    {
      "cell_type": "code",
      "execution_count": 325,
      "metadata": {},
      "outputs": [
        {
          "data": {
            "text/plain": [
              "array([ 0.15599529,  0.92100708, -0.32539787, ...,  1.06036088,\n",
              "       -0.4675825 ,  0.        ])"
            ]
          },
          "execution_count": 325,
          "metadata": {},
          "output_type": "execute_result"
        }
      ],
      "source": [
        "X_test[1]"
      ]
    },
    {
      "cell_type": "code",
      "execution_count": 326,
      "metadata": {
        "colab": {
          "base_uri": "https://localhost:8080/"
        },
        "id": "OvBOy9RKhvLe",
        "outputId": "ba3fd3fc-7b8e-4ff4-87ad-38a3b4415fe4"
      },
      "outputs": [
        {
          "data": {
            "text/plain": [
              "array([0, 0, 0, 0, 1])"
            ]
          },
          "execution_count": 326,
          "metadata": {},
          "output_type": "execute_result"
        }
      ],
      "source": [
        "new_y_test[1]"
      ]
    },
    {
      "cell_type": "code",
      "execution_count": 327,
      "metadata": {
        "colab": {
          "base_uri": "https://localhost:8080/"
        },
        "id": "8SbTQgUsg8A2",
        "outputId": "b447beb4-0bef-4133-c38f-e771595b1984"
      },
      "outputs": [
        {
          "data": {
            "text/plain": [
              "48"
            ]
          },
          "execution_count": 327,
          "metadata": {},
          "output_type": "execute_result"
        }
      ],
      "source": [
        "len(X_test)"
      ]
    },
    {
      "cell_type": "code",
      "execution_count": 328,
      "metadata": {
        "colab": {
          "base_uri": "https://localhost:8080/"
        },
        "id": "dDoRmUKpilfV",
        "outputId": "b59cb68e-efa4-4d78-ce6c-055fb9da920b"
      },
      "outputs": [
        {
          "name": "stdout",
          "output_type": "stream",
          "text": [
            "1/1 [==============================] - 0s 19ms/step\n"
          ]
        }
      ],
      "source": [
        "result = model.predict(singel_pred)"
      ]
    },
    {
      "cell_type": "code",
      "execution_count": 329,
      "metadata": {
        "colab": {
          "base_uri": "https://localhost:8080/"
        },
        "id": "O11ony1mjy34",
        "outputId": "5659db7e-57de-4c12-c6b3-0b5038937e36"
      },
      "outputs": [
        {
          "data": {
            "text/plain": [
              "(1, 5)"
            ]
          },
          "execution_count": 329,
          "metadata": {},
          "output_type": "execute_result"
        }
      ],
      "source": [
        "result.shape"
      ]
    },
    {
      "cell_type": "code",
      "execution_count": 330,
      "metadata": {
        "colab": {
          "base_uri": "https://localhost:8080/"
        },
        "id": "IjWZxvVYiwhZ",
        "outputId": "4fc03a7b-b0c5-4613-9dca-3ae0be68a5f5"
      },
      "outputs": [
        {
          "name": "stdout",
          "output_type": "stream",
          "text": [
            "class open  1.0\n"
          ]
        }
      ],
      "source": [
        "j=0\n",
        "p=2\n",
        "a=0\n",
        "for i in result[0]:\n",
        "  if(p!=2):\n",
        "    if(i>p):\n",
        "      p=i\n",
        "      a=j\n",
        "  else:\n",
        "    p=i\n",
        "  j=j+1\n",
        "\n",
        "if a==0:\n",
        "  print('class happy ',p)\n",
        "if a==1:\n",
        "  print('class sad ',p)\n",
        "if a==2:\n",
        "  print('class insecure ',p)\n",
        "if a==3:\n",
        "  print('class closed ',p)\n",
        "if a==4:\n",
        "  print('class open ',p)"
      ]
    },
    {
      "cell_type": "code",
      "execution_count": 331,
      "metadata": {
        "colab": {
          "base_uri": "https://localhost:8080/"
        },
        "id": "3myAdpzYj-Kr",
        "outputId": "f1c04d08-1655-411e-e993-8e0b4a827a70"
      },
      "outputs": [
        {
          "name": "stdout",
          "output_type": "stream",
          "text": [
            "1 2.1456427e-15\n",
            "2 3.9301938e-26\n",
            "3 1.179797e-26\n",
            "4 7.7539786e-38\n",
            "5 1.0\n"
          ]
        }
      ],
      "source": [
        "print('1',result[0][0])\n",
        "print('2',result[0][1])\n",
        "print('3',result[0][2])\n",
        "print('4',result[0][3])\n",
        "print('5',result[0][4])"
      ]
    },
    {
      "cell_type": "code",
      "execution_count": 77,
      "metadata": {
        "id": "m0Cbj0LfQu5M"
      },
      "outputs": [],
      "source": [
        "l=[]"
      ]
    },
    {
      "cell_type": "code",
      "execution_count": 78,
      "metadata": {
        "id": "opRXY44wMxXt"
      },
      "outputs": [],
      "source": [
        "l.append([0.9,0.2,0.4,0.1,0.04])"
      ]
    },
    {
      "cell_type": "code",
      "execution_count": 79,
      "metadata": {
        "id": "xQxeexS0OOGV"
      },
      "outputs": [],
      "source": [
        "x = ['asdfsdfsdf']"
      ]
    },
    {
      "cell_type": "code",
      "execution_count": 80,
      "metadata": {
        "colab": {
          "base_uri": "https://localhost:8080/"
        },
        "id": "UEQEddcARHQO",
        "outputId": "0c89b62f-86e5-4fbf-b0fd-d87e3e66092b"
      },
      "outputs": [
        {
          "data": {
            "text/plain": [
              "1"
            ]
          },
          "execution_count": 80,
          "metadata": {},
          "output_type": "execute_result"
        }
      ],
      "source": [
        "len(x)"
      ]
    },
    {
      "cell_type": "code",
      "execution_count": 81,
      "metadata": {
        "id": "zRe6D3bfYtZw"
      },
      "outputs": [],
      "source": [
        "columns_names = ['heppy','sad','insecure','closed','open']\n",
        "to_save = pd.DataFrame(columns=columns_names)"
      ]
    },
    {
      "cell_type": "code",
      "execution_count": 82,
      "metadata": {
        "colab": {
          "base_uri": "https://localhost:8080/"
        },
        "id": "fppW41bbgnXA",
        "outputId": "9a9efd0b-aad9-4315-aa55-e6008c270c78"
      },
      "outputs": [
        {
          "data": {
            "text/plain": [
              "array([9.7924401e-04, 3.3386168e-06, 9.9901330e-01, 4.0928844e-06,\n",
              "       1.6908462e-08], dtype=float32)"
            ]
          },
          "execution_count": 82,
          "metadata": {},
          "output_type": "execute_result"
        }
      ],
      "source": [
        "result[0]"
      ]
    },
    {
      "cell_type": "code",
      "execution_count": 83,
      "metadata": {
        "colab": {
          "base_uri": "https://localhost:8080/"
        },
        "id": "sipCa0QeJhTQ",
        "outputId": "d569137b-a52c-4cab-bf84-5662d81e4c3a"
      },
      "outputs": [
        {
          "name": "stdout",
          "output_type": "stream",
          "text": [
            "1/1 [==============================] - 0s 22ms/step\n",
            "1/1 [==============================] - 0s 23ms/step\n",
            "1/1 [==============================] - 0s 25ms/step\n",
            "1/1 [==============================] - 0s 25ms/step\n",
            "1/1 [==============================] - 0s 23ms/step\n",
            "1/1 [==============================] - 0s 21ms/step\n",
            "1/1 [==============================] - 0s 20ms/step\n",
            "1/1 [==============================] - 0s 20ms/step\n",
            "1/1 [==============================] - 0s 20ms/step\n",
            "1/1 [==============================] - 0s 23ms/step\n",
            "1/1 [==============================] - 0s 21ms/step\n",
            "1/1 [==============================] - 0s 22ms/step\n",
            "1/1 [==============================] - 0s 21ms/step\n",
            "1/1 [==============================] - 0s 20ms/step\n",
            "1/1 [==============================] - 0s 20ms/step\n",
            "1/1 [==============================] - 0s 21ms/step\n",
            "1/1 [==============================] - 0s 26ms/step\n",
            "1/1 [==============================] - 0s 22ms/step\n",
            "1/1 [==============================] - 0s 21ms/step\n",
            "1/1 [==============================] - 0s 20ms/step\n",
            "1/1 [==============================] - 0s 17ms/step\n",
            "1/1 [==============================] - 0s 21ms/step\n",
            "1/1 [==============================] - 0s 20ms/step\n",
            "1/1 [==============================] - 0s 20ms/step\n",
            "1/1 [==============================] - 0s 19ms/step\n",
            "1/1 [==============================] - 0s 19ms/step\n",
            "1/1 [==============================] - 0s 20ms/step\n",
            "1/1 [==============================] - 0s 20ms/step\n",
            "1/1 [==============================] - 0s 20ms/step\n",
            "1/1 [==============================] - 0s 21ms/step\n",
            "1/1 [==============================] - 0s 20ms/step\n",
            "1/1 [==============================] - 0s 20ms/step\n",
            "1/1 [==============================] - 0s 22ms/step\n",
            "1/1 [==============================] - 0s 18ms/step\n",
            "1/1 [==============================] - 0s 19ms/step\n",
            "1/1 [==============================] - 0s 19ms/step\n",
            "1/1 [==============================] - 0s 17ms/step\n",
            "1/1 [==============================] - 0s 19ms/step\n",
            "1/1 [==============================] - 0s 22ms/step\n",
            "1/1 [==============================] - 0s 20ms/step\n",
            "1/1 [==============================] - 0s 19ms/step\n",
            "1/1 [==============================] - 0s 20ms/step\n",
            "1/1 [==============================] - 0s 19ms/step\n",
            "1/1 [==============================] - 0s 19ms/step\n",
            "1/1 [==============================] - 0s 20ms/step\n",
            "1/1 [==============================] - 0s 21ms/step\n",
            "1/1 [==============================] - 0s 18ms/step\n",
            "1/1 [==============================] - 0s 17ms/step\n",
            "1/1 [==============================] - 0s 18ms/step\n",
            "1/1 [==============================] - 0s 17ms/step\n",
            "1/1 [==============================] - 0s 19ms/step\n",
            "1/1 [==============================] - 0s 19ms/step\n",
            "1/1 [==============================] - 0s 18ms/step\n",
            "1/1 [==============================] - 0s 18ms/step\n",
            "1/1 [==============================] - 0s 19ms/step\n",
            "1/1 [==============================] - 0s 18ms/step\n",
            "1/1 [==============================] - 0s 18ms/step\n",
            "1/1 [==============================] - 0s 18ms/step\n",
            "1/1 [==============================] - 0s 20ms/step\n",
            "1/1 [==============================] - 0s 19ms/step\n",
            "1/1 [==============================] - 0s 18ms/step\n",
            "1/1 [==============================] - 0s 17ms/step\n",
            "1/1 [==============================] - 0s 18ms/step\n",
            "1/1 [==============================] - 0s 19ms/step\n",
            "1/1 [==============================] - 0s 18ms/step\n",
            "1/1 [==============================] - 0s 17ms/step\n",
            "1/1 [==============================] - 0s 17ms/step\n",
            "1/1 [==============================] - 0s 17ms/step\n",
            "1/1 [==============================] - 0s 17ms/step\n",
            "1/1 [==============================] - 0s 17ms/step\n",
            "1/1 [==============================] - 0s 18ms/step\n",
            "1/1 [==============================] - 0s 17ms/step\n",
            "1/1 [==============================] - 0s 17ms/step\n",
            "1/1 [==============================] - 0s 18ms/step\n",
            "1/1 [==============================] - 0s 18ms/step\n",
            "1/1 [==============================] - 0s 18ms/step\n",
            "1/1 [==============================] - 0s 18ms/step\n",
            "1/1 [==============================] - 0s 18ms/step\n",
            "1/1 [==============================] - 0s 18ms/step\n",
            "1/1 [==============================] - 0s 19ms/step\n",
            "1/1 [==============================] - 0s 18ms/step\n",
            "1/1 [==============================] - 0s 19ms/step\n",
            "1/1 [==============================] - 0s 17ms/step\n",
            "1/1 [==============================] - 0s 17ms/step\n",
            "1/1 [==============================] - 0s 18ms/step\n",
            "1/1 [==============================] - 0s 17ms/step\n",
            "1/1 [==============================] - 0s 18ms/step\n",
            "1/1 [==============================] - 0s 18ms/step\n",
            "1/1 [==============================] - 0s 18ms/step\n",
            "1/1 [==============================] - 0s 17ms/step\n",
            "1/1 [==============================] - 0s 19ms/step\n",
            "1/1 [==============================] - 0s 20ms/step\n",
            "1/1 [==============================] - 0s 18ms/step\n",
            "1/1 [==============================] - 0s 19ms/step\n",
            "1/1 [==============================] - 0s 18ms/step\n",
            "1/1 [==============================] - 0s 18ms/step\n",
            "1/1 [==============================] - 0s 17ms/step\n",
            "1/1 [==============================] - 0s 17ms/step\n",
            "1/1 [==============================] - 0s 18ms/step\n",
            "1/1 [==============================] - 0s 18ms/step\n",
            "1/1 [==============================] - 0s 22ms/step\n",
            "1/1 [==============================] - 0s 18ms/step\n",
            "1/1 [==============================] - 0s 17ms/step\n",
            "1/1 [==============================] - 0s 19ms/step\n",
            "1/1 [==============================] - 0s 19ms/step\n",
            "1/1 [==============================] - 0s 19ms/step\n",
            "1/1 [==============================] - 0s 18ms/step\n",
            "1/1 [==============================] - 0s 17ms/step\n",
            "1/1 [==============================] - 0s 18ms/step\n",
            "1/1 [==============================] - 0s 19ms/step\n",
            "1/1 [==============================] - 0s 18ms/step\n",
            "1/1 [==============================] - 0s 18ms/step\n",
            "1/1 [==============================] - 0s 18ms/step\n",
            "1/1 [==============================] - 0s 19ms/step\n",
            "1/1 [==============================] - 0s 18ms/step\n",
            "1/1 [==============================] - 0s 18ms/step\n",
            "1/1 [==============================] - 0s 19ms/step\n",
            "1/1 [==============================] - 0s 17ms/step\n",
            "1/1 [==============================] - 0s 18ms/step\n",
            "1/1 [==============================] - 0s 18ms/step\n",
            "1/1 [==============================] - 0s 19ms/step\n",
            "1/1 [==============================] - 0s 17ms/step\n",
            "1/1 [==============================] - 0s 18ms/step\n",
            "1/1 [==============================] - 0s 18ms/step\n",
            "1/1 [==============================] - 0s 18ms/step\n",
            "1/1 [==============================] - 0s 17ms/step\n",
            "1/1 [==============================] - 0s 18ms/step\n",
            "1/1 [==============================] - 0s 18ms/step\n",
            "1/1 [==============================] - 0s 18ms/step\n",
            "1/1 [==============================] - 0s 18ms/step\n",
            "1/1 [==============================] - 0s 18ms/step\n",
            "1/1 [==============================] - 0s 19ms/step\n",
            "1/1 [==============================] - 0s 17ms/step\n",
            "1/1 [==============================] - 0s 17ms/step\n",
            "1/1 [==============================] - 0s 19ms/step\n",
            "1/1 [==============================] - 0s 19ms/step\n",
            "1/1 [==============================] - 0s 19ms/step\n",
            "1/1 [==============================] - 0s 18ms/step\n",
            "1/1 [==============================] - 0s 18ms/step\n",
            "1/1 [==============================] - 0s 18ms/step\n",
            "1/1 [==============================] - 0s 18ms/step\n",
            "1/1 [==============================] - 0s 17ms/step\n",
            "1/1 [==============================] - 0s 17ms/step\n",
            "1/1 [==============================] - 0s 17ms/step\n",
            "1/1 [==============================] - 0s 19ms/step\n",
            "1/1 [==============================] - 0s 18ms/step\n",
            "1/1 [==============================] - 0s 17ms/step\n",
            "1/1 [==============================] - 0s 18ms/step\n",
            "1/1 [==============================] - 0s 18ms/step\n",
            "1/1 [==============================] - 0s 18ms/step\n",
            "1/1 [==============================] - 0s 17ms/step\n",
            "1/1 [==============================] - 0s 19ms/step\n",
            "1/1 [==============================] - 0s 17ms/step\n",
            "1/1 [==============================] - 0s 18ms/step\n",
            "1/1 [==============================] - 0s 20ms/step\n",
            "1/1 [==============================] - 0s 19ms/step\n",
            "1/1 [==============================] - 0s 17ms/step\n",
            "1/1 [==============================] - 0s 18ms/step\n",
            "1/1 [==============================] - 0s 18ms/step\n",
            "1/1 [==============================] - 0s 18ms/step\n",
            "1/1 [==============================] - 0s 17ms/step\n",
            "1/1 [==============================] - 0s 17ms/step\n",
            "1/1 [==============================] - 0s 18ms/step\n",
            "1/1 [==============================] - 0s 18ms/step\n",
            "1/1 [==============================] - 0s 19ms/step\n",
            "1/1 [==============================] - 0s 18ms/step\n",
            "1/1 [==============================] - 0s 18ms/step\n",
            "1/1 [==============================] - 0s 18ms/step\n",
            "1/1 [==============================] - 0s 18ms/step\n",
            "1/1 [==============================] - 0s 18ms/step\n",
            "1/1 [==============================] - 0s 18ms/step\n",
            "1/1 [==============================] - 0s 18ms/step\n",
            "1/1 [==============================] - 0s 18ms/step\n",
            "1/1 [==============================] - 0s 17ms/step\n",
            "1/1 [==============================] - 0s 18ms/step\n",
            "1/1 [==============================] - 0s 18ms/step\n",
            "1/1 [==============================] - 0s 19ms/step\n",
            "1/1 [==============================] - 0s 16ms/step\n",
            "1/1 [==============================] - 0s 17ms/step\n",
            "1/1 [==============================] - 0s 18ms/step\n",
            "1/1 [==============================] - 0s 18ms/step\n",
            "1/1 [==============================] - 0s 18ms/step\n",
            "1/1 [==============================] - 0s 17ms/step\n",
            "1/1 [==============================] - 0s 17ms/step\n",
            "1/1 [==============================] - 0s 18ms/step\n",
            "1/1 [==============================] - 0s 18ms/step\n",
            "1/1 [==============================] - 0s 17ms/step\n",
            "1/1 [==============================] - 0s 19ms/step\n",
            "1/1 [==============================] - 0s 17ms/step\n",
            "1/1 [==============================] - 0s 18ms/step\n",
            "1/1 [==============================] - 0s 18ms/step\n",
            "1/1 [==============================] - 0s 25ms/step\n",
            "1/1 [==============================] - 0s 17ms/step\n",
            "1/1 [==============================] - 0s 18ms/step\n",
            "1/1 [==============================] - 0s 18ms/step\n",
            "1/1 [==============================] - 0s 18ms/step\n",
            "1/1 [==============================] - 0s 17ms/step\n",
            "1/1 [==============================] - 0s 18ms/step\n",
            "1/1 [==============================] - 0s 18ms/step\n",
            "1/1 [==============================] - 0s 18ms/step\n",
            "1/1 [==============================] - 0s 18ms/step\n",
            "1/1 [==============================] - 0s 17ms/step\n",
            "1/1 [==============================] - 0s 20ms/step\n",
            "1/1 [==============================] - 0s 18ms/step\n",
            "1/1 [==============================] - 0s 18ms/step\n",
            "1/1 [==============================] - 0s 17ms/step\n",
            "1/1 [==============================] - 0s 18ms/step\n",
            "1/1 [==============================] - 0s 19ms/step\n",
            "1/1 [==============================] - 0s 18ms/step\n",
            "1/1 [==============================] - 0s 17ms/step\n",
            "1/1 [==============================] - 0s 18ms/step\n",
            "1/1 [==============================] - 0s 17ms/step\n",
            "1/1 [==============================] - 0s 22ms/step\n",
            "1/1 [==============================] - 0s 18ms/step\n",
            "1/1 [==============================] - 0s 17ms/step\n",
            "1/1 [==============================] - 0s 17ms/step\n",
            "1/1 [==============================] - 0s 18ms/step\n",
            "1/1 [==============================] - 0s 17ms/step\n",
            "1/1 [==============================] - 0s 18ms/step\n",
            "1/1 [==============================] - 0s 18ms/step\n",
            "1/1 [==============================] - 0s 18ms/step\n",
            "1/1 [==============================] - 0s 18ms/step\n",
            "1/1 [==============================] - 0s 18ms/step\n",
            "1/1 [==============================] - 0s 18ms/step\n",
            "1/1 [==============================] - 0s 18ms/step\n",
            "1/1 [==============================] - 0s 17ms/step\n",
            "1/1 [==============================] - 0s 18ms/step\n",
            "1/1 [==============================] - 0s 17ms/step\n",
            "1/1 [==============================] - 0s 16ms/step\n",
            "1/1 [==============================] - 0s 18ms/step\n",
            "1/1 [==============================] - 0s 19ms/step\n",
            "1/1 [==============================] - 0s 17ms/step\n",
            "1/1 [==============================] - 0s 17ms/step\n",
            "1/1 [==============================] - 0s 17ms/step\n",
            "1/1 [==============================] - 0s 18ms/step\n",
            "1/1 [==============================] - 0s 18ms/step\n",
            "1/1 [==============================] - 0s 19ms/step\n",
            "1/1 [==============================] - 0s 17ms/step\n",
            "1/1 [==============================] - 0s 18ms/step\n",
            "1/1 [==============================] - 0s 17ms/step\n",
            "1/1 [==============================] - 0s 18ms/step\n",
            "1/1 [==============================] - 0s 17ms/step\n",
            "1/1 [==============================] - 0s 18ms/step\n",
            "1/1 [==============================] - 0s 18ms/step\n",
            "1/1 [==============================] - 0s 18ms/step\n",
            "1/1 [==============================] - 0s 17ms/step\n",
            "1/1 [==============================] - 0s 16ms/step\n",
            "1/1 [==============================] - 0s 18ms/step\n",
            "1/1 [==============================] - 0s 19ms/step\n",
            "1/1 [==============================] - 0s 17ms/step\n",
            "1/1 [==============================] - 0s 19ms/step\n",
            "1/1 [==============================] - 0s 17ms/step\n",
            "1/1 [==============================] - 0s 19ms/step\n",
            "1/1 [==============================] - 0s 18ms/step\n",
            "1/1 [==============================] - 0s 17ms/step\n",
            "1/1 [==============================] - 0s 17ms/step\n",
            "1/1 [==============================] - 0s 18ms/step\n",
            "1/1 [==============================] - 0s 17ms/step\n",
            "1/1 [==============================] - 0s 17ms/step\n",
            "1/1 [==============================] - 0s 17ms/step\n",
            "1/1 [==============================] - 0s 22ms/step\n",
            "1/1 [==============================] - 0s 18ms/step\n",
            "1/1 [==============================] - 0s 17ms/step\n",
            "1/1 [==============================] - 0s 18ms/step\n",
            "1/1 [==============================] - 0s 18ms/step\n",
            "1/1 [==============================] - 0s 17ms/step\n",
            "1/1 [==============================] - 0s 17ms/step\n",
            "1/1 [==============================] - 0s 17ms/step\n",
            "1/1 [==============================] - 0s 18ms/step\n",
            "1/1 [==============================] - 0s 22ms/step\n",
            "1/1 [==============================] - 0s 18ms/step\n",
            "1/1 [==============================] - 0s 19ms/step\n",
            "1/1 [==============================] - 0s 18ms/step\n",
            "1/1 [==============================] - 0s 18ms/step\n",
            "1/1 [==============================] - 0s 19ms/step\n",
            "1/1 [==============================] - 0s 18ms/step\n",
            "1/1 [==============================] - 0s 17ms/step\n",
            "1/1 [==============================] - 0s 18ms/step\n",
            "1/1 [==============================] - 0s 17ms/step\n",
            "1/1 [==============================] - 0s 18ms/step\n",
            "1/1 [==============================] - 0s 20ms/step\n",
            "1/1 [==============================] - 0s 18ms/step\n",
            "1/1 [==============================] - 0s 17ms/step\n",
            "1/1 [==============================] - 0s 17ms/step\n",
            "1/1 [==============================] - 0s 17ms/step\n",
            "1/1 [==============================] - 0s 16ms/step\n",
            "1/1 [==============================] - 0s 17ms/step\n",
            "1/1 [==============================] - 0s 18ms/step\n",
            "1/1 [==============================] - 0s 17ms/step\n",
            "1/1 [==============================] - 0s 18ms/step\n",
            "1/1 [==============================] - 0s 18ms/step\n",
            "1/1 [==============================] - 0s 17ms/step\n",
            "1/1 [==============================] - 0s 18ms/step\n",
            "1/1 [==============================] - 0s 18ms/step\n",
            "1/1 [==============================] - 0s 18ms/step\n",
            "1/1 [==============================] - 0s 18ms/step\n",
            "1/1 [==============================] - 0s 18ms/step\n",
            "1/1 [==============================] - 0s 17ms/step\n",
            "1/1 [==============================] - 0s 17ms/step\n",
            "1/1 [==============================] - 0s 17ms/step\n",
            "1/1 [==============================] - 0s 18ms/step\n",
            "1/1 [==============================] - 0s 18ms/step\n",
            "1/1 [==============================] - 0s 18ms/step\n",
            "1/1 [==============================] - 0s 18ms/step\n",
            "1/1 [==============================] - 0s 17ms/step\n",
            "1/1 [==============================] - 0s 18ms/step\n",
            "1/1 [==============================] - 0s 18ms/step\n",
            "1/1 [==============================] - 0s 18ms/step\n",
            "1/1 [==============================] - 0s 18ms/step\n",
            "1/1 [==============================] - 0s 18ms/step\n",
            "1/1 [==============================] - 0s 18ms/step\n",
            "1/1 [==============================] - 0s 18ms/step\n",
            "1/1 [==============================] - 0s 18ms/step\n",
            "1/1 [==============================] - 0s 18ms/step\n",
            "1/1 [==============================] - 0s 18ms/step\n",
            "1/1 [==============================] - 0s 17ms/step\n",
            "1/1 [==============================] - 0s 19ms/step\n",
            "1/1 [==============================] - 0s 19ms/step\n",
            "1/1 [==============================] - 0s 17ms/step\n",
            "1/1 [==============================] - 0s 18ms/step\n",
            "1/1 [==============================] - 0s 23ms/step\n",
            "1/1 [==============================] - 0s 17ms/step\n",
            "1/1 [==============================] - 0s 18ms/step\n",
            "1/1 [==============================] - 0s 17ms/step\n",
            "1/1 [==============================] - 0s 17ms/step\n",
            "1/1 [==============================] - 0s 19ms/step\n",
            "1/1 [==============================] - 0s 17ms/step\n",
            "1/1 [==============================] - 0s 18ms/step\n",
            "1/1 [==============================] - 0s 17ms/step\n",
            "1/1 [==============================] - 0s 18ms/step\n",
            "1/1 [==============================] - 0s 17ms/step\n",
            "1/1 [==============================] - 0s 17ms/step\n",
            "1/1 [==============================] - 0s 18ms/step\n",
            "1/1 [==============================] - 0s 18ms/step\n",
            "1/1 [==============================] - 0s 18ms/step\n",
            "1/1 [==============================] - 0s 19ms/step\n",
            "1/1 [==============================] - 0s 17ms/step\n",
            "1/1 [==============================] - 0s 18ms/step\n",
            "1/1 [==============================] - 0s 17ms/step\n",
            "1/1 [==============================] - 0s 17ms/step\n",
            "1/1 [==============================] - 0s 19ms/step\n",
            "1/1 [==============================] - 0s 18ms/step\n",
            "1/1 [==============================] - 0s 18ms/step\n",
            "1/1 [==============================] - 0s 19ms/step\n",
            "1/1 [==============================] - 0s 19ms/step\n",
            "1/1 [==============================] - 0s 19ms/step\n",
            "1/1 [==============================] - 0s 18ms/step\n",
            "1/1 [==============================] - 0s 17ms/step\n",
            "1/1 [==============================] - 0s 17ms/step\n",
            "1/1 [==============================] - 0s 18ms/step\n",
            "1/1 [==============================] - 0s 17ms/step\n",
            "1/1 [==============================] - 0s 17ms/step\n",
            "1/1 [==============================] - 0s 19ms/step\n",
            "1/1 [==============================] - 0s 18ms/step\n",
            "1/1 [==============================] - 0s 18ms/step\n",
            "1/1 [==============================] - 0s 18ms/step\n",
            "1/1 [==============================] - 0s 19ms/step\n",
            "1/1 [==============================] - 0s 17ms/step\n",
            "1/1 [==============================] - 0s 18ms/step\n",
            "1/1 [==============================] - 0s 18ms/step\n",
            "1/1 [==============================] - 0s 18ms/step\n",
            "1/1 [==============================] - 0s 17ms/step\n",
            "1/1 [==============================] - 0s 24ms/step\n",
            "1/1 [==============================] - 0s 18ms/step\n",
            "1/1 [==============================] - 0s 19ms/step\n",
            "1/1 [==============================] - 0s 20ms/step\n",
            "1/1 [==============================] - 0s 20ms/step\n",
            "1/1 [==============================] - 0s 20ms/step\n",
            "1/1 [==============================] - 0s 18ms/step\n",
            "1/1 [==============================] - 0s 18ms/step\n",
            "1/1 [==============================] - 0s 19ms/step\n",
            "1/1 [==============================] - 0s 17ms/step\n",
            "1/1 [==============================] - 0s 19ms/step\n",
            "1/1 [==============================] - 0s 19ms/step\n",
            "1/1 [==============================] - 0s 24ms/step\n",
            "1/1 [==============================] - 0s 18ms/step\n",
            "1/1 [==============================] - 0s 20ms/step\n",
            "1/1 [==============================] - 0s 18ms/step\n",
            "1/1 [==============================] - 0s 18ms/step\n",
            "1/1 [==============================] - 0s 20ms/step\n",
            "1/1 [==============================] - 0s 19ms/step\n",
            "1/1 [==============================] - 0s 20ms/step\n",
            "1/1 [==============================] - 0s 18ms/step\n",
            "1/1 [==============================] - 0s 22ms/step\n",
            "1/1 [==============================] - 0s 21ms/step\n",
            "1/1 [==============================] - 0s 20ms/step\n",
            "1/1 [==============================] - 0s 20ms/step\n",
            "1/1 [==============================] - 0s 22ms/step\n",
            "1/1 [==============================] - 0s 20ms/step\n",
            "1/1 [==============================] - 0s 19ms/step\n",
            "1/1 [==============================] - 0s 21ms/step\n",
            "1/1 [==============================] - 0s 20ms/step\n",
            "1/1 [==============================] - 0s 18ms/step\n",
            "1/1 [==============================] - 0s 21ms/step\n",
            "1/1 [==============================] - 0s 23ms/step\n",
            "1/1 [==============================] - 0s 18ms/step\n",
            "1/1 [==============================] - 0s 20ms/step\n",
            "1/1 [==============================] - 0s 19ms/step\n",
            "1/1 [==============================] - 0s 19ms/step\n",
            "1/1 [==============================] - 0s 18ms/step\n",
            "1/1 [==============================] - 0s 20ms/step\n",
            "1/1 [==============================] - 0s 20ms/step\n",
            "1/1 [==============================] - 0s 19ms/step\n",
            "1/1 [==============================] - 0s 20ms/step\n",
            "1/1 [==============================] - 0s 19ms/step\n",
            "1/1 [==============================] - 0s 18ms/step\n",
            "1/1 [==============================] - 0s 18ms/step\n",
            "1/1 [==============================] - 0s 18ms/step\n",
            "1/1 [==============================] - 0s 19ms/step\n",
            "1/1 [==============================] - 0s 18ms/step\n",
            "1/1 [==============================] - 0s 19ms/step\n",
            "1/1 [==============================] - 0s 18ms/step\n",
            "1/1 [==============================] - 0s 18ms/step\n",
            "1/1 [==============================] - 0s 17ms/step\n",
            "1/1 [==============================] - 0s 20ms/step\n",
            "1/1 [==============================] - 0s 18ms/step\n",
            "1/1 [==============================] - 0s 19ms/step\n",
            "1/1 [==============================] - 0s 20ms/step\n",
            "1/1 [==============================] - 0s 20ms/step\n",
            "1/1 [==============================] - 0s 18ms/step\n",
            "1/1 [==============================] - 0s 23ms/step\n",
            "1/1 [==============================] - 0s 23ms/step\n",
            "1/1 [==============================] - 0s 21ms/step\n",
            "1/1 [==============================] - 0s 21ms/step\n",
            "1/1 [==============================] - 0s 19ms/step\n",
            "1/1 [==============================] - 0s 18ms/step\n",
            "1/1 [==============================] - 0s 20ms/step\n",
            "1/1 [==============================] - 0s 17ms/step\n",
            "1/1 [==============================] - 0s 18ms/step\n",
            "1/1 [==============================] - 0s 20ms/step\n",
            "1/1 [==============================] - 0s 18ms/step\n",
            "1/1 [==============================] - 0s 19ms/step\n",
            "1/1 [==============================] - 0s 19ms/step\n",
            "1/1 [==============================] - 0s 19ms/step\n",
            "1/1 [==============================] - 0s 19ms/step\n",
            "1/1 [==============================] - 0s 18ms/step\n",
            "1/1 [==============================] - 0s 19ms/step\n",
            "1/1 [==============================] - 0s 17ms/step\n",
            "1/1 [==============================] - 0s 18ms/step\n",
            "1/1 [==============================] - 0s 19ms/step\n",
            "1/1 [==============================] - 0s 18ms/step\n",
            "1/1 [==============================] - 0s 19ms/step\n",
            "1/1 [==============================] - 0s 18ms/step\n",
            "1/1 [==============================] - 0s 17ms/step\n",
            "1/1 [==============================] - 0s 18ms/step\n",
            "1/1 [==============================] - 0s 19ms/step\n",
            "1/1 [==============================] - 0s 20ms/step\n",
            "1/1 [==============================] - 0s 18ms/step\n",
            "1/1 [==============================] - 0s 19ms/step\n",
            "1/1 [==============================] - 0s 18ms/step\n",
            "1/1 [==============================] - 0s 19ms/step\n",
            "1/1 [==============================] - 0s 19ms/step\n",
            "1/1 [==============================] - 0s 18ms/step\n",
            "1/1 [==============================] - 0s 18ms/step\n",
            "1/1 [==============================] - 0s 19ms/step\n",
            "1/1 [==============================] - 0s 17ms/step\n",
            "1/1 [==============================] - 0s 18ms/step\n",
            "1/1 [==============================] - 0s 18ms/step\n",
            "1/1 [==============================] - 0s 18ms/step\n",
            "1/1 [==============================] - 0s 19ms/step\n",
            "1/1 [==============================] - 0s 18ms/step\n",
            "1/1 [==============================] - 0s 19ms/step\n",
            "1/1 [==============================] - 0s 18ms/step\n",
            "1/1 [==============================] - 0s 18ms/step\n",
            "1/1 [==============================] - 0s 18ms/step\n",
            "1/1 [==============================] - 0s 19ms/step\n",
            "1/1 [==============================] - 0s 22ms/step\n",
            "1/1 [==============================] - 0s 18ms/step\n",
            "1/1 [==============================] - 0s 19ms/step\n",
            "1/1 [==============================] - 0s 19ms/step\n",
            "1/1 [==============================] - 0s 18ms/step\n",
            "1/1 [==============================] - 0s 18ms/step\n",
            "1/1 [==============================] - 0s 23ms/step\n",
            "1/1 [==============================] - 0s 19ms/step\n",
            "1/1 [==============================] - 0s 19ms/step\n",
            "1/1 [==============================] - 0s 19ms/step\n",
            "1/1 [==============================] - 0s 18ms/step\n",
            "1/1 [==============================] - 0s 18ms/step\n",
            "1/1 [==============================] - 0s 19ms/step\n",
            "1/1 [==============================] - 0s 17ms/step\n"
          ]
        }
      ],
      "source": [
        "#df = pd.read_csv('/content/drive/MyDrive/classy/dataset/train_set.csv')\n",
        "#X = df.drop('class', axis=1)\n",
        "for i in range(480):\n",
        "  arr = np.array(X)\n",
        "  pred = arr[i]\n",
        "  pred = np.reshape(pred,newshape=(-1,1))\n",
        "  sc = StandardScaler()\n",
        "  input = sc.fit_transform(pred)\n",
        "  input = np.reshape(input,newshape=(1,167,4,3))\n",
        "  result = cnn.predict(input)\n",
        "  new_row = []\n",
        "  for j in result[0]:\n",
        "    new_row.append(j)\n",
        "  to_save.loc[len(to_save)] = new_row\n",
        "to_save.to_csv(path_or_buf='/content/drive/MyDrive/classy/pred2.csv',)"
      ]
    },
    {
      "cell_type": "code",
      "execution_count": 84,
      "metadata": {
        "colab": {
          "base_uri": "https://localhost:8080/",
          "height": 423
        },
        "id": "PIAlf8SUdvDE",
        "outputId": "e92b4a08-e8c0-4068-cc55-e871f1a8fc6f"
      },
      "outputs": [
        {
          "data": {
            "text/html": [
              "<div>\n",
              "<style scoped>\n",
              "    .dataframe tbody tr th:only-of-type {\n",
              "        vertical-align: middle;\n",
              "    }\n",
              "\n",
              "    .dataframe tbody tr th {\n",
              "        vertical-align: top;\n",
              "    }\n",
              "\n",
              "    .dataframe thead th {\n",
              "        text-align: right;\n",
              "    }\n",
              "</style>\n",
              "<table border=\"1\" class=\"dataframe\">\n",
              "  <thead>\n",
              "    <tr style=\"text-align: right;\">\n",
              "      <th></th>\n",
              "      <th>heppy</th>\n",
              "      <th>sad</th>\n",
              "      <th>insecure</th>\n",
              "      <th>closed</th>\n",
              "      <th>open</th>\n",
              "    </tr>\n",
              "  </thead>\n",
              "  <tbody>\n",
              "    <tr>\n",
              "      <th>0</th>\n",
              "      <td>0.016982</td>\n",
              "      <td>0.983005</td>\n",
              "      <td>1.096671e-05</td>\n",
              "      <td>2.014252e-06</td>\n",
              "      <td>1.067276e-08</td>\n",
              "    </tr>\n",
              "    <tr>\n",
              "      <th>1</th>\n",
              "      <td>0.266373</td>\n",
              "      <td>0.733615</td>\n",
              "      <td>4.283432e-06</td>\n",
              "      <td>7.509889e-06</td>\n",
              "      <td>1.601069e-07</td>\n",
              "    </tr>\n",
              "    <tr>\n",
              "      <th>2</th>\n",
              "      <td>0.513716</td>\n",
              "      <td>0.486273</td>\n",
              "      <td>2.694353e-06</td>\n",
              "      <td>8.882048e-06</td>\n",
              "      <td>3.353613e-07</td>\n",
              "    </tr>\n",
              "    <tr>\n",
              "      <th>3</th>\n",
              "      <td>0.668029</td>\n",
              "      <td>0.331959</td>\n",
              "      <td>1.899292e-06</td>\n",
              "      <td>1.005815e-05</td>\n",
              "      <td>4.304274e-07</td>\n",
              "    </tr>\n",
              "    <tr>\n",
              "      <th>4</th>\n",
              "      <td>0.712511</td>\n",
              "      <td>0.287478</td>\n",
              "      <td>1.436767e-06</td>\n",
              "      <td>9.007385e-06</td>\n",
              "      <td>4.724639e-07</td>\n",
              "    </tr>\n",
              "    <tr>\n",
              "      <th>...</th>\n",
              "      <td>...</td>\n",
              "      <td>...</td>\n",
              "      <td>...</td>\n",
              "      <td>...</td>\n",
              "      <td>...</td>\n",
              "    </tr>\n",
              "    <tr>\n",
              "      <th>475</th>\n",
              "      <td>0.006705</td>\n",
              "      <td>0.993294</td>\n",
              "      <td>5.891185e-07</td>\n",
              "      <td>3.925805e-07</td>\n",
              "      <td>1.775044e-09</td>\n",
              "    </tr>\n",
              "    <tr>\n",
              "      <th>476</th>\n",
              "      <td>0.006357</td>\n",
              "      <td>0.993642</td>\n",
              "      <td>7.703915e-07</td>\n",
              "      <td>4.465016e-07</td>\n",
              "      <td>1.613620e-09</td>\n",
              "    </tr>\n",
              "    <tr>\n",
              "      <th>477</th>\n",
              "      <td>0.004467</td>\n",
              "      <td>0.995531</td>\n",
              "      <td>8.447248e-07</td>\n",
              "      <td>4.169215e-07</td>\n",
              "      <td>1.078176e-09</td>\n",
              "    </tr>\n",
              "    <tr>\n",
              "      <th>478</th>\n",
              "      <td>0.005444</td>\n",
              "      <td>0.994555</td>\n",
              "      <td>1.042830e-06</td>\n",
              "      <td>4.964676e-07</td>\n",
              "      <td>1.419588e-09</td>\n",
              "    </tr>\n",
              "    <tr>\n",
              "      <th>479</th>\n",
              "      <td>0.005114</td>\n",
              "      <td>0.994884</td>\n",
              "      <td>1.114374e-06</td>\n",
              "      <td>4.614279e-07</td>\n",
              "      <td>1.396565e-09</td>\n",
              "    </tr>\n",
              "  </tbody>\n",
              "</table>\n",
              "<p>480 rows × 5 columns</p>\n",
              "</div>"
            ],
            "text/plain": [
              "        heppy       sad      insecure        closed          open\n",
              "0    0.016982  0.983005  1.096671e-05  2.014252e-06  1.067276e-08\n",
              "1    0.266373  0.733615  4.283432e-06  7.509889e-06  1.601069e-07\n",
              "2    0.513716  0.486273  2.694353e-06  8.882048e-06  3.353613e-07\n",
              "3    0.668029  0.331959  1.899292e-06  1.005815e-05  4.304274e-07\n",
              "4    0.712511  0.287478  1.436767e-06  9.007385e-06  4.724639e-07\n",
              "..        ...       ...           ...           ...           ...\n",
              "475  0.006705  0.993294  5.891185e-07  3.925805e-07  1.775044e-09\n",
              "476  0.006357  0.993642  7.703915e-07  4.465016e-07  1.613620e-09\n",
              "477  0.004467  0.995531  8.447248e-07  4.169215e-07  1.078176e-09\n",
              "478  0.005444  0.994555  1.042830e-06  4.964676e-07  1.419588e-09\n",
              "479  0.005114  0.994884  1.114374e-06  4.614279e-07  1.396565e-09\n",
              "\n",
              "[480 rows x 5 columns]"
            ]
          },
          "execution_count": 84,
          "metadata": {},
          "output_type": "execute_result"
        }
      ],
      "source": [
        "to_save"
      ]
    },
    {
      "cell_type": "code",
      "execution_count": null,
      "metadata": {},
      "outputs": [],
      "source": []
    }
  ],
  "metadata": {
    "colab": {
      "provenance": []
    },
    "kernelspec": {
      "display_name": "Python 3",
      "name": "python3"
    },
    "language_info": {
      "codemirror_mode": {
        "name": "ipython",
        "version": 3
      },
      "file_extension": ".py",
      "mimetype": "text/x-python",
      "name": "python",
      "nbconvert_exporter": "python",
      "pygments_lexer": "ipython3",
      "version": "3.10.4"
    }
  },
  "nbformat": 4,
  "nbformat_minor": 0
}
