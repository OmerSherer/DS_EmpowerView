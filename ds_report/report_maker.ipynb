{
  "nbformat": 4,
  "nbformat_minor": 0,
  "metadata": {
    "colab": {
      "provenance": [],
      "authorship_tag": "ABX9TyNHGxegwVmdOiBS3+yfdymF",
      "include_colab_link": true
    },
    "kernelspec": {
      "name": "python3",
      "display_name": "Python 3"
    },
    "language_info": {
      "name": "python"
    }
  },
  "cells": [
    {
      "cell_type": "markdown",
      "metadata": {
        "id": "view-in-github",
        "colab_type": "text"
      },
      "source": [
        "<a href=\"https://colab.research.google.com/github/OmerSherer/DS_EmpowerView/blob/main/ds_report/report_maker.ipynb\" target=\"_parent\"><img src=\"https://colab.research.google.com/assets/colab-badge.svg\" alt=\"Open In Colab\"/></a>"
      ]
    },
    {
      "cell_type": "markdown",
      "source": [
        "# Report Maker for Empowerview project "
      ],
      "metadata": {
        "id": "VSyGN7kjnSXR"
      }
    },
    {
      "cell_type": "markdown",
      "source": [
        "Install gdown"
      ],
      "metadata": {
        "id": "244ZTw5W3Uyf"
      }
    },
    {
      "cell_type": "code",
      "source": [
        "!pip install gdown"
      ],
      "metadata": {
        "id": "dKDdaFfn3W1U",
        "outputId": "4021a50a-cf38-43b9-f756-17020e5221f3",
        "colab": {
          "base_uri": "https://localhost:8080/"
        }
      },
      "execution_count": 110,
      "outputs": [
        {
          "output_type": "stream",
          "name": "stdout",
          "text": [
            "Looking in indexes: https://pypi.org/simple, https://us-python.pkg.dev/colab-wheels/public/simple/\n",
            "Requirement already satisfied: gdown in /usr/local/lib/python3.9/dist-packages (4.6.4)\n",
            "Requirement already satisfied: six in /usr/local/lib/python3.9/dist-packages (from gdown) (1.15.0)\n",
            "Requirement already satisfied: beautifulsoup4 in /usr/local/lib/python3.9/dist-packages (from gdown) (4.11.2)\n",
            "Requirement already satisfied: requests[socks] in /usr/local/lib/python3.9/dist-packages (from gdown) (2.27.1)\n",
            "Requirement already satisfied: filelock in /usr/local/lib/python3.9/dist-packages (from gdown) (3.10.0)\n",
            "Requirement already satisfied: tqdm in /usr/local/lib/python3.9/dist-packages (from gdown) (4.65.0)\n",
            "Requirement already satisfied: soupsieve>1.2 in /usr/local/lib/python3.9/dist-packages (from beautifulsoup4->gdown) (2.4)\n",
            "Requirement already satisfied: idna<4,>=2.5 in /usr/local/lib/python3.9/dist-packages (from requests[socks]->gdown) (3.4)\n",
            "Requirement already satisfied: urllib3<1.27,>=1.21.1 in /usr/local/lib/python3.9/dist-packages (from requests[socks]->gdown) (1.26.15)\n",
            "Requirement already satisfied: certifi>=2017.4.17 in /usr/local/lib/python3.9/dist-packages (from requests[socks]->gdown) (2022.12.7)\n",
            "Requirement already satisfied: charset-normalizer~=2.0.0 in /usr/local/lib/python3.9/dist-packages (from requests[socks]->gdown) (2.0.12)\n",
            "Requirement already satisfied: PySocks!=1.5.7,>=1.5.6 in /usr/local/lib/python3.9/dist-packages (from requests[socks]->gdown) (1.7.1)\n"
          ]
        }
      ]
    },
    {
      "cell_type": "markdown",
      "source": [
        "Download CSVs"
      ],
      "metadata": {
        "id": "MgV47RD0qhXM"
      }
    },
    {
      "cell_type": "code",
      "source": [
        "!gdown 1A9vYFy2cf_6bNJ6bZlOrGU9ME6jCoxYI\n",
        "!gdown 1VZBjcPqTtY812HkuqW8hwWDF5cQBKM45\n",
        "!gdown 1tmL3XBulbmBxeg0u38LLzP1deFebMVSf"
      ],
      "metadata": {
        "id": "HA8m1ddW35Wk",
        "outputId": "3307db89-d031-4393-b76e-318bf1be210e",
        "colab": {
          "base_uri": "https://localhost:8080/"
        }
      },
      "execution_count": 111,
      "outputs": [
        {
          "output_type": "stream",
          "name": "stdout",
          "text": [
            "Downloading...\n",
            "From: https://drive.google.com/uc?id=1A9vYFy2cf_6bNJ6bZlOrGU9ME6jCoxYI\n",
            "To: /content/happyvideo1ts.csv\n",
            "100% 62.1M/62.1M [00:00<00:00, 194MB/s]\n",
            "Downloading...\n",
            "From: https://drive.google.com/uc?id=1VZBjcPqTtY812HkuqW8hwWDF5cQBKM45\n",
            "To: /content/pred2.csv\n",
            "100% 31.9k/31.9k [00:00<00:00, 25.5MB/s]\n",
            "Downloading...\n",
            "From: https://drive.google.com/uc?id=1tmL3XBulbmBxeg0u38LLzP1deFebMVSf\n",
            "To: /content/interview_1_class (1).csv\n",
            "100% 22.8k/22.8k [00:00<00:00, 17.5MB/s]\n"
          ]
        }
      ]
    },
    {
      "cell_type": "markdown",
      "source": [
        "### Creating a timeline"
      ],
      "metadata": {
        "id": "2MFKnfMvnddK"
      }
    },
    {
      "cell_type": "code",
      "execution_count": 112,
      "metadata": {
        "id": "X4V61ZLnnRaQ"
      },
      "outputs": [],
      "source": [
        "import pandas as pd\n",
        "import matplotlib.pyplot as plt\n",
        "\n",
        "# Load the output of the gesture recognition neural network\n",
        "# You can replace this with your own code to load the output\n",
        "gestures_data = pd.read_csv('/content/happyvideo1ts.csv')"
      ]
    },
    {
      "cell_type": "code",
      "source": [
        "gestures_data.head()"
      ],
      "metadata": {
        "id": "9aJRkk4xH7US",
        "outputId": "2763435e-71c9-4655-bd0f-d43a41400de7",
        "colab": {
          "base_uri": "https://localhost:8080/",
          "height": 280
        }
      },
      "execution_count": 113,
      "outputs": [
        {
          "output_type": "execute_result",
          "data": {
            "text/plain": [
              "      timestamp  class        x1        y1        z1        v1        x2  \\\n",
              "0  1.679047e+09  happy  0.501042  0.352644 -0.888630  0.999790  0.524491   \n",
              "1  1.679047e+09  happy  0.500843  0.353403 -0.807499  0.999795  0.524346   \n",
              "2  1.679047e+09  happy  0.500844  0.354894 -0.750049  0.999792  0.524456   \n",
              "3  1.679047e+09  happy  0.500325  0.357623 -0.771154  0.999792  0.524064   \n",
              "4  1.679047e+09  happy  0.499356  0.359131 -0.795116  0.999777  0.523208   \n",
              "\n",
              "         y2        z2        v2  ...      z499  v499      x500      y500  \\\n",
              "0  0.309913 -0.845140  0.999762  ...  0.004888   0.0  0.542127  0.312530   \n",
              "1  0.310830 -0.765581  0.999765  ...  0.004661   0.0  0.539867  0.311488   \n",
              "2  0.312082 -0.708859  0.999757  ...  0.004589   0.0  0.537067  0.312220   \n",
              "3  0.314416 -0.730357  0.999754  ...  0.004763   0.0  0.534880  0.312634   \n",
              "4  0.315995 -0.753091  0.999724  ...  0.005061   0.0  0.533695  0.313515   \n",
              "\n",
              "       z500  v500      x501      y501      z501  v501  \n",
              "0  0.015369   0.0  0.545434  0.304507  0.016196   0.0  \n",
              "1  0.014884   0.0  0.543142  0.303597  0.015683   0.0  \n",
              "2  0.014786   0.0  0.540248  0.304258  0.015594   0.0  \n",
              "3  0.015229   0.0  0.537961  0.304895  0.016051   0.0  \n",
              "4  0.015398   0.0  0.536821  0.305756  0.016220   0.0  \n",
              "\n",
              "[5 rows x 2006 columns]"
            ],
            "text/html": [
              "\n",
              "  <div id=\"df-b667050a-e159-48b9-963a-13fc8c0ba6f1\">\n",
              "    <div class=\"colab-df-container\">\n",
              "      <div>\n",
              "<style scoped>\n",
              "    .dataframe tbody tr th:only-of-type {\n",
              "        vertical-align: middle;\n",
              "    }\n",
              "\n",
              "    .dataframe tbody tr th {\n",
              "        vertical-align: top;\n",
              "    }\n",
              "\n",
              "    .dataframe thead th {\n",
              "        text-align: right;\n",
              "    }\n",
              "</style>\n",
              "<table border=\"1\" class=\"dataframe\">\n",
              "  <thead>\n",
              "    <tr style=\"text-align: right;\">\n",
              "      <th></th>\n",
              "      <th>timestamp</th>\n",
              "      <th>class</th>\n",
              "      <th>x1</th>\n",
              "      <th>y1</th>\n",
              "      <th>z1</th>\n",
              "      <th>v1</th>\n",
              "      <th>x2</th>\n",
              "      <th>y2</th>\n",
              "      <th>z2</th>\n",
              "      <th>v2</th>\n",
              "      <th>...</th>\n",
              "      <th>z499</th>\n",
              "      <th>v499</th>\n",
              "      <th>x500</th>\n",
              "      <th>y500</th>\n",
              "      <th>z500</th>\n",
              "      <th>v500</th>\n",
              "      <th>x501</th>\n",
              "      <th>y501</th>\n",
              "      <th>z501</th>\n",
              "      <th>v501</th>\n",
              "    </tr>\n",
              "  </thead>\n",
              "  <tbody>\n",
              "    <tr>\n",
              "      <th>0</th>\n",
              "      <td>1.679047e+09</td>\n",
              "      <td>happy</td>\n",
              "      <td>0.501042</td>\n",
              "      <td>0.352644</td>\n",
              "      <td>-0.888630</td>\n",
              "      <td>0.999790</td>\n",
              "      <td>0.524491</td>\n",
              "      <td>0.309913</td>\n",
              "      <td>-0.845140</td>\n",
              "      <td>0.999762</td>\n",
              "      <td>...</td>\n",
              "      <td>0.004888</td>\n",
              "      <td>0.0</td>\n",
              "      <td>0.542127</td>\n",
              "      <td>0.312530</td>\n",
              "      <td>0.015369</td>\n",
              "      <td>0.0</td>\n",
              "      <td>0.545434</td>\n",
              "      <td>0.304507</td>\n",
              "      <td>0.016196</td>\n",
              "      <td>0.0</td>\n",
              "    </tr>\n",
              "    <tr>\n",
              "      <th>1</th>\n",
              "      <td>1.679047e+09</td>\n",
              "      <td>happy</td>\n",
              "      <td>0.500843</td>\n",
              "      <td>0.353403</td>\n",
              "      <td>-0.807499</td>\n",
              "      <td>0.999795</td>\n",
              "      <td>0.524346</td>\n",
              "      <td>0.310830</td>\n",
              "      <td>-0.765581</td>\n",
              "      <td>0.999765</td>\n",
              "      <td>...</td>\n",
              "      <td>0.004661</td>\n",
              "      <td>0.0</td>\n",
              "      <td>0.539867</td>\n",
              "      <td>0.311488</td>\n",
              "      <td>0.014884</td>\n",
              "      <td>0.0</td>\n",
              "      <td>0.543142</td>\n",
              "      <td>0.303597</td>\n",
              "      <td>0.015683</td>\n",
              "      <td>0.0</td>\n",
              "    </tr>\n",
              "    <tr>\n",
              "      <th>2</th>\n",
              "      <td>1.679047e+09</td>\n",
              "      <td>happy</td>\n",
              "      <td>0.500844</td>\n",
              "      <td>0.354894</td>\n",
              "      <td>-0.750049</td>\n",
              "      <td>0.999792</td>\n",
              "      <td>0.524456</td>\n",
              "      <td>0.312082</td>\n",
              "      <td>-0.708859</td>\n",
              "      <td>0.999757</td>\n",
              "      <td>...</td>\n",
              "      <td>0.004589</td>\n",
              "      <td>0.0</td>\n",
              "      <td>0.537067</td>\n",
              "      <td>0.312220</td>\n",
              "      <td>0.014786</td>\n",
              "      <td>0.0</td>\n",
              "      <td>0.540248</td>\n",
              "      <td>0.304258</td>\n",
              "      <td>0.015594</td>\n",
              "      <td>0.0</td>\n",
              "    </tr>\n",
              "    <tr>\n",
              "      <th>3</th>\n",
              "      <td>1.679047e+09</td>\n",
              "      <td>happy</td>\n",
              "      <td>0.500325</td>\n",
              "      <td>0.357623</td>\n",
              "      <td>-0.771154</td>\n",
              "      <td>0.999792</td>\n",
              "      <td>0.524064</td>\n",
              "      <td>0.314416</td>\n",
              "      <td>-0.730357</td>\n",
              "      <td>0.999754</td>\n",
              "      <td>...</td>\n",
              "      <td>0.004763</td>\n",
              "      <td>0.0</td>\n",
              "      <td>0.534880</td>\n",
              "      <td>0.312634</td>\n",
              "      <td>0.015229</td>\n",
              "      <td>0.0</td>\n",
              "      <td>0.537961</td>\n",
              "      <td>0.304895</td>\n",
              "      <td>0.016051</td>\n",
              "      <td>0.0</td>\n",
              "    </tr>\n",
              "    <tr>\n",
              "      <th>4</th>\n",
              "      <td>1.679047e+09</td>\n",
              "      <td>happy</td>\n",
              "      <td>0.499356</td>\n",
              "      <td>0.359131</td>\n",
              "      <td>-0.795116</td>\n",
              "      <td>0.999777</td>\n",
              "      <td>0.523208</td>\n",
              "      <td>0.315995</td>\n",
              "      <td>-0.753091</td>\n",
              "      <td>0.999724</td>\n",
              "      <td>...</td>\n",
              "      <td>0.005061</td>\n",
              "      <td>0.0</td>\n",
              "      <td>0.533695</td>\n",
              "      <td>0.313515</td>\n",
              "      <td>0.015398</td>\n",
              "      <td>0.0</td>\n",
              "      <td>0.536821</td>\n",
              "      <td>0.305756</td>\n",
              "      <td>0.016220</td>\n",
              "      <td>0.0</td>\n",
              "    </tr>\n",
              "  </tbody>\n",
              "</table>\n",
              "<p>5 rows × 2006 columns</p>\n",
              "</div>\n",
              "      <button class=\"colab-df-convert\" onclick=\"convertToInteractive('df-b667050a-e159-48b9-963a-13fc8c0ba6f1')\"\n",
              "              title=\"Convert this dataframe to an interactive table.\"\n",
              "              style=\"display:none;\">\n",
              "        \n",
              "  <svg xmlns=\"http://www.w3.org/2000/svg\" height=\"24px\"viewBox=\"0 0 24 24\"\n",
              "       width=\"24px\">\n",
              "    <path d=\"M0 0h24v24H0V0z\" fill=\"none\"/>\n",
              "    <path d=\"M18.56 5.44l.94 2.06.94-2.06 2.06-.94-2.06-.94-.94-2.06-.94 2.06-2.06.94zm-11 1L8.5 8.5l.94-2.06 2.06-.94-2.06-.94L8.5 2.5l-.94 2.06-2.06.94zm10 10l.94 2.06.94-2.06 2.06-.94-2.06-.94-.94-2.06-.94 2.06-2.06.94z\"/><path d=\"M17.41 7.96l-1.37-1.37c-.4-.4-.92-.59-1.43-.59-.52 0-1.04.2-1.43.59L10.3 9.45l-7.72 7.72c-.78.78-.78 2.05 0 2.83L4 21.41c.39.39.9.59 1.41.59.51 0 1.02-.2 1.41-.59l7.78-7.78 2.81-2.81c.8-.78.8-2.07 0-2.86zM5.41 20L4 18.59l7.72-7.72 1.47 1.35L5.41 20z\"/>\n",
              "  </svg>\n",
              "      </button>\n",
              "      \n",
              "  <style>\n",
              "    .colab-df-container {\n",
              "      display:flex;\n",
              "      flex-wrap:wrap;\n",
              "      gap: 12px;\n",
              "    }\n",
              "\n",
              "    .colab-df-convert {\n",
              "      background-color: #E8F0FE;\n",
              "      border: none;\n",
              "      border-radius: 50%;\n",
              "      cursor: pointer;\n",
              "      display: none;\n",
              "      fill: #1967D2;\n",
              "      height: 32px;\n",
              "      padding: 0 0 0 0;\n",
              "      width: 32px;\n",
              "    }\n",
              "\n",
              "    .colab-df-convert:hover {\n",
              "      background-color: #E2EBFA;\n",
              "      box-shadow: 0px 1px 2px rgba(60, 64, 67, 0.3), 0px 1px 3px 1px rgba(60, 64, 67, 0.15);\n",
              "      fill: #174EA6;\n",
              "    }\n",
              "\n",
              "    [theme=dark] .colab-df-convert {\n",
              "      background-color: #3B4455;\n",
              "      fill: #D2E3FC;\n",
              "    }\n",
              "\n",
              "    [theme=dark] .colab-df-convert:hover {\n",
              "      background-color: #434B5C;\n",
              "      box-shadow: 0px 1px 3px 1px rgba(0, 0, 0, 0.15);\n",
              "      filter: drop-shadow(0px 1px 2px rgba(0, 0, 0, 0.3));\n",
              "      fill: #FFFFFF;\n",
              "    }\n",
              "  </style>\n",
              "\n",
              "      <script>\n",
              "        const buttonEl =\n",
              "          document.querySelector('#df-b667050a-e159-48b9-963a-13fc8c0ba6f1 button.colab-df-convert');\n",
              "        buttonEl.style.display =\n",
              "          google.colab.kernel.accessAllowed ? 'block' : 'none';\n",
              "\n",
              "        async function convertToInteractive(key) {\n",
              "          const element = document.querySelector('#df-b667050a-e159-48b9-963a-13fc8c0ba6f1');\n",
              "          const dataTable =\n",
              "            await google.colab.kernel.invokeFunction('convertToInteractive',\n",
              "                                                     [key], {});\n",
              "          if (!dataTable) return;\n",
              "\n",
              "          const docLinkHtml = 'Like what you see? Visit the ' +\n",
              "            '<a target=\"_blank\" href=https://colab.research.google.com/notebooks/data_table.ipynb>data table notebook</a>'\n",
              "            + ' to learn more about interactive tables.';\n",
              "          element.innerHTML = '';\n",
              "          dataTable['output_type'] = 'display_data';\n",
              "          await google.colab.output.renderOutput(dataTable, element);\n",
              "          const docLink = document.createElement('div');\n",
              "          docLink.innerHTML = docLinkHtml;\n",
              "          element.appendChild(docLink);\n",
              "        }\n",
              "      </script>\n",
              "    </div>\n",
              "  </div>\n",
              "  "
            ]
          },
          "metadata": {},
          "execution_count": 113
        }
      ]
    },
    {
      "cell_type": "markdown",
      "source": [
        "Extract the relevant features\n",
        "We can replace these with your own features"
      ],
      "metadata": {
        "id": "hmcngS3uqtgz"
      }
    },
    {
      "cell_type": "code",
      "source": [
        "timestamps = gestures_data['timestamp']\n",
        "gesture_types = gestures_data['class']"
      ],
      "metadata": {
        "id": "fXRKf3Vw4JXt"
      },
      "execution_count": 114,
      "outputs": []
    },
    {
      "cell_type": "markdown",
      "source": [
        "Convert timestamp to seconds"
      ],
      "metadata": {
        "id": "YEhDtszmrOzQ"
      }
    },
    {
      "cell_type": "code",
      "source": [
        "import datetime\n",
        "\n",
        "# Convert each timestamp to a datetime object\n",
        "datetimes = [datetime.datetime.fromtimestamp(t) for t in timestamps]\n",
        "\n",
        "# Calculate the time delta between the first timestamp and each subsequent timestamp\n",
        "deltas = [(d - datetimes[0]).total_seconds() for d in datetimes]\n",
        "\n",
        "# Convert the time deltas to a zero-indexed list of seconds\n",
        "seconds = [int(delta) for delta in deltas]\n",
        "\n",
        "print(seconds)"
      ],
      "metadata": {
        "id": "RvUWof-rM56Y",
        "outputId": "3e1cc3b1-5f90-4138-a6f2-3ea5701a8f3c",
        "colab": {
          "base_uri": "https://localhost:8080/"
        }
      },
      "execution_count": 115,
      "outputs": [
        {
          "output_type": "stream",
          "name": "stdout",
          "text": [
            "[0, 0, 0, 0, 0, 0, 0, 0, 0, 0, 0, 0, 0, 0, 0, 0, 0, 0, 1, 1, 1, 1, 1, 1, 1, 1, 1, 1, 1, 1, 1, 1, 1, 1, 1, 1, 1, 1, 2, 2, 2, 2, 2, 2, 2, 2, 2, 2, 2, 2, 2, 2, 2, 2, 2, 2, 2, 2, 2, 3, 3, 3, 3, 3, 3, 3, 3, 3, 3, 3, 3, 3, 3, 3, 3, 3, 3, 3, 3, 4, 4, 4, 4, 4, 4, 4, 4, 4, 4, 4, 4, 4, 4, 4, 4, 4, 4, 4, 4, 5, 5, 5, 5, 5, 5, 5, 5, 5, 5, 5, 5, 5, 5, 5, 5, 5, 5, 5, 5, 6, 6, 6, 6, 6, 6, 6, 6, 6, 6, 6, 6, 6, 6, 6, 6, 6, 6, 6, 6, 7, 7, 7, 7, 7, 7, 7, 7, 7, 7, 7, 7, 7, 7, 7, 7, 7, 7, 7, 7, 8, 8, 8, 8, 8, 8, 8, 8, 8, 8, 8, 8, 8, 8, 8, 8, 8, 8, 8, 8, 9, 9, 9, 9, 9, 9, 9, 9, 9, 9, 9, 9, 9, 9, 9, 9, 9, 9, 9, 9, 10, 10, 10, 10, 10, 10, 10, 10, 10, 10, 10, 10, 10, 10, 10, 10, 10, 10, 10, 10, 11, 11, 11, 11, 11, 11, 11, 11, 11, 11, 11, 11, 11, 11, 11, 11, 11, 11, 11, 11, 12, 12, 12, 12, 12, 12, 12, 12, 12, 12, 12, 12, 12, 12, 12, 12, 12, 12, 12, 12, 13, 13, 13, 13, 13, 13, 13, 13, 13, 13, 13, 13, 13, 13, 13, 13, 13, 13, 13, 13, 14, 14, 14, 14, 14, 14, 14, 14, 14, 14, 14, 14, 14, 14, 14, 14, 14, 14, 14, 14, 15, 15, 15, 15, 15, 15, 15, 15, 15, 15, 15, 15, 15, 15, 15, 15, 15, 15, 15, 15, 16, 16, 16, 16, 16, 16, 16, 16, 16, 16, 16, 16, 16, 16, 16, 16, 16, 16, 16, 16, 17, 17, 17, 17, 17, 17, 17, 17, 17, 17, 17, 17, 17, 17, 17, 17, 17, 17, 17, 17, 18, 18, 18, 18, 18, 18, 18, 18, 18, 18, 18, 18, 18, 18, 18, 18, 18, 18, 18, 18, 19, 19, 19, 19, 19, 19, 19, 19, 19, 19, 19, 19, 19, 19, 19, 19, 19, 19, 19, 20, 20, 20, 20, 20, 20, 20, 20, 20, 20, 20, 20, 20, 20, 20, 20, 20, 20, 20, 20, 20, 21, 21, 21, 21, 21, 21, 21, 21, 21, 21, 21, 21, 21, 21, 21, 21, 21, 21, 21, 21, 22, 22, 22, 22, 22, 22, 22, 22, 22, 22, 22, 22, 22, 22, 22, 22, 22, 22, 22, 22, 23, 23, 23, 23, 23, 23, 23, 23, 23, 23, 23, 23, 23, 23, 23, 23, 23, 23, 23, 23, 24, 24, 24, 24, 24, 24, 24, 24, 24, 24, 24, 24, 24, 24, 24, 24, 24, 24, 24, 25, 25, 25, 25, 25, 25, 25, 25, 25, 25, 25, 25, 25, 25, 25, 25, 25, 25, 25, 25, 26, 26, 26, 26, 26, 26, 26, 26, 26, 26, 26, 26, 26, 26, 26, 26, 26, 26, 26, 26, 27, 27, 27, 27, 27, 27, 27, 27, 27, 27, 27, 27, 27, 27, 27, 27, 27, 27, 27, 27, 28, 28, 28, 28, 28, 28, 28, 28, 28, 28, 28, 28, 28, 28, 28, 28, 28, 28, 28, 28, 29, 29, 29, 29, 29, 29, 29, 29, 29, 29, 29, 29, 29, 29, 29, 29, 29, 29, 29, 30, 30, 30, 30, 30, 30, 30, 30, 30, 30, 30, 30, 30, 30, 30, 30, 30, 30, 30, 30, 30, 31, 31, 31, 31, 31, 31, 31, 31, 31, 31, 31, 31, 31, 31, 31, 31, 31, 31, 31, 32, 32, 32, 32, 32, 32, 32, 32, 32, 32, 32, 32, 32, 32, 32, 32, 32, 32, 32, 32, 33, 33, 33, 33, 33, 33, 33, 33, 33, 33, 33, 33, 33, 33, 33, 33, 33, 33, 33, 33, 34, 34, 34, 34, 34, 34, 34, 34, 34, 34, 34, 34, 34, 34, 34, 34, 34, 34, 34, 34, 35, 35, 35, 35, 35, 35, 35, 35, 35, 35, 35, 35, 35, 35, 35, 35, 35, 35, 35, 35, 35, 36, 36, 36, 36, 36, 36, 36, 36, 36, 36, 36, 36, 36, 36, 36, 36, 36, 36, 36, 36, 37, 37, 37, 37, 37, 37, 37, 37, 37, 37, 37, 37, 37, 37, 37, 37, 37, 37, 37, 37, 38, 38, 38, 38, 38, 38, 38, 38, 38, 38, 38, 38, 38, 38, 38, 38, 38, 38, 38, 38, 39, 39, 39, 39, 39, 39, 39, 39, 39, 39, 39, 39, 39, 39, 39, 39, 39, 39, 39, 39, 39, 40, 40, 40, 40, 40, 40, 40, 40, 40, 40, 40, 40, 40, 40, 40, 40, 40, 40, 40, 40, 41, 41, 41, 41, 41, 41, 41, 41, 41, 41, 41, 41, 41, 41, 41, 41, 41, 41, 41, 41, 42, 42, 42, 42, 42, 42, 42, 42, 42, 42, 42, 42, 42, 42, 42, 42, 42, 42, 42, 42, 43, 43, 43, 43, 43, 43, 43, 43, 43, 43, 43, 43, 43, 43, 43, 43, 43, 43, 43, 43, 44, 44, 44, 44, 44, 44, 44, 44, 44, 44, 44, 44, 44, 44, 44, 44, 44, 44, 44, 44, 45, 45, 45, 45, 45, 45, 45, 45, 45, 45, 45, 45, 45, 45, 45, 45, 45, 45, 45, 45, 45, 46, 46, 46, 46, 46, 46, 46, 46, 46, 46, 46, 46, 46, 46, 46, 46, 46, 46, 46, 46, 47, 47, 47, 47, 47, 47, 47, 47, 47, 47, 47, 47, 47, 47, 47, 47, 47, 47, 47, 47, 48, 48, 48, 48, 48, 48, 48, 48, 48, 48, 48, 48, 48, 48, 48, 48, 48, 48, 48, 48, 49, 49, 49, 49, 49, 49, 49, 49, 49, 49, 49, 49, 49, 49, 49, 49, 49, 49, 49, 49, 50, 50, 50, 50, 50, 50, 50, 50, 50, 50, 50, 50, 50, 50, 50, 50, 50, 50, 50, 51, 51, 51, 51, 51, 51, 51, 51, 51, 51, 51, 51, 51, 51, 51, 51, 51, 51, 51, 51, 52, 52, 52, 52, 52, 52, 52, 52, 52, 52, 52, 52, 52, 52, 52, 52, 52, 52, 52, 52, 53, 53, 53, 53, 53, 53, 53, 53, 53, 53, 53, 53, 53, 53, 53, 53, 53, 53, 53, 53, 54, 54, 54, 54, 54, 54, 54, 54, 54, 54, 54, 54, 54, 54, 54, 54, 54, 54, 54, 54, 55, 55, 55, 55, 55, 55, 55, 55, 55, 55, 55, 55, 55, 55, 55, 55, 55, 55, 55, 55, 55, 56, 56, 56, 56, 56, 56, 56, 56, 56, 56, 56, 56, 56, 56, 56, 56, 56, 56, 56, 56, 57, 57, 57, 57, 57, 57, 57, 57, 57, 57, 57, 57, 57, 57, 57, 57, 57, 57, 57, 58, 58, 58, 58, 58, 58, 58, 58, 58, 58, 58, 58, 58, 58, 58, 58, 58, 58, 58, 58, 59, 59, 59, 59, 59, 59, 59, 59, 59, 59, 59, 59, 59, 59, 59, 59, 59, 59, 59, 59, 59, 60, 60, 60, 60, 60, 60, 60, 60, 60, 60, 60, 60, 60, 60, 60, 60, 60, 60, 60, 61, 61, 61, 61, 61, 61, 61, 61, 61, 61, 61, 61, 61, 61, 61, 61, 61, 61, 61, 61, 61, 62, 62, 62, 62, 62, 62, 62, 62, 62, 62, 62, 62, 62, 62, 62, 62, 62, 62, 62, 63, 63, 63, 63, 63, 63, 63, 63, 63, 63, 63, 63, 63, 63, 63, 63, 63, 63, 63, 63, 64, 64, 64, 64, 64, 64, 64, 64, 64, 64, 64, 64, 64, 64, 64, 64, 64, 64, 64, 64, 65, 65, 65, 65, 65, 65, 65, 65, 65, 65, 65, 65, 65, 65, 65, 65, 65, 65, 65, 65, 66, 66, 66, 66, 66, 66, 66, 66, 66, 66, 66, 66, 66, 66, 66, 66, 66, 66, 66, 66, 66, 67, 67, 67, 67, 67, 67, 67, 67, 67, 67, 67, 67, 67, 67, 67, 67, 67, 67, 67, 68, 68, 68, 68, 68, 68, 68, 68, 68, 68, 68, 68, 68, 68, 68, 68, 68, 68, 68, 68, 69, 69, 69, 69, 69, 69, 69, 69, 69, 69, 69, 69, 69, 69, 69, 69, 69, 69, 69, 69, 70, 70, 70, 70, 70, 70, 70, 70, 70, 70, 70, 70, 70, 70, 70, 70, 70, 70, 70, 70, 71, 71, 71, 71, 71, 71, 71, 71, 71, 71, 71, 71, 71, 71, 71, 71, 71, 71, 71, 71, 72, 72, 72, 72, 72, 72, 72, 72, 72, 72, 72, 72, 72, 72, 72, 72, 72, 72, 72, 72, 73, 73, 73, 73, 73, 73, 73, 73, 73, 73, 73, 73, 73, 73, 73, 73, 73, 73, 73, 73, 74, 74, 74, 74, 74, 74, 74, 74, 74, 74, 74, 74, 74, 74, 74, 74, 74, 74, 74, 74, 75, 75, 75, 75, 75, 75, 75, 75, 75, 75, 75, 75, 75, 75, 75, 75, 75, 75, 75, 75, 76, 76, 76, 76, 76, 76, 76, 76, 76, 76, 76, 76, 76, 76, 76, 76, 76, 76, 76, 76, 77, 77, 77, 77, 77, 77, 77, 77, 77, 77, 77, 77, 77, 77, 77, 77, 77, 77, 77, 77, 78, 78, 78, 78, 78, 78, 78, 78, 78, 78, 78, 78, 78, 78, 78, 78, 78, 78, 78, 78, 79, 79, 79, 79, 79, 79, 79, 79, 79, 79, 79, 79, 79, 79, 79, 79, 79, 79, 79, 79, 80, 80, 80, 80, 80, 80, 80, 80, 80, 80, 80, 80, 80, 80, 80, 80, 80, 80, 80, 80, 81, 81, 81, 81, 81, 81, 81, 81, 81, 81, 81, 81, 81, 81, 81, 81, 81, 81, 81, 81, 82, 82, 82, 82, 82, 82, 82, 82, 82, 82, 82, 82, 82, 82, 82, 82, 82, 82, 82, 82, 83, 83, 83, 83, 83, 83, 83, 83, 83, 83, 83, 83, 83, 83, 83, 83, 83, 83, 83, 84, 84, 84, 84, 84, 84, 84, 84, 84, 84, 84, 84, 84, 84, 84, 84, 84, 84, 84, 84, 85, 85, 85, 85, 85, 85, 85, 85, 85, 85, 85, 85, 85, 85, 85, 85, 85, 85, 85, 85, 86, 86, 86, 86, 86, 86, 86, 86, 86, 86, 86, 86, 86, 86, 86, 86, 86, 86, 86, 86, 87, 87, 87, 87, 87, 87, 87, 87, 87, 87, 87, 87, 87, 87, 87, 87, 87, 87, 87, 87, 88, 88, 88, 88, 88, 88, 88, 88, 88, 88, 88, 88, 88, 88, 88, 88, 88, 88, 88, 88, 89, 89, 89, 89, 89, 89, 89, 89, 89, 89, 89, 89, 89, 89, 89, 89, 89, 89, 89, 89, 90, 90, 90, 90, 90, 90, 90, 90, 90, 90, 90, 90, 90, 90, 90, 90, 90, 90, 90, 91, 91, 91, 91, 91, 91, 91, 91, 91, 91, 91, 91, 91, 91, 91, 91, 91, 91, 91, 91, 92, 92, 92, 92, 92, 92, 92, 92, 92, 92, 92, 92, 92, 92, 92, 92, 92, 92, 92, 92, 93, 93, 93, 93, 93, 93, 93, 93, 93, 93, 93, 93, 93, 93, 93, 93, 93, 93, 93, 93, 94, 94, 94, 94, 94, 94, 94, 94, 94, 94, 94, 94, 94, 94, 94, 94, 94, 94, 94, 94, 95, 95, 95, 95, 95, 95, 95, 95, 95, 95, 95, 95, 95, 95, 95, 95, 95, 95, 95, 96, 96, 96, 96, 96, 96, 96, 96, 96, 96, 96, 96, 96, 96, 96, 96, 96, 96, 96, 96, 97, 97, 97, 97, 97, 97, 97, 97, 97, 97, 97, 97, 97, 97, 97, 97, 97, 97, 97, 97, 98, 98, 98, 98, 98, 98, 98, 98, 98, 98, 98, 98, 98, 98, 98, 98, 98, 98, 98, 98, 99, 99, 99, 99, 99, 99, 99, 99, 99, 99, 99, 99, 99, 99, 99, 99, 99, 99, 99, 100, 100, 100, 100, 100, 100, 100, 100, 100, 100, 100, 100, 100, 100, 100, 100, 100, 100, 100, 100, 100, 101, 101, 101, 101, 101, 101, 101, 101, 101, 101, 101, 101, 101, 101, 101, 101, 101, 101, 101, 102, 102, 102, 102, 102, 102, 102, 102, 102, 102, 102, 102, 102, 102, 102, 102, 102, 102, 102, 102, 103, 103, 103, 103, 103, 103, 103, 103, 103, 103, 103, 103, 103, 103, 103, 103, 103, 103, 103, 103, 104, 104, 104, 104, 104, 104, 104, 104, 104, 104, 104, 104, 104, 104, 104, 104, 104, 104, 104, 105, 105, 105, 105, 105, 105, 105, 105, 105, 105, 105, 105, 105, 105, 105, 105, 105, 105, 105, 105, 106, 106, 106, 106, 106, 106, 106, 106, 106, 106, 106, 106, 106, 106, 106, 106, 106, 106, 106, 106, 107, 107, 107, 107, 107, 107, 107, 107, 107, 107, 107, 107, 107, 107, 107, 107, 107, 107, 107, 107, 108, 108, 108, 108, 108, 108, 108, 108, 108, 108, 108, 108, 108, 108, 108, 108, 108, 108, 108, 109, 109, 109, 109, 109, 109, 109, 109, 109, 109, 109, 109, 109, 109, 109, 109, 109, 109, 109, 109, 110, 110, 110, 110, 110, 110, 110, 110, 110, 110, 110, 110, 110, 110, 110, 110, 110, 110, 110, 110, 111, 111, 111, 111, 111, 111, 111, 111, 111, 111, 111, 111, 111, 111, 111, 111, 111, 111, 111, 112, 112, 112, 112, 112, 112, 112, 112, 112, 112, 112, 112, 112, 112, 112, 112, 112, 112, 112, 112, 113, 113, 113, 113, 113, 113, 113, 113, 113, 113, 113, 113, 113, 113, 113, 113, 113, 113, 113, 113, 114, 114, 114, 114, 114, 114, 114, 114, 114, 114, 114, 114, 114, 114, 114, 114, 114, 114, 114, 115, 115, 115, 115, 115, 115, 115, 115, 115, 115, 115, 115, 115, 115, 115, 115, 115, 115, 115, 115, 116, 116, 116, 116, 116, 116, 116, 116, 116, 116, 116, 116, 116, 116, 116, 116, 116, 116, 116, 116, 117, 117, 117, 117, 117, 117, 117, 117, 117, 117, 117, 117, 117, 117, 117, 117, 117, 117, 117, 118, 118, 118, 118, 118, 118, 118, 118, 118, 118, 118, 118, 118, 118, 118, 118, 118, 118, 118, 118, 119, 119, 119, 119, 119, 119, 119, 119, 119, 119, 119, 119, 119, 119, 119, 119, 119, 119, 119, 120, 120, 120, 120, 120, 120, 120, 120, 120, 120, 120, 120, 120, 120, 120, 120, 120, 120, 120, 120, 120, 121, 121, 121, 121, 121, 121, 121, 121, 121, 121, 121, 121, 121, 121, 121, 121, 121, 121, 121, 122, 122, 122, 122, 122, 122, 122, 122, 122, 122, 122, 122, 122, 122, 122, 122, 122, 122, 122, 122, 123, 123, 123, 123, 123, 123, 123, 123, 123, 123, 123, 123, 123, 123, 123, 123, 123, 123, 123, 123, 124, 124, 124, 124, 124, 124, 124, 124, 124, 124, 124, 124, 124, 124, 124, 124, 124, 124, 124, 125, 125, 125, 125, 125, 125, 125, 125, 125, 125, 125, 125, 125, 125, 125, 125, 125, 125, 125, 125, 126, 126, 126, 126, 126, 126, 126, 126, 126, 126, 126, 126, 126, 126, 126, 126, 126, 126, 126, 126, 127, 127, 127, 127, 127, 127, 127, 127, 127, 127, 127, 127, 127, 127, 127, 127, 127, 127, 127, 127, 128, 128, 128, 128, 128, 128, 128, 128, 128, 128, 128, 128, 128, 128, 128, 128, 128, 128, 128, 129, 129, 129, 129, 129, 129, 129, 129, 129, 129, 129, 129, 129, 129, 129, 129, 129, 129, 129, 129, 130, 130, 130, 130, 130, 130, 130, 130, 130, 130, 130, 130, 130, 130, 130, 130, 130, 130, 130, 130, 131, 131, 131, 131, 131, 131, 131, 131, 131, 131, 131, 131, 131, 131, 131, 131, 131, 131, 131, 132, 132, 132, 132, 132, 132, 132, 132, 132, 132, 132, 132, 132, 132, 132, 132, 132, 132, 132, 132, 132, 133, 133, 133, 133, 133, 133, 133, 133, 133, 133, 133, 133, 133, 133, 133, 133, 133, 133, 133, 134, 134, 134, 134, 134, 134, 134, 134, 134, 134, 134, 134, 134, 134, 134, 134, 134, 134, 134, 134, 135, 135, 135, 135, 135, 135, 135, 135, 135, 135, 135, 135, 135, 135, 135, 135, 135, 135, 135, 135, 136, 136, 136, 136, 136, 136, 136, 136, 136, 136, 136, 136, 136, 136, 136, 136, 136, 136, 136, 136, 137, 137, 137, 137, 137, 137, 137, 137, 137, 137, 137, 137, 137, 137, 137, 137, 137, 137, 137, 138, 138, 138, 138, 138, 138, 138, 138, 138, 138, 138, 138, 138, 138, 138, 138, 138, 138, 138, 138, 139, 139, 139, 139, 139, 139, 139, 139, 139, 139, 139, 139, 139, 139, 139, 139, 139, 139, 139, 140, 140, 140, 140, 140, 140, 140, 140, 140, 140, 140, 140, 140, 140, 140, 140, 140, 140, 140, 140, 141, 141, 141, 141, 141, 141, 141, 141, 141, 141, 141, 141, 141, 141, 141, 141, 141, 141, 141, 141, 142, 142, 142, 142, 142, 142, 142, 142, 142, 142, 142, 142, 142, 142, 142, 142, 142, 142, 142, 142, 143, 143, 143, 143, 143, 143, 143, 143, 143, 143, 143, 143, 143, 143, 143, 143, 143, 143, 143, 143, 144, 144, 144, 144, 144, 144, 144, 144, 144, 144, 144, 144, 144, 144, 144, 144, 144, 144, 144, 144, 145, 145, 145, 145, 145, 145, 145, 145, 145, 145, 145, 145, 145, 145, 145, 145, 145, 145, 145, 145, 146, 146, 146, 146, 146, 146, 146, 146, 146, 146, 146, 146, 146, 146, 146, 146, 146, 146, 146, 147, 147, 147, 147, 147, 147, 147, 147, 147, 147, 147, 147, 147, 147, 147, 147, 147, 147, 147, 147, 148, 148, 148, 148, 148, 148, 148, 148, 148, 148, 148, 148, 148, 148, 148, 148, 148, 148, 148, 148, 149, 149, 149, 149, 149, 149, 149, 149, 149, 149, 149, 149, 149, 149, 149, 149, 149, 149, 149, 150, 150, 150, 150, 150, 150, 150, 150, 150, 150, 150, 150, 150, 150, 150, 150, 150, 150, 150, 150, 151, 151, 151, 151, 151, 151, 151, 151, 151, 151, 151, 151, 151, 151, 151, 151, 151, 151, 151, 151, 152, 152, 152, 152, 152, 152, 152, 152, 152, 152, 152, 152, 152, 152, 152, 152, 152, 152, 152, 153, 153, 153, 153, 153, 153, 153, 153, 153, 153, 153, 153, 153, 153, 153, 153, 153, 153, 153, 153, 154, 154, 154, 154, 154, 154, 154, 154, 154, 154, 154, 154, 154, 154, 154, 154, 154, 154, 154, 154, 155, 155, 155, 155, 155, 155, 155, 155, 155, 155, 155, 155, 155, 155, 155, 155, 155, 155, 155, 155, 156, 156, 156, 156, 156, 156, 156, 156, 156, 156, 156, 156, 156, 156, 156, 156, 156, 156, 156, 157, 157, 157, 157, 157, 157, 157, 157, 157, 157, 157, 157, 157, 157, 157, 157, 157, 157, 157, 157, 158, 158, 158, 158, 158, 158, 158, 158, 158, 158, 158, 158, 158, 158, 158, 158, 158, 158, 158, 158, 159, 159, 159, 159, 159, 159, 159, 159, 159, 159, 159, 159, 159, 159, 159, 159, 159, 159, 159, 160, 160, 160, 160, 160, 160, 160, 160, 160, 160, 160, 160, 160, 160, 160, 160, 160, 160, 160, 160, 161, 161, 161, 161, 161, 161, 161, 161, 161, 161, 161, 161, 161, 161, 161, 161, 161, 161, 161, 161, 162, 162, 162, 162, 162, 162, 162, 162, 162, 162, 162, 162, 162, 162, 162, 162, 162, 162, 162, 162, 163, 163, 163, 163, 163, 163, 163, 163, 163, 163, 163, 163, 163, 163, 163, 163, 163, 163, 163, 163, 164, 164, 164, 164, 164, 164, 164, 164, 164, 164, 164, 164, 164, 164, 164, 164, 164, 164, 164, 165, 165, 165, 165, 165, 165, 165, 165, 165]\n"
          ]
        }
      ]
    },
    {
      "cell_type": "markdown",
      "source": [
        "Plot the timeline"
      ],
      "metadata": {
        "id": "LNpBGR_8q4lw"
      }
    },
    {
      "cell_type": "code",
      "source": [
        "# Define a color palette for the gestures\n",
        "colors = {'happy': 'blue', 'sad': 'green', 'insecure': 'red', 'closed': 'purple', 'open': 'orange'}\n",
        "\n",
        "# Create a figure and axis object\n",
        "fig, ax = plt.subplots()\n",
        "\n",
        "# Plot the gestures as vertical lines at their corresponding timestamps\n",
        "lines = {}\n",
        "for i in range(len(seconds)):\n",
        "    gesture_type = gesture_types[i]\n",
        "    color = colors[gesture_type]\n",
        "    if gesture_type not in lines:\n",
        "        lines[gesture_type] = ax.axvline(x=seconds[i], ymin=0.2, ymax=0.8, linewidth=2, color=color, label=gesture_type)\n",
        "    else:\n",
        "        ax.axvline(x=seconds[i], ymin=0.2, ymax=0.8, linewidth=2, color=color)\n",
        "\n",
        "# Set the plot title and axis labels\n",
        "ax.set_title('Interview Gesture Timeline')\n",
        "ax.set_xlabel('Time (seconds)')\n",
        "ax.set_ylabel('Gesture')\n",
        "\n",
        "# Create a legend with the gesture types\n",
        "ax.legend(lines.values(), lines.keys(), loc='center left', bbox_to_anchor=(1, 0.5))\n",
        "\n",
        "# Show the plot\n",
        "plt.show()"
      ],
      "metadata": {
        "id": "yg5-FpfRH--o",
        "outputId": "36a0d31b-36ba-4d55-dc4c-7d04b805a5ce",
        "colab": {
          "base_uri": "https://localhost:8080/",
          "height": 295
        }
      },
      "execution_count": 116,
      "outputs": [
        {
          "output_type": "display_data",
          "data": {
            "text/plain": [
              "<Figure size 432x288 with 1 Axes>"
            ],
            "image/png": "[encoded data removed]"
          },
          "metadata": {
            "needs_background": "light"
          }
        }
      ]
    },
    {
      "cell_type": "markdown",
      "source": [
        "## Timeline with random data"
      ],
      "metadata": {
        "id": "U_-h6bSPRR6v"
      }
    },
    {
      "cell_type": "code",
      "source": [
        "gesture_types_arr = ['happy', 'sad', 'insecure', 'closed', 'open']\n",
        "gesture_types_np = np.random.choice(gesture_types_arr, size=len(gestures_data))\n"
      ],
      "metadata": {
        "id": "yHcq_T-sRgLg"
      },
      "execution_count": 117,
      "outputs": []
    },
    {
      "cell_type": "code",
      "source": [
        "# Define a color palette for the gestures\n",
        "colors = {'happy': 'blue', 'sad': 'green', 'insecure': 'red', 'closed': 'purple', 'open': 'orange'}\n",
        "\n",
        "# Create a figure and axis object\n",
        "fig, ax = plt.subplots()\n",
        "\n",
        "# Plot the gestures as vertical lines at their corresponding timestamps\n",
        "lines = {}\n",
        "for i in range(len(seconds)):\n",
        "    gesture_type = gesture_types_np[i]\n",
        "    color = colors[gesture_type]\n",
        "    if gesture_type not in lines:\n",
        "        lines[gesture_type] = ax.axvline(x=seconds[i], ymin=0.2, ymax=0.8, linewidth=2, color=color, label=gesture_type)\n",
        "    else:\n",
        "        ax.axvline(x=seconds[i], ymin=0.2, ymax=0.8, linewidth=2, color=color)\n",
        "\n",
        "# Set the plot title and axis labels\n",
        "ax.set_title('Interview Gesture Timeline')\n",
        "ax.set_xlabel('Time (seconds)')\n",
        "ax.set_ylabel('Gesture')\n",
        "\n",
        "# Create a legend with the gesture types\n",
        "ax.legend(lines.values(), lines.keys(), loc='center left', bbox_to_anchor=(1, 0.5))\n",
        "\n",
        "# Show the plot\n",
        "plt.show()"
      ],
      "metadata": {
        "id": "LiNhlSYbRXXJ",
        "outputId": "26fcdd4b-c7fb-46f1-cd8c-f4f9d7b87bee",
        "colab": {
          "base_uri": "https://localhost:8080/",
          "height": 295
        }
      },
      "execution_count": 118,
      "outputs": [
        {
          "output_type": "display_data",
          "data": {
            "text/plain": [
              "<Figure size 432x288 with 1 Axes>"
            ],
            "image/png": "[encoded data removed]"
          },
          "metadata": {
            "needs_background": "light"
          }
        }
      ]
    },
    {
      "cell_type": "markdown",
      "source": [
        "### Analayze timeline data using XGBoost"
      ],
      "metadata": {
        "id": "Y5Ic-lVFps71"
      }
    },
    {
      "cell_type": "markdown",
      "source": [
        "Imports"
      ],
      "metadata": {
        "id": "wNg6qqPzsuo4"
      }
    },
    {
      "cell_type": "code",
      "source": [
        "import pandas as pd\n",
        "import xgboost as xgb\n",
        "from sklearn.metrics import accuracy_score\n",
        "from sklearn.model_selection import train_test_split\n",
        "from sklearn.preprocessing import LabelEncoder\n",
        "import numpy as np"
      ],
      "metadata": {
        "id": "tSyt1BhEsxDW"
      },
      "execution_count": 119,
      "outputs": []
    },
    {
      "cell_type": "markdown",
      "source": [
        "Load data"
      ],
      "metadata": {
        "id": "I7_pQWtPuZeu"
      }
    },
    {
      "cell_type": "code",
      "source": [
        "# Load the timeline data\n",
        "# You can replace this with your own code to load the timeline\n",
        "timeline_data = pd.read_csv('/content/happyvideo1ts.csv')\n",
        "\n",
        "X = timeline_data['timestamp']\n",
        "gesture_types = ['happy', 'sad', 'insecure', 'closed', 'open']\n",
        "\n",
        "timeline_data['class'] = np.random.choice(gesture_types, size=len(timeline_data))\n",
        "timeline_data['class'].head()\n",
        "y = timeline_data['class']\n"
      ],
      "metadata": {
        "id": "a3NzXXsl57Dk"
      },
      "execution_count": 120,
      "outputs": []
    },
    {
      "cell_type": "code",
      "source": [
        "label_encoder = LabelEncoder()\n",
        "\n",
        "# Fit and transform the array to label-encoded classes\n",
        "y = label_encoder.fit_transform(y)\n",
        "\n",
        "# Split the data into training and testing sets\n",
        "# You can adjust the test_size parameter to change the split ratio\n",
        "X_train, X_test, y_train, y_test = train_test_split(X, y, test_size=0.2, random_state=42)\n",
        "\n",
        "# Define the XGBoost model\n",
        "params = {\n",
        "    'objective': 'multi:softmax',\n",
        "    'num_class': len(np.unique(y))\n",
        "}\n",
        "model = xgb.XGBClassifier(params=params)\n",
        "\n",
        "# Train the model on the training data\n",
        "model.fit(X_train, y_train)\n",
        "\n",
        "# Make predictions on the testing data\n",
        "y_pred = model.predict(X_test)\n",
        "\n",
        "# Evaluate the performance of the model\n",
        "accuracy = accuracy_score(y_test, y_pred)\n",
        "print('Accuracy:', accuracy)\n"
      ],
      "metadata": {
        "id": "6dCQEjoZpx9K",
        "outputId": "1021e01d-2f88-4617-9aeb-99e8e7941d00",
        "colab": {
          "base_uri": "https://localhost:8080/"
        }
      },
      "execution_count": 123,
      "outputs": [
        {
          "output_type": "stream",
          "name": "stdout",
          "text": [
            "[19:53:23] WARNING: ../src/learner.cc:767: \n",
            "Parameters: { \"params\" } are not used.\n",
            "\n",
            "Accuracy: 0.21580547112462006\n"
          ]
        }
      ]
    },
    {
      "cell_type": "markdown",
      "source": [
        "User gives time in the interview that is interested about, we predict the gesture at this time"
      ],
      "metadata": {
        "id": "ewwxwcoJ9m7f"
      }
    },
    {
      "cell_type": "code",
      "source": [
        "\n",
        "\n",
        "X = timeline_data['timestamp']\n",
        "datetimes = [datetime.datetime.fromtimestamp(t) for t in X]\n",
        "# Calculate the time delta between the first timestamp and each subsequent timestamp\n",
        "deltas = [(d - datetimes[0]).total_seconds() for d in datetimes]\n",
        "\n",
        "# Convert the time deltas to a zero-indexed list of seconds\n",
        "seconds = [int(delta) for delta in deltas]\n",
        "index = seconds.index(54)\n",
        "X = pd.Series(data=X, index=[index])\n",
        "y_pred = model.predict(X)\n",
        "for pred in y_pred:\n",
        "  print(gesture_types[pred])"
      ],
      "metadata": {
        "id": "r8WpGb8g9Bwm",
        "outputId": "72ce8895-10f1-4554-b414-b4aec36d3329",
        "colab": {
          "base_uri": "https://localhost:8080/"
        }
      },
      "execution_count": 124,
      "outputs": [
        {
          "output_type": "stream",
          "name": "stdout",
          "text": [
            "open\n"
          ]
        }
      ]
    },
    {
      "cell_type": "markdown",
      "source": [
        "## Work on second csv"
      ],
      "metadata": {
        "id": "qjPOTPiQxe1p"
      }
    },
    {
      "cell_type": "code",
      "source": [
        "gestures_class = pd.read_csv('/content/interview_1_class (1).csv')\n",
        "\n",
        "gestures_class_clean = gestures_class.drop(columns=\"Unnamed: 0\")"
      ],
      "metadata": {
        "id": "ey8czP2Qxg-d"
      },
      "execution_count": 125,
      "outputs": []
    },
    {
      "cell_type": "code",
      "source": [
        "gestures_class_clean['heppy'].hist()"
      ],
      "metadata": {
        "id": "QYzDX-IOx5k5",
        "outputId": "351883f8-db7f-4ea5-fec3-9583fa78614c",
        "colab": {
          "base_uri": "https://localhost:8080/",
          "height": 282
        }
      },
      "execution_count": 127,
      "outputs": [
        {
          "output_type": "execute_result",
          "data": {
            "text/plain": [
              "<Axes: >"
            ]
          },
          "metadata": {},
          "execution_count": 127
        },
        {
          "output_type": "display_data",
          "data": {
            "text/plain": [
              "<Figure size 432x288 with 1 Axes>"
            ],
            "image/png": "[encoded data removed]"
          },
          "metadata": {
            "needs_background": "light"
          }
        }
      ]
    },
    {
      "cell_type": "code",
      "source": [
        "gestures_class_clean['sad'].hist()"
      ],
      "metadata": {
        "id": "egeVK_X6yLeo",
        "outputId": "2f36ecb1-6305-446a-8f20-4f5fc3020baf",
        "colab": {
          "base_uri": "https://localhost:8080/",
          "height": 282
        }
      },
      "execution_count": 129,
      "outputs": [
        {
          "output_type": "execute_result",
          "data": {
            "text/plain": [
              "<Axes: >"
            ]
          },
          "metadata": {},
          "execution_count": 129
        },
        {
          "output_type": "display_data",
          "data": {
            "text/plain": [
              "<Figure size 432x288 with 1 Axes>"
            ],
            "image/png": "[encoded data removed]"
          },
          "metadata": {
            "needs_background": "light"
          }
        }
      ]
    },
    {
      "cell_type": "code",
      "source": [
        "gestures_class_clean['open'].hist()"
      ],
      "metadata": {
        "id": "f9x5chWCEiU6",
        "outputId": "823fde82-25c9-4afa-c5fc-18822ee226db",
        "colab": {
          "base_uri": "https://localhost:8080/",
          "height": 295
        }
      },
      "execution_count": 130,
      "outputs": [
        {
          "output_type": "execute_result",
          "data": {
            "text/plain": [
              "<Axes: >"
            ]
          },
          "metadata": {},
          "execution_count": 130
        },
        {
          "output_type": "display_data",
          "data": {
            "text/plain": [
              "<Figure size 432x288 with 1 Axes>"
            ],
            "image/png": "[encoded data removed]"
          },
          "metadata": {
            "needs_background": "light"
          }
        }
      ]
    },
    {
      "cell_type": "code",
      "source": [
        "gestures_class_clean['insecure'].hist()"
      ],
      "metadata": {
        "id": "_aLRehoVEr9O",
        "outputId": "8e9d33d5-428e-494c-8b80-2efbe40b855d",
        "colab": {
          "base_uri": "https://localhost:8080/",
          "height": 282
        }
      },
      "execution_count": 131,
      "outputs": [
        {
          "output_type": "execute_result",
          "data": {
            "text/plain": [
              "<Axes: >"
            ]
          },
          "metadata": {},
          "execution_count": 131
        },
        {
          "output_type": "display_data",
          "data": {
            "text/plain": [
              "<Figure size 432x288 with 1 Axes>"
            ],
            "image/png": "[encoded data removed]"
          },
          "metadata": {
            "needs_background": "light"
          }
        }
      ]
    },
    {
      "cell_type": "code",
      "source": [
        "gestures_class_clean['closed'].hist()"
      ],
      "metadata": {
        "id": "zDHMfuipE5ro",
        "outputId": "7bc18154-7781-42b4-a1e6-0cec336d16de",
        "colab": {
          "base_uri": "https://localhost:8080/",
          "height": 282
        }
      },
      "execution_count": 132,
      "outputs": [
        {
          "output_type": "execute_result",
          "data": {
            "text/plain": [
              "<Axes: >"
            ]
          },
          "metadata": {},
          "execution_count": 132
        },
        {
          "output_type": "display_data",
          "data": {
            "text/plain": [
              "<Figure size 432x288 with 1 Axes>"
            ],
            "image/png": "[encoded data removed]"
          },
          "metadata": {
            "needs_background": "light"
          }
        }
      ]
    },
    {
      "cell_type": "markdown",
      "source": [
        "Calculate the mean of probabilities, and creating new row with the most likely probability class."
      ],
      "metadata": {
        "id": "8km8v1NFvo98"
      }
    },
    {
      "cell_type": "code",
      "source": [
        "import pandas as pd\n",
        "import numpy as np\n",
        "\n",
        "# Calculate the mean probability for each gesture\n",
        "means = gestures_class_clean.mean()\n",
        "\n",
        "# Print the mean probabilities for each gesture\n",
        "print('Mean Probabilities:')\n",
        "print(means)\n",
        "\n",
        "# Determine the most likely gesture for each record\n",
        "gestures_class['most_likely'] = np.argmax(gestures_class.iloc[:, 1:].values, axis=1)\n",
        "\n",
        "# Print the most likely gesture for each record\n",
        "print('Most Likely Gestures:')\n",
        "print(gestures_class['most_likely'])\n"
      ],
      "metadata": {
        "id": "ORacyI76WSwM",
        "outputId": "ad11ae31-2f92-4eeb-eb00-eeda546fc89e",
        "colab": {
          "base_uri": "https://localhost:8080/"
        }
      },
      "execution_count": 133,
      "outputs": [
        {
          "output_type": "stream",
          "name": "stdout",
          "text": [
            "Mean Probabilities:\n",
            "heppy       3.667190e-01\n",
            "sad         6.329805e-01\n",
            "insecure    1.277291e-04\n",
            "closed      1.727416e-04\n",
            "open        1.452761e-09\n",
            "dtype: float64\n",
            "Most Likely Gestures:\n",
            "0      0\n",
            "1      0\n",
            "2      0\n",
            "3      0\n",
            "4      0\n",
            "      ..\n",
            "339    1\n",
            "340    1\n",
            "341    0\n",
            "342    0\n",
            "343    0\n",
            "Name: most_likely, Length: 344, dtype: int64\n"
          ]
        }
      ]
    },
    {
      "cell_type": "markdown",
      "source": [
        "Plot the most likely gestures during the interview"
      ],
      "metadata": {
        "id": "y9lqD0ADv4eF"
      }
    },
    {
      "cell_type": "code",
      "source": [
        "# Define a color mapping dictionary\n",
        "gesture_colors = {\n",
        "    0: 'red',\n",
        "    1: 'green',\n",
        "    2: 'blue',\n",
        "    3: 'orange',\n",
        "    4: 'purple'\n",
        "}\n",
        "\n",
        "# Create a new figure and set the size\n",
        "plt.figure(figsize=(12,6))\n",
        "\n",
        "# Create a scatter plot of the most likely gesture over time\n",
        "plt.scatter(gestures_class.index, gestures_class['most_likely'], s=10, c=gestures_class['most_likely'].map(gesture_colors))\n",
        "\n",
        "# Set the title and axis labels\n",
        "plt.title('Most Likely Gesture Timeline')\n",
        "plt.xlabel('Record Index')\n",
        "plt.ylabel('Gesture Type')\n",
        "\n",
        "# Display the graph\n",
        "plt.show()"
      ],
      "metadata": {
        "id": "DBzCkkakbamO",
        "outputId": "2d515c02-5ea3-4e47-e80a-1e7a68a961d8",
        "colab": {
          "base_uri": "https://localhost:8080/",
          "height": 404
        }
      },
      "execution_count": 136,
      "outputs": [
        {
          "output_type": "display_data",
          "data": {
            "text/plain": [
              "<Figure size 864x432 with 1 Axes>"
            ],
            "image/png": "[encoded data removed]"
          },
          "metadata": {
            "needs_background": "light"
          }
        }
      ]
    },
    {
      "cell_type": "markdown",
      "source": [
        "Print the most likely gesture in all of the video"
      ],
      "metadata": {
        "id": "ayFl1_SFwGUg"
      }
    },
    {
      "cell_type": "code",
      "source": [
        "# Count the number of occurrences of each gesture\n",
        "gesture_counts = gestures_class['most_likely'].value_counts()\n",
        "\n",
        "# Print the most likely gesture and its count\n",
        "most_likely_gesture = gesture_counts.index[0]\n",
        "print(f\"The most likely gesture is '{most_likely_gesture}' with {gesture_counts[most_likely_gesture]} occurrences.\")\n"
      ],
      "metadata": {
        "id": "4VjmR9O_b-QS",
        "outputId": "ab85f21c-dcbb-48b8-dce3-56e088effe1d",
        "colab": {
          "base_uri": "https://localhost:8080/"
        }
      },
      "execution_count": 137,
      "outputs": [
        {
          "output_type": "stream",
          "name": "stdout",
          "text": [
            "The most likely gesture is '1' with 216 occurrences.\n"
          ]
        }
      ]
    }
  ]
}