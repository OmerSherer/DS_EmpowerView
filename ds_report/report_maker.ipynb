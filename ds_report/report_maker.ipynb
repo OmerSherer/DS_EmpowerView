{
  "nbformat": 4,
  "nbformat_minor": 0,
  "metadata": {
    "colab": {
      "provenance": [],
      "authorship_tag": "ABX9TyN104qb991UwVZLz9yuoY2B",
      "include_colab_link": true
    },
    "kernelspec": {
      "name": "python3",
      "display_name": "Python 3"
    },
    "language_info": {
      "name": "python"
    }
  },
  "cells": [
    {
      "cell_type": "markdown",
      "metadata": {
        "id": "view-in-github",
        "colab_type": "text"
      },
      "source": [
        "<a href=\"https://colab.research.google.com/github/OmerSherer/DS_EmpowerView/blob/main/ds_report/report_maker.ipynb\" target=\"_parent\"><img src=\"https://colab.research.google.com/assets/colab-badge.svg\" alt=\"Open In Colab\"/></a>"
      ]
    },
    {
      "cell_type": "markdown",
      "source": [
        "# Report Maker for Empowerview project "
      ],
      "metadata": {
        "id": "VSyGN7kjnSXR"
      }
    },
    {
      "cell_type": "markdown",
      "source": [
        "### Creating a timeline"
      ],
      "metadata": {
        "id": "2MFKnfMvnddK"
      }
    },
    {
      "cell_type": "code",
      "execution_count": null,
      "metadata": {
        "id": "X4V61ZLnnRaQ"
      },
      "outputs": [],
      "source": [
        "import pandas as pd\n",
        "import matplotlib.pyplot as plt\n",
        "\n",
        "# Load the output of the gesture recognition neural network\n",
        "# You can replace this with your own code to load the output\n",
        "gestures_data = pd.read_csv('output.csv')\n",
        "\n",
        "# Extract the relevant features\n",
        "# You can replace these with your own features\n",
        "timestamps = gestures_data['timestamp']\n",
        "gesture_types = gestures_data['gesture_type']\n",
        "\n",
        "# Create a timeline plot\n",
        "fig, ax = plt.subplots()\n",
        "\n",
        "# Plot the gestures as vertical lines at their corresponding timestamps\n",
        "for i in range(len(timestamps)):\n",
        "    ax.axvline(x=timestamps[i], ymin=0.2, ymax=0.8, linewidth=2, color='blue')\n",
        "    ax.text(timestamps[i], 0.1, gesture_types[i], ha='center', fontsize=10)\n",
        "\n",
        "# Set the plot title and axis labels\n",
        "ax.set_title('Interview Gesture Timeline')\n",
        "ax.set_xlabel('Time (seconds)')\n",
        "ax.set_ylabel('Gesture')\n",
        "\n",
        "# Show the plot\n",
        "plt.show()\n"
      ]
    },
    {
      "cell_type": "markdown",
      "source": [
        "### Analayze timeline data using XGBoost"
      ],
      "metadata": {
        "id": "Y5Ic-lVFps71"
      }
    },
    {
      "cell_type": "code",
      "source": [
        "import pandas as pd\n",
        "import xgboost as xgb\n",
        "from sklearn.metrics import accuracy_score\n",
        "from sklearn.model_selection import train_test_split\n",
        "\n",
        "# Load the timeline data\n",
        "# You can replace this with your own code to load the timeline\n",
        "timeline_data = pd.read_csv('timeline.csv')\n",
        "\n",
        "# Extract the relevant features and target variable\n",
        "# You can replace these with your own features\n",
        "X = timeline_data[['duration', 'amplitude']]\n",
        "y = timeline_data['gesture_type']\n",
        "\n",
        "# Split the data into training and testing sets\n",
        "# You can adjust the test_size parameter to change the split ratio\n",
        "X_train, X_test, y_train, y_test = train_test_split(X, y, test_size=0.2, random_state=42)\n",
        "\n",
        "# Define the XGBoost model\n",
        "params = {\n",
        "    'objective': 'multi:softmax',\n",
        "    'num_class': len(y.unique())\n",
        "}\n",
        "model = xgb.XGBClassifier(params=params)\n",
        "\n",
        "# Train the model on the training data\n",
        "model.fit(X_train, y_train)\n",
        "\n",
        "# Make predictions on the testing data\n",
        "y_pred = model.predict(X_test)\n",
        "\n",
        "# Evaluate the performance of the model\n",
        "accuracy = accuracy_score(y_test, y_pred)\n",
        "print('Accuracy:', accuracy)\n"
      ],
      "metadata": {
        "id": "6dCQEjoZpx9K"
      },
      "execution_count": null,
      "outputs": []
    }
  ]
}