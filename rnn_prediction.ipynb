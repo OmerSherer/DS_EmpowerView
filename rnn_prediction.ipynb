{
  "nbformat": 4,
  "nbformat_minor": 0,
  "metadata": {
    "colab": {
      "provenance": [],
      "toc_visible": true,
      "authorship_tag": "ABX9TyOcmAEdB5AjwRowg6CYmPdJ",
      "include_colab_link": true
    },
    "kernelspec": {
      "name": "python3",
      "display_name": "Python 3"
    },
    "language_info": {
      "name": "python"
    }
  },
  "cells": [
    {
      "cell_type": "markdown",
      "metadata": {
        "id": "view-in-github",
        "colab_type": "text"
      },
      "source": [
        "<a href=\"https://colab.research.google.com/github/OmerSherer/DS_EmpowerView/blob/main/rnn_prediction.ipynb\" target=\"_parent\"><img src=\"https://colab.research.google.com/assets/colab-badge.svg\" alt=\"Open In Colab\"/></a>"
      ]
    },
    {
      "cell_type": "code",
      "source": [
        "!gdown --id 1zXDlePqa2Uhybiq5Bgtc66Yiwh_6PT22"
      ],
      "metadata": {
        "colab": {
          "base_uri": "https://localhost:8080/"
        },
        "id": "5QbYnCZ8h8SD",
        "outputId": "aed01d0f-b6d3-44c3-8731-4f99994ebfb3"
      },
      "execution_count": 1,
      "outputs": [
        {
          "output_type": "stream",
          "name": "stdout",
          "text": [
            "/usr/local/lib/python3.9/dist-packages/gdown/cli.py:121: FutureWarning: Option `--id` was deprecated in version 4.3.1 and will be removed in 5.0. You don't need to pass it anymore to use a file ID.\n",
            "  warnings.warn(\n",
            "Downloading...\n",
            "From: https://drive.google.com/uc?id=1zXDlePqa2Uhybiq5Bgtc66Yiwh_6PT22\n",
            "To: /content/train_set.csv\n",
            "100% 30.8M/30.8M [00:00<00:00, 186MB/s]\n"
          ]
        }
      ]
    },
    {
      "cell_type": "markdown",
      "source": [
        "## Data set"
      ],
      "metadata": {
        "id": "l-gfG_HtA0jb"
      }
    },
    {
      "cell_type": "code",
      "execution_count": 39,
      "metadata": {
        "id": "Zrgx6o5WhRCh"
      },
      "outputs": [],
      "source": [
        "import numpy as np\n",
        "import pandas as pd\n",
        "from keras.models import Sequential\n",
        "from keras.layers import Dense, LSTM\n",
        "from sklearn.preprocessing import LabelEncoder\n",
        "from keras.utils import to_categorical\n",
        "from sklearn.model_selection import train_test_split\n",
        "\n",
        "df = pd.read_csv(\"/content/train_set.csv\",sep=\",\")\n",
        "X = df.drop(df.columns[0], axis=1).to_numpy()\n",
        "y = df['class'].to_numpy()\n",
        "\n",
        "le = LabelEncoder()\n",
        "y_encoded = le.fit_transform(y)\n",
        "y_onehot = to_categorical(y_encoded)\n",
        "\n",
        "\n",
        "X = X.reshape((X.shape[0], 501, 4))\n",
        "\n",
        "X_train, X_test, y_train, y_test = train_test_split(X, y_onehot, test_size=0.3, random_state=42)"
      ]
    },
    {
      "cell_type": "markdown",
      "source": [
        "## Creating the model"
      ],
      "metadata": {
        "id": "JRj0zn1OAyBp"
      }
    },
    {
      "cell_type": "code",
      "source": [
        "model = Sequential()\n",
        "model.add(LSTM(50, input_shape=(501, 4)))\n",
        "model.add(Dense(5, activation='softmax'))  # 5 classes output vector\n",
        "\n",
        "model.summary()"
      ],
      "metadata": {
        "colab": {
          "base_uri": "https://localhost:8080/"
        },
        "id": "vpon2Uat0Pof",
        "outputId": "5358718e-5973-4891-dea6-0485ead23b24"
      },
      "execution_count": 40,
      "outputs": [
        {
          "output_type": "stream",
          "name": "stdout",
          "text": [
            "Model: \"sequential_8\"\n",
            "_________________________________________________________________\n",
            " Layer (type)                Output Shape              Param #   \n",
            "=================================================================\n",
            " lstm_8 (LSTM)               (None, 50)                11000     \n",
            "                                                                 \n",
            " dense_8 (Dense)             (None, 5)                 255       \n",
            "                                                                 \n",
            "=================================================================\n",
            "Total params: 11,255\n",
            "Trainable params: 11,255\n",
            "Non-trainable params: 0\n",
            "_________________________________________________________________\n"
          ]
        }
      ]
    },
    {
      "cell_type": "markdown",
      "source": [
        "## Training the model"
      ],
      "metadata": {
        "id": "jRQlKoe5Av0V"
      }
    },
    {
      "cell_type": "code",
      "source": [
        "model.compile(loss='categorical_crossentropy', optimizer='adam', metrics=['accuracy'])\n",
        "\n",
        "model.fit(X_train, y_train, epochs=100, batch_size=32)"
      ],
      "metadata": {
        "colab": {
          "base_uri": "https://localhost:8080/"
        },
        "id": "55RanKRK0M5q",
        "outputId": "9d849583-774b-46e6-90b5-eeb04685077d"
      },
      "execution_count": 41,
      "outputs": [
        {
          "output_type": "stream",
          "name": "stdout",
          "text": [
            "Epoch 1/100\n",
            "36/36 [==============================] - 10s 212ms/step - loss: 1.4422 - accuracy: 0.3330\n",
            "Epoch 2/100\n",
            "36/36 [==============================] - 7s 198ms/step - loss: 1.1081 - accuracy: 0.4895\n",
            "Epoch 3/100\n",
            "36/36 [==============================] - 8s 229ms/step - loss: 1.1212 - accuracy: 0.4710\n",
            "Epoch 4/100\n",
            "36/36 [==============================] - 7s 191ms/step - loss: 1.0867 - accuracy: 0.4657\n",
            "Epoch 5/100\n",
            "36/36 [==============================] - 8s 231ms/step - loss: 1.0618 - accuracy: 0.4868\n",
            "Epoch 6/100\n",
            "36/36 [==============================] - 7s 205ms/step - loss: 1.0581 - accuracy: 0.4868\n",
            "Epoch 7/100\n",
            "36/36 [==============================] - 8s 207ms/step - loss: 1.0458 - accuracy: 0.4895\n",
            "Epoch 8/100\n",
            "36/36 [==============================] - 8s 228ms/step - loss: 1.0454 - accuracy: 0.4903\n",
            "Epoch 9/100\n",
            "36/36 [==============================] - 7s 189ms/step - loss: 1.0367 - accuracy: 0.4956\n",
            "Epoch 10/100\n",
            "36/36 [==============================] - 8s 230ms/step - loss: 1.0300 - accuracy: 0.4965\n",
            "Epoch 11/100\n",
            "36/36 [==============================] - 7s 199ms/step - loss: 1.0280 - accuracy: 0.4965\n",
            "Epoch 12/100\n",
            "36/36 [==============================] - 8s 218ms/step - loss: 1.0250 - accuracy: 0.4974\n",
            "Epoch 13/100\n",
            "36/36 [==============================] - 8s 228ms/step - loss: 1.0241 - accuracy: 0.4974\n",
            "Epoch 14/100\n",
            "36/36 [==============================] - 7s 190ms/step - loss: 1.0257 - accuracy: 0.4903\n",
            "Epoch 15/100\n",
            "36/36 [==============================] - 8s 229ms/step - loss: 1.0294 - accuracy: 0.4974\n",
            "Epoch 16/100\n",
            "36/36 [==============================] - 7s 197ms/step - loss: 1.0217 - accuracy: 0.4974\n",
            "Epoch 17/100\n",
            "36/36 [==============================] - 8s 218ms/step - loss: 1.0226 - accuracy: 0.5009\n",
            "Epoch 18/100\n",
            "36/36 [==============================] - 8s 229ms/step - loss: 1.0242 - accuracy: 0.4974\n",
            "Epoch 19/100\n",
            "36/36 [==============================] - 7s 193ms/step - loss: 1.0222 - accuracy: 0.4974\n",
            "Epoch 20/100\n",
            "36/36 [==============================] - 8s 232ms/step - loss: 1.0177 - accuracy: 0.4974\n",
            "Epoch 21/100\n",
            "36/36 [==============================] - 7s 197ms/step - loss: 1.0264 - accuracy: 0.4974\n",
            "Epoch 22/100\n",
            "36/36 [==============================] - 8s 216ms/step - loss: 1.0490 - accuracy: 0.4982\n",
            "Epoch 23/100\n",
            "36/36 [==============================] - 8s 229ms/step - loss: 1.0575 - accuracy: 0.4938\n",
            "Epoch 24/100\n",
            "36/36 [==============================] - 7s 191ms/step - loss: 1.0265 - accuracy: 0.4947\n",
            "Epoch 25/100\n",
            "36/36 [==============================] - 8s 230ms/step - loss: 1.0204 - accuracy: 0.4974\n",
            "Epoch 26/100\n",
            "36/36 [==============================] - 7s 191ms/step - loss: 1.0259 - accuracy: 0.4974\n",
            "Epoch 27/100\n",
            "36/36 [==============================] - 8s 225ms/step - loss: 1.0183 - accuracy: 0.4974\n",
            "Epoch 28/100\n",
            "36/36 [==============================] - 8s 228ms/step - loss: 1.0213 - accuracy: 0.4974\n",
            "Epoch 29/100\n",
            "36/36 [==============================] - 7s 189ms/step - loss: 1.0116 - accuracy: 0.4974\n",
            "Epoch 30/100\n",
            "36/36 [==============================] - 8s 228ms/step - loss: 1.0093 - accuracy: 0.5088\n",
            "Epoch 31/100\n",
            "36/36 [==============================] - 7s 194ms/step - loss: 1.0073 - accuracy: 0.5070\n",
            "Epoch 32/100\n",
            "36/36 [==============================] - 8s 228ms/step - loss: 1.0121 - accuracy: 0.4938\n",
            "Epoch 33/100\n",
            "36/36 [==============================] - 9s 238ms/step - loss: 1.0185 - accuracy: 0.5053\n",
            "Epoch 34/100\n",
            "36/36 [==============================] - 7s 194ms/step - loss: 1.5020 - accuracy: 0.4121\n",
            "Epoch 35/100\n",
            "36/36 [==============================] - 8s 228ms/step - loss: 1.5985 - accuracy: 0.3409\n",
            "Epoch 36/100\n",
            "36/36 [==============================] - 7s 202ms/step - loss: 1.5025 - accuracy: 0.3409\n",
            "Epoch 37/100\n",
            "36/36 [==============================] - 8s 217ms/step - loss: 1.4848 - accuracy: 0.3409\n",
            "Epoch 38/100\n",
            "36/36 [==============================] - 8s 231ms/step - loss: 1.4779 - accuracy: 0.3409\n",
            "Epoch 39/100\n",
            "36/36 [==============================] - 7s 193ms/step - loss: 1.4731 - accuracy: 0.3409\n",
            "Epoch 40/100\n",
            "36/36 [==============================] - 8s 229ms/step - loss: 1.4671 - accuracy: 0.3409\n",
            "Epoch 41/100\n",
            "36/36 [==============================] - 7s 196ms/step - loss: 1.4594 - accuracy: 0.3409\n",
            "Epoch 42/100\n",
            "36/36 [==============================] - 8s 221ms/step - loss: 1.4454 - accuracy: 0.3409\n",
            "Epoch 43/100\n",
            "36/36 [==============================] - 8s 232ms/step - loss: 1.3971 - accuracy: 0.3418\n",
            "Epoch 44/100\n",
            "36/36 [==============================] - 7s 196ms/step - loss: 1.2569 - accuracy: 0.4930\n",
            "Epoch 45/100\n",
            "36/36 [==============================] - 8s 232ms/step - loss: 1.1568 - accuracy: 0.4956\n",
            "Epoch 46/100\n",
            "36/36 [==============================] - 8s 216ms/step - loss: 1.1040 - accuracy: 0.4974\n",
            "Epoch 47/100\n",
            "36/36 [==============================] - 8s 208ms/step - loss: 1.0803 - accuracy: 0.4965\n",
            "Epoch 48/100\n",
            "36/36 [==============================] - 8s 230ms/step - loss: 1.0582 - accuracy: 0.4974\n",
            "Epoch 49/100\n",
            "36/36 [==============================] - 7s 193ms/step - loss: 1.0606 - accuracy: 0.4930\n",
            "Epoch 50/100\n",
            "36/36 [==============================] - 8s 235ms/step - loss: 1.1599 - accuracy: 0.4684\n",
            "Epoch 51/100\n",
            "36/36 [==============================] - 8s 227ms/step - loss: 1.0439 - accuracy: 0.4974\n",
            "Epoch 52/100\n",
            "36/36 [==============================] - 7s 193ms/step - loss: 1.0356 - accuracy: 0.4974\n",
            "Epoch 53/100\n",
            "36/36 [==============================] - 8s 228ms/step - loss: 1.0296 - accuracy: 0.4974\n",
            "Epoch 54/100\n",
            "36/36 [==============================] - 7s 190ms/step - loss: 1.0265 - accuracy: 0.4974\n",
            "Epoch 55/100\n",
            "36/36 [==============================] - 8s 230ms/step - loss: 1.0269 - accuracy: 0.4974\n",
            "Epoch 56/100\n",
            "36/36 [==============================] - 8s 232ms/step - loss: 1.0204 - accuracy: 0.4974\n",
            "Epoch 57/100\n",
            "36/36 [==============================] - 7s 197ms/step - loss: 1.0201 - accuracy: 0.4974\n",
            "Epoch 58/100\n",
            "36/36 [==============================] - 8s 230ms/step - loss: 1.0204 - accuracy: 0.4974\n",
            "Epoch 59/100\n",
            "36/36 [==============================] - 7s 194ms/step - loss: 1.0182 - accuracy: 0.4974\n",
            "Epoch 60/100\n",
            "36/36 [==============================] - 8s 230ms/step - loss: 1.0188 - accuracy: 0.4974\n",
            "Epoch 61/100\n",
            "36/36 [==============================] - 9s 239ms/step - loss: 1.0162 - accuracy: 0.4974\n",
            "Epoch 62/100\n",
            "36/36 [==============================] - 7s 193ms/step - loss: 1.0150 - accuracy: 0.4974\n",
            "Epoch 63/100\n",
            "36/36 [==============================] - 8s 233ms/step - loss: 1.0111 - accuracy: 0.4974\n",
            "Epoch 64/100\n",
            "36/36 [==============================] - 7s 192ms/step - loss: 1.0102 - accuracy: 0.4974\n",
            "Epoch 65/100\n",
            "36/36 [==============================] - 8s 229ms/step - loss: 1.0120 - accuracy: 0.4974\n",
            "Epoch 66/100\n",
            "36/36 [==============================] - 9s 240ms/step - loss: 1.0099 - accuracy: 0.4974\n",
            "Epoch 67/100\n",
            "36/36 [==============================] - 7s 198ms/step - loss: 1.0039 - accuracy: 0.4965\n",
            "Epoch 68/100\n",
            "36/36 [==============================] - 8s 229ms/step - loss: 1.0044 - accuracy: 0.4956\n",
            "Epoch 69/100\n",
            "36/36 [==============================] - 7s 197ms/step - loss: 1.0240 - accuracy: 0.4947\n",
            "Epoch 70/100\n",
            "36/36 [==============================] - 8s 222ms/step - loss: 1.0197 - accuracy: 0.4947\n",
            "Epoch 71/100\n",
            "36/36 [==============================] - 8s 228ms/step - loss: 1.0244 - accuracy: 0.4921\n",
            "Epoch 72/100\n",
            "36/36 [==============================] - 7s 197ms/step - loss: 1.0249 - accuracy: 0.4895\n",
            "Epoch 73/100\n",
            "36/36 [==============================] - 9s 239ms/step - loss: 1.0225 - accuracy: 0.4886\n",
            "Epoch 74/100\n",
            "36/36 [==============================] - 8s 211ms/step - loss: 1.0257 - accuracy: 0.4807\n",
            "Epoch 75/100\n",
            "36/36 [==============================] - 8s 208ms/step - loss: 1.1675 - accuracy: 0.4877\n",
            "Epoch 76/100\n",
            "36/36 [==============================] - 8s 230ms/step - loss: 3.3359 - accuracy: 0.1854\n",
            "Epoch 77/100\n",
            "36/36 [==============================] - 7s 195ms/step - loss: 1.5054 - accuracy: 0.3409\n",
            "Epoch 78/100\n",
            "36/36 [==============================] - 8s 231ms/step - loss: 1.4872 - accuracy: 0.3409\n",
            "Epoch 79/100\n",
            "36/36 [==============================] - 8s 230ms/step - loss: 1.4812 - accuracy: 0.3409\n",
            "Epoch 80/100\n",
            "36/36 [==============================] - 7s 195ms/step - loss: 1.4753 - accuracy: 0.3409\n",
            "Epoch 81/100\n",
            "36/36 [==============================] - 8s 231ms/step - loss: 1.4697 - accuracy: 0.3409\n",
            "Epoch 82/100\n",
            "36/36 [==============================] - 7s 194ms/step - loss: 1.4634 - accuracy: 0.3409\n",
            "Epoch 83/100\n",
            "36/36 [==============================] - 8s 230ms/step - loss: 1.4567 - accuracy: 0.3409\n",
            "Epoch 84/100\n",
            "36/36 [==============================] - 9s 239ms/step - loss: 1.4457 - accuracy: 0.3409\n",
            "Epoch 85/100\n",
            "36/36 [==============================] - 7s 197ms/step - loss: 1.4309 - accuracy: 0.3409\n",
            "Epoch 86/100\n",
            "36/36 [==============================] - 8s 230ms/step - loss: 1.4093 - accuracy: 0.3409\n",
            "Epoch 87/100\n",
            "36/36 [==============================] - 7s 191ms/step - loss: 1.3710 - accuracy: 0.3875\n",
            "Epoch 88/100\n",
            "36/36 [==============================] - 8s 231ms/step - loss: 1.2945 - accuracy: 0.4947\n",
            "Epoch 89/100\n",
            "36/36 [==============================] - 8s 230ms/step - loss: 1.2043 - accuracy: 0.4974\n",
            "Epoch 90/100\n",
            "36/36 [==============================] - 7s 194ms/step - loss: 1.1491 - accuracy: 0.4974\n",
            "Epoch 91/100\n",
            "36/36 [==============================] - 8s 231ms/step - loss: 1.1121 - accuracy: 0.4974\n",
            "Epoch 92/100\n",
            "36/36 [==============================] - 7s 194ms/step - loss: 1.0857 - accuracy: 0.4974\n",
            "Epoch 93/100\n",
            "36/36 [==============================] - 8s 228ms/step - loss: 1.0715 - accuracy: 0.4974\n",
            "Epoch 94/100\n",
            "36/36 [==============================] - 8s 228ms/step - loss: 1.0564 - accuracy: 0.4974\n",
            "Epoch 95/100\n",
            "36/36 [==============================] - 7s 191ms/step - loss: 1.0557 - accuracy: 0.4974\n",
            "Epoch 96/100\n",
            "36/36 [==============================] - 8s 229ms/step - loss: 1.0495 - accuracy: 0.4974\n",
            "Epoch 97/100\n",
            "36/36 [==============================] - 7s 199ms/step - loss: 1.0439 - accuracy: 0.4974\n",
            "Epoch 98/100\n",
            "36/36 [==============================] - 8s 219ms/step - loss: 1.0413 - accuracy: 0.4974\n",
            "Epoch 99/100\n",
            "36/36 [==============================] - 8s 232ms/step - loss: 1.0376 - accuracy: 0.4965\n",
            "Epoch 100/100\n",
            "36/36 [==============================] - 7s 195ms/step - loss: 1.0247 - accuracy: 0.4974\n"
          ]
        },
        {
          "output_type": "execute_result",
          "data": {
            "text/plain": [
              "<keras.callbacks.History at 0x7f10d7505910>"
            ]
          },
          "metadata": {},
          "execution_count": 41
        }
      ]
    },
    {
      "cell_type": "markdown",
      "source": [
        "## Testing the model"
      ],
      "metadata": {
        "id": "-TVmgm0CAr2R"
      }
    },
    {
      "cell_type": "code",
      "source": [
        "y_pred_onehot = model.predict(X_test)\n",
        "\n",
        "y_pred = np.argmax(y_pred_onehot, axis=1)\n",
        "\n",
        "from sklearn.metrics import accuracy_score, precision_score, recall_score, f1_score\n",
        "from keras.utils import to_categorical\n",
        "\n",
        "y_pred_onehot = to_categorical(y_pred)"
      ],
      "metadata": {
        "colab": {
          "base_uri": "https://localhost:8080/"
        },
        "id": "UhgrXfmBrsQn",
        "outputId": "4a3cc3da-5e0f-40ef-815a-2d5b38bd901b"
      },
      "execution_count": 42,
      "outputs": [
        {
          "output_type": "stream",
          "name": "stdout",
          "text": [
            "16/16 [==============================] - 1s 56ms/step\n"
          ]
        }
      ]
    },
    {
      "cell_type": "markdown",
      "source": [
        "## Accuracy"
      ],
      "metadata": {
        "id": "IPegk1u5AmSn"
      }
    },
    {
      "cell_type": "code",
      "source": [
        "accuracy = accuracy_score(y_test, y_pred_onehot)\n",
        "precision = precision_score(y_test, y_pred_onehot, average='macro')\n",
        "recall = recall_score(y_test, y_pred_onehot, average='macro')\n",
        "f1 = f1_score(y_test, y_pred_onehot, average='macro')\n",
        "\n",
        "print(f\"Accuracy: {accuracy:.4f}\")"
      ],
      "metadata": {
        "colab": {
          "base_uri": "https://localhost:8080/"
        },
        "id": "q5Sxdum50t5L",
        "outputId": "639473dc-fec1-4174-afde-d94ab6f5e87c"
      },
      "execution_count": 43,
      "outputs": [
        {
          "output_type": "stream",
          "name": "stdout",
          "text": [
            "Accuracy: 0.4560\n"
          ]
        },
        {
          "output_type": "stream",
          "name": "stderr",
          "text": [
            "/usr/local/lib/python3.9/dist-packages/sklearn/metrics/_classification.py:1344: UndefinedMetricWarning: Precision is ill-defined and being set to 0.0 in labels with no predicted samples. Use `zero_division` parameter to control this behavior.\n",
            "  _warn_prf(average, modifier, msg_start, len(result))\n"
          ]
        }
      ]
    },
    {
      "cell_type": "code",
      "source": [
        "y_pred_onehot"
      ],
      "metadata": {
        "colab": {
          "base_uri": "https://localhost:8080/"
        },
        "id": "L57k_snWt1Hk",
        "outputId": "5cb79c7b-0079-45ce-b4ba-02fc83482e3a"
      },
      "execution_count": 44,
      "outputs": [
        {
          "output_type": "execute_result",
          "data": {
            "text/plain": [
              "array([[0., 0., 1., 0., 0.],\n",
              "       [0., 0., 1., 0., 0.],\n",
              "       [1., 0., 0., 0., 0.],\n",
              "       ...,\n",
              "       [1., 0., 0., 0., 0.],\n",
              "       [0., 0., 1., 0., 0.],\n",
              "       [0., 0., 1., 0., 0.]], dtype=float32)"
            ]
          },
          "metadata": {},
          "execution_count": 44
        }
      ]
    },
    {
      "cell_type": "code",
      "source": [
        "y_test"
      ],
      "metadata": {
        "colab": {
          "base_uri": "https://localhost:8080/"
        },
        "id": "_tZ7Sfsnw3Qe",
        "outputId": "4a636213-cf7d-4532-ca65-b66b9a67a2ec"
      },
      "execution_count": 45,
      "outputs": [
        {
          "output_type": "execute_result",
          "data": {
            "text/plain": [
              "array([[0., 0., 1., 0., 0.],\n",
              "       [0., 0., 1., 0., 0.],\n",
              "       [1., 0., 0., 0., 0.],\n",
              "       ...,\n",
              "       [1., 0., 0., 0., 0.],\n",
              "       [0., 1., 0., 0., 0.],\n",
              "       [0., 0., 1., 0., 0.]], dtype=float32)"
            ]
          },
          "metadata": {},
          "execution_count": 45
        }
      ]
    },
    {
      "cell_type": "markdown",
      "source": [
        "## Single Prediction"
      ],
      "metadata": {
        "id": "n_jmLdM0Ae3I"
      }
    },
    {
      "cell_type": "code",
      "source": [
        "x = X_test[0]\n",
        "\n",
        "x = np.reshape(x, (1, 501, 4))\n",
        "\n",
        "y_pred_onehot = model.predict(x)\n",
        "\n",
        "y_pred = np.argmax(y_pred_onehot, axis=1)\n",
        "\n",
        "labels = {1:'happy', 2:'sad', 3:'insecure', 4:'closed', 5:'open'}\n",
        "\n",
        "print(f\"Predicted label: {labels[y_pred[0]]}\")"
      ],
      "metadata": {
        "colab": {
          "base_uri": "https://localhost:8080/"
        },
        "id": "50LKQCgp-28r",
        "outputId": "84e82a4c-c0de-4705-88a9-b4c74eb92a9f"
      },
      "execution_count": 51,
      "outputs": [
        {
          "output_type": "stream",
          "name": "stdout",
          "text": [
            "1/1 [==============================] - 0s 56ms/step\n",
            "Predicted label: sad\n"
          ]
        }
      ]
    },
    {
      "cell_type": "code",
      "source": [],
      "metadata": {
        "id": "RFEhOKtZ-6bo"
      },
      "execution_count": null,
      "outputs": []
    }
  ]
}